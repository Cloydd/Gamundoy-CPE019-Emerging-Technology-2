{
  "nbformat": 4,
  "nbformat_minor": 0,
  "metadata": {
    "colab": {
      "provenance": [],
      "toc_visible": true
    },
    "kernelspec": {
      "name": "python3",
      "display_name": "Python 3"
    },
    "language_info": {
      "name": "python"
    }
  },
  "cells": [
    {
      "cell_type": "markdown",
      "source": [
        "Technological Institute of the Philippines | Quezon City - Computer Engineering\n",
        "--- | ---\n",
        "Course Code: | CPE 019\n",
        "Code Title: | Emerging Technologies 2 in CpE\n",
        "2nd Semester | AY 2023-2024\n",
        "<hr> | <hr>\n",
        "<u>**ACTIVITY NO.** | **Assignment 8.1 : Saving Models**\n",
        "**Name** | Gamundoy, Jon Aviv Cloydd S.\n",
        "**Section** | CPE32S3\n",
        "**Date Performed**: | 4/17/2024\n",
        "**Date Submitted**: | 4/18/2024\n",
        "**Instructor**: | Engr. Roman M. Richard\n",
        "\n",
        "<hr>"
      ],
      "metadata": {
        "id": "rngbot72TTxG"
      }
    },
    {
      "cell_type": "markdown",
      "source": [
        "# Choosing a Dataset and Problem Analysis"
      ],
      "metadata": {
        "id": "G2QVSaYQwM14"
      }
    },
    {
      "cell_type": "markdown",
      "source": [
        "## Loading the Dataset"
      ],
      "metadata": {
        "id": "jYxpT6pKDane"
      }
    },
    {
      "cell_type": "code",
      "source": [
        "pip install ucimlrepo"
      ],
      "metadata": {
        "colab": {
          "base_uri": "https://localhost:8080/"
        },
        "id": "6_4Fjg6mEjN4",
        "outputId": "3423d3db-3c35-4989-fdf1-1d9fc16f1e56"
      },
      "execution_count": null,
      "outputs": [
        {
          "output_type": "stream",
          "name": "stdout",
          "text": [
            "Requirement already satisfied: ucimlrepo in /usr/local/lib/python3.10/dist-packages (0.0.6)\n"
          ]
        }
      ]
    },
    {
      "cell_type": "code",
      "source": [
        "from ucimlrepo import fetch_ucirepo\n",
        "import pandas as pd\n",
        "import numpy as np\n",
        "\n",
        "# fetch dataset\n",
        "rice = fetch_ucirepo(id=545)\n",
        "\n",
        "# data (as pandas dataframes)\n",
        "data = pd.DataFrame(rice.data.original)"
      ],
      "metadata": {
        "id": "F6du08DcEj-w"
      },
      "execution_count": null,
      "outputs": []
    },
    {
      "cell_type": "markdown",
      "source": [
        "## Problem Analysis"
      ],
      "metadata": {
        "id": "M6P6kTDgDcql"
      }
    },
    {
      "cell_type": "markdown",
      "source": [
        "Dataset is obtained through [UCI Learning](https://archive.ics.uci.edu/dataset/863/maternal+health+risk).\n",
        "\n",
        "The dataset contains information about features of rice and aims to identify which kind it is (Cammeo or Osmanick)\n",
        "\n",
        "Below is the features and short description\n",
        "- Area | Returns the number of pixels within the boundaries of the rice grain\n",
        "- Perimeter | Calculates the circumference by calculating the distance between pixels around the boundaries of the rice grain\n",
        "- Major_Axis_length | The longest line that can be drawn on the rice grain, i.e. the main axis distance, gives\n",
        "- Minor_Axis_lenght | The shortest line that can be drawn on the rice grain, i.e. the small axis distance, gives\n",
        "- Eccentricity | It measures how round the ellipse, which has the same moments as the rice grain, is\n",
        "- Convex_Area | Returns the pixel count of the smallest convex shell of the region formed by the rice grain\n",
        "- Extent | Returns the ratio of the region formed by the rice grain to the bounding box\n",
        "- Class | Cammeo and Osmancik"
      ],
      "metadata": {
        "id": "wlvEIoPhCw2U"
      }
    },
    {
      "cell_type": "markdown",
      "source": [
        "## Dataset Contents and Statistics"
      ],
      "metadata": {
        "id": "AsJ1M-7ODe4l"
      }
    },
    {
      "cell_type": "code",
      "source": [
        "data.head(20)"
      ],
      "metadata": {
        "colab": {
          "base_uri": "https://localhost:8080/",
          "height": 676
        },
        "id": "UKGqKayfDkhE",
        "outputId": "2b4c507d-c48a-4ffb-a45b-6149f14362c3"
      },
      "execution_count": null,
      "outputs": [
        {
          "output_type": "execute_result",
          "data": {
            "text/plain": [
              "     Area   Perimeter  Major_Axis_Length  Minor_Axis_Length  Eccentricity  \\\n",
              "0   15231  525.578979         229.749878          85.093788      0.928882   \n",
              "1   14656  494.311005         206.020065          91.730972      0.895405   \n",
              "2   14634  501.122009         214.106781          87.768288      0.912118   \n",
              "3   13176  458.342987         193.337387          87.448395      0.891861   \n",
              "4   14688  507.166992         211.743378          89.312454      0.906691   \n",
              "5   13479  477.015991         200.053055          86.650291      0.901328   \n",
              "6   15757  509.281006         207.296677          98.336136      0.880323   \n",
              "7   16405  526.570007         221.612518          95.436707      0.902521   \n",
              "8   14534  483.640991         196.650818          95.050682      0.875429   \n",
              "9   13485  471.570007         198.272644          87.727287      0.896789   \n",
              "10  14930  499.924988         212.245819          90.017479      0.905606   \n",
              "11  14626  496.585999         204.534134          92.974869      0.890712   \n",
              "12  15926  522.739990         225.736053          91.057091      0.915033   \n",
              "13  14076  479.677002         199.489151          90.709984      0.890639   \n",
              "14  13500  476.915008         202.546677          85.405472      0.906755   \n",
              "15  14349  496.946014         213.544022          86.160774      0.914988   \n",
              "16  15209  496.565002         214.050079          91.026321      0.905073   \n",
              "17  15238  496.871002         208.531784          93.828400      0.893055   \n",
              "18  13509  480.466003         207.137161          83.940163      0.914211   \n",
              "19  13699  480.729004         197.970917          89.949074      0.890821   \n",
              "\n",
              "    Convex_Area    Extent   Class  \n",
              "0         15617  0.572896  Cammeo  \n",
              "1         15072  0.615436  Cammeo  \n",
              "2         14954  0.693259  Cammeo  \n",
              "3         13368  0.640669  Cammeo  \n",
              "4         15262  0.646024  Cammeo  \n",
              "5         13786  0.657897  Cammeo  \n",
              "6         16150  0.589708  Cammeo  \n",
              "7         16837  0.658888  Cammeo  \n",
              "8         14932  0.649651  Cammeo  \n",
              "9         13734  0.572320  Cammeo  \n",
              "10        15248  0.624373  Cammeo  \n",
              "11        15070  0.570214  Cammeo  \n",
              "12        16240  0.779769  Cammeo  \n",
              "13        14434  0.781219  Cammeo  \n",
              "14        13800  0.717703  Cammeo  \n",
              "15        14678  0.666837  Cammeo  \n",
              "16        15395  0.569370  Cammeo  \n",
              "17        15487  0.732314  Cammeo  \n",
              "18        13732  0.595635  Cammeo  \n",
              "19        14178  0.672047  Cammeo  "
            ],
            "text/html": [
              "\n",
              "  <div id=\"df-328a1745-104c-42b1-a18b-cfe361b904de\" class=\"colab-df-container\">\n",
              "    <div>\n",
              "<style scoped>\n",
              "    .dataframe tbody tr th:only-of-type {\n",
              "        vertical-align: middle;\n",
              "    }\n",
              "\n",
              "    .dataframe tbody tr th {\n",
              "        vertical-align: top;\n",
              "    }\n",
              "\n",
              "    .dataframe thead th {\n",
              "        text-align: right;\n",
              "    }\n",
              "</style>\n",
              "<table border=\"1\" class=\"dataframe\">\n",
              "  <thead>\n",
              "    <tr style=\"text-align: right;\">\n",
              "      <th></th>\n",
              "      <th>Area</th>\n",
              "      <th>Perimeter</th>\n",
              "      <th>Major_Axis_Length</th>\n",
              "      <th>Minor_Axis_Length</th>\n",
              "      <th>Eccentricity</th>\n",
              "      <th>Convex_Area</th>\n",
              "      <th>Extent</th>\n",
              "      <th>Class</th>\n",
              "    </tr>\n",
              "  </thead>\n",
              "  <tbody>\n",
              "    <tr>\n",
              "      <th>0</th>\n",
              "      <td>15231</td>\n",
              "      <td>525.578979</td>\n",
              "      <td>229.749878</td>\n",
              "      <td>85.093788</td>\n",
              "      <td>0.928882</td>\n",
              "      <td>15617</td>\n",
              "      <td>0.572896</td>\n",
              "      <td>Cammeo</td>\n",
              "    </tr>\n",
              "    <tr>\n",
              "      <th>1</th>\n",
              "      <td>14656</td>\n",
              "      <td>494.311005</td>\n",
              "      <td>206.020065</td>\n",
              "      <td>91.730972</td>\n",
              "      <td>0.895405</td>\n",
              "      <td>15072</td>\n",
              "      <td>0.615436</td>\n",
              "      <td>Cammeo</td>\n",
              "    </tr>\n",
              "    <tr>\n",
              "      <th>2</th>\n",
              "      <td>14634</td>\n",
              "      <td>501.122009</td>\n",
              "      <td>214.106781</td>\n",
              "      <td>87.768288</td>\n",
              "      <td>0.912118</td>\n",
              "      <td>14954</td>\n",
              "      <td>0.693259</td>\n",
              "      <td>Cammeo</td>\n",
              "    </tr>\n",
              "    <tr>\n",
              "      <th>3</th>\n",
              "      <td>13176</td>\n",
              "      <td>458.342987</td>\n",
              "      <td>193.337387</td>\n",
              "      <td>87.448395</td>\n",
              "      <td>0.891861</td>\n",
              "      <td>13368</td>\n",
              "      <td>0.640669</td>\n",
              "      <td>Cammeo</td>\n",
              "    </tr>\n",
              "    <tr>\n",
              "      <th>4</th>\n",
              "      <td>14688</td>\n",
              "      <td>507.166992</td>\n",
              "      <td>211.743378</td>\n",
              "      <td>89.312454</td>\n",
              "      <td>0.906691</td>\n",
              "      <td>15262</td>\n",
              "      <td>0.646024</td>\n",
              "      <td>Cammeo</td>\n",
              "    </tr>\n",
              "    <tr>\n",
              "      <th>5</th>\n",
              "      <td>13479</td>\n",
              "      <td>477.015991</td>\n",
              "      <td>200.053055</td>\n",
              "      <td>86.650291</td>\n",
              "      <td>0.901328</td>\n",
              "      <td>13786</td>\n",
              "      <td>0.657897</td>\n",
              "      <td>Cammeo</td>\n",
              "    </tr>\n",
              "    <tr>\n",
              "      <th>6</th>\n",
              "      <td>15757</td>\n",
              "      <td>509.281006</td>\n",
              "      <td>207.296677</td>\n",
              "      <td>98.336136</td>\n",
              "      <td>0.880323</td>\n",
              "      <td>16150</td>\n",
              "      <td>0.589708</td>\n",
              "      <td>Cammeo</td>\n",
              "    </tr>\n",
              "    <tr>\n",
              "      <th>7</th>\n",
              "      <td>16405</td>\n",
              "      <td>526.570007</td>\n",
              "      <td>221.612518</td>\n",
              "      <td>95.436707</td>\n",
              "      <td>0.902521</td>\n",
              "      <td>16837</td>\n",
              "      <td>0.658888</td>\n",
              "      <td>Cammeo</td>\n",
              "    </tr>\n",
              "    <tr>\n",
              "      <th>8</th>\n",
              "      <td>14534</td>\n",
              "      <td>483.640991</td>\n",
              "      <td>196.650818</td>\n",
              "      <td>95.050682</td>\n",
              "      <td>0.875429</td>\n",
              "      <td>14932</td>\n",
              "      <td>0.649651</td>\n",
              "      <td>Cammeo</td>\n",
              "    </tr>\n",
              "    <tr>\n",
              "      <th>9</th>\n",
              "      <td>13485</td>\n",
              "      <td>471.570007</td>\n",
              "      <td>198.272644</td>\n",
              "      <td>87.727287</td>\n",
              "      <td>0.896789</td>\n",
              "      <td>13734</td>\n",
              "      <td>0.572320</td>\n",
              "      <td>Cammeo</td>\n",
              "    </tr>\n",
              "    <tr>\n",
              "      <th>10</th>\n",
              "      <td>14930</td>\n",
              "      <td>499.924988</td>\n",
              "      <td>212.245819</td>\n",
              "      <td>90.017479</td>\n",
              "      <td>0.905606</td>\n",
              "      <td>15248</td>\n",
              "      <td>0.624373</td>\n",
              "      <td>Cammeo</td>\n",
              "    </tr>\n",
              "    <tr>\n",
              "      <th>11</th>\n",
              "      <td>14626</td>\n",
              "      <td>496.585999</td>\n",
              "      <td>204.534134</td>\n",
              "      <td>92.974869</td>\n",
              "      <td>0.890712</td>\n",
              "      <td>15070</td>\n",
              "      <td>0.570214</td>\n",
              "      <td>Cammeo</td>\n",
              "    </tr>\n",
              "    <tr>\n",
              "      <th>12</th>\n",
              "      <td>15926</td>\n",
              "      <td>522.739990</td>\n",
              "      <td>225.736053</td>\n",
              "      <td>91.057091</td>\n",
              "      <td>0.915033</td>\n",
              "      <td>16240</td>\n",
              "      <td>0.779769</td>\n",
              "      <td>Cammeo</td>\n",
              "    </tr>\n",
              "    <tr>\n",
              "      <th>13</th>\n",
              "      <td>14076</td>\n",
              "      <td>479.677002</td>\n",
              "      <td>199.489151</td>\n",
              "      <td>90.709984</td>\n",
              "      <td>0.890639</td>\n",
              "      <td>14434</td>\n",
              "      <td>0.781219</td>\n",
              "      <td>Cammeo</td>\n",
              "    </tr>\n",
              "    <tr>\n",
              "      <th>14</th>\n",
              "      <td>13500</td>\n",
              "      <td>476.915008</td>\n",
              "      <td>202.546677</td>\n",
              "      <td>85.405472</td>\n",
              "      <td>0.906755</td>\n",
              "      <td>13800</td>\n",
              "      <td>0.717703</td>\n",
              "      <td>Cammeo</td>\n",
              "    </tr>\n",
              "    <tr>\n",
              "      <th>15</th>\n",
              "      <td>14349</td>\n",
              "      <td>496.946014</td>\n",
              "      <td>213.544022</td>\n",
              "      <td>86.160774</td>\n",
              "      <td>0.914988</td>\n",
              "      <td>14678</td>\n",
              "      <td>0.666837</td>\n",
              "      <td>Cammeo</td>\n",
              "    </tr>\n",
              "    <tr>\n",
              "      <th>16</th>\n",
              "      <td>15209</td>\n",
              "      <td>496.565002</td>\n",
              "      <td>214.050079</td>\n",
              "      <td>91.026321</td>\n",
              "      <td>0.905073</td>\n",
              "      <td>15395</td>\n",
              "      <td>0.569370</td>\n",
              "      <td>Cammeo</td>\n",
              "    </tr>\n",
              "    <tr>\n",
              "      <th>17</th>\n",
              "      <td>15238</td>\n",
              "      <td>496.871002</td>\n",
              "      <td>208.531784</td>\n",
              "      <td>93.828400</td>\n",
              "      <td>0.893055</td>\n",
              "      <td>15487</td>\n",
              "      <td>0.732314</td>\n",
              "      <td>Cammeo</td>\n",
              "    </tr>\n",
              "    <tr>\n",
              "      <th>18</th>\n",
              "      <td>13509</td>\n",
              "      <td>480.466003</td>\n",
              "      <td>207.137161</td>\n",
              "      <td>83.940163</td>\n",
              "      <td>0.914211</td>\n",
              "      <td>13732</td>\n",
              "      <td>0.595635</td>\n",
              "      <td>Cammeo</td>\n",
              "    </tr>\n",
              "    <tr>\n",
              "      <th>19</th>\n",
              "      <td>13699</td>\n",
              "      <td>480.729004</td>\n",
              "      <td>197.970917</td>\n",
              "      <td>89.949074</td>\n",
              "      <td>0.890821</td>\n",
              "      <td>14178</td>\n",
              "      <td>0.672047</td>\n",
              "      <td>Cammeo</td>\n",
              "    </tr>\n",
              "  </tbody>\n",
              "</table>\n",
              "</div>\n",
              "    <div class=\"colab-df-buttons\">\n",
              "\n",
              "  <div class=\"colab-df-container\">\n",
              "    <button class=\"colab-df-convert\" onclick=\"convertToInteractive('df-328a1745-104c-42b1-a18b-cfe361b904de')\"\n",
              "            title=\"Convert this dataframe to an interactive table.\"\n",
              "            style=\"display:none;\">\n",
              "\n",
              "  <svg xmlns=\"http://www.w3.org/2000/svg\" height=\"24px\" viewBox=\"0 -960 960 960\">\n",
              "    <path d=\"M120-120v-720h720v720H120Zm60-500h600v-160H180v160Zm220 220h160v-160H400v160Zm0 220h160v-160H400v160ZM180-400h160v-160H180v160Zm440 0h160v-160H620v160ZM180-180h160v-160H180v160Zm440 0h160v-160H620v160Z\"/>\n",
              "  </svg>\n",
              "    </button>\n",
              "\n",
              "  <style>\n",
              "    .colab-df-container {\n",
              "      display:flex;\n",
              "      gap: 12px;\n",
              "    }\n",
              "\n",
              "    .colab-df-convert {\n",
              "      background-color: #E8F0FE;\n",
              "      border: none;\n",
              "      border-radius: 50%;\n",
              "      cursor: pointer;\n",
              "      display: none;\n",
              "      fill: #1967D2;\n",
              "      height: 32px;\n",
              "      padding: 0 0 0 0;\n",
              "      width: 32px;\n",
              "    }\n",
              "\n",
              "    .colab-df-convert:hover {\n",
              "      background-color: #E2EBFA;\n",
              "      box-shadow: 0px 1px 2px rgba(60, 64, 67, 0.3), 0px 1px 3px 1px rgba(60, 64, 67, 0.15);\n",
              "      fill: #174EA6;\n",
              "    }\n",
              "\n",
              "    .colab-df-buttons div {\n",
              "      margin-bottom: 4px;\n",
              "    }\n",
              "\n",
              "    [theme=dark] .colab-df-convert {\n",
              "      background-color: #3B4455;\n",
              "      fill: #D2E3FC;\n",
              "    }\n",
              "\n",
              "    [theme=dark] .colab-df-convert:hover {\n",
              "      background-color: #434B5C;\n",
              "      box-shadow: 0px 1px 3px 1px rgba(0, 0, 0, 0.15);\n",
              "      filter: drop-shadow(0px 1px 2px rgba(0, 0, 0, 0.3));\n",
              "      fill: #FFFFFF;\n",
              "    }\n",
              "  </style>\n",
              "\n",
              "    <script>\n",
              "      const buttonEl =\n",
              "        document.querySelector('#df-328a1745-104c-42b1-a18b-cfe361b904de button.colab-df-convert');\n",
              "      buttonEl.style.display =\n",
              "        google.colab.kernel.accessAllowed ? 'block' : 'none';\n",
              "\n",
              "      async function convertToInteractive(key) {\n",
              "        const element = document.querySelector('#df-328a1745-104c-42b1-a18b-cfe361b904de');\n",
              "        const dataTable =\n",
              "          await google.colab.kernel.invokeFunction('convertToInteractive',\n",
              "                                                    [key], {});\n",
              "        if (!dataTable) return;\n",
              "\n",
              "        const docLinkHtml = 'Like what you see? Visit the ' +\n",
              "          '<a target=\"_blank\" href=https://colab.research.google.com/notebooks/data_table.ipynb>data table notebook</a>'\n",
              "          + ' to learn more about interactive tables.';\n",
              "        element.innerHTML = '';\n",
              "        dataTable['output_type'] = 'display_data';\n",
              "        await google.colab.output.renderOutput(dataTable, element);\n",
              "        const docLink = document.createElement('div');\n",
              "        docLink.innerHTML = docLinkHtml;\n",
              "        element.appendChild(docLink);\n",
              "      }\n",
              "    </script>\n",
              "  </div>\n",
              "\n",
              "\n",
              "<div id=\"df-dfbba37e-48d5-4ad0-b10f-880c54a6e456\">\n",
              "  <button class=\"colab-df-quickchart\" onclick=\"quickchart('df-dfbba37e-48d5-4ad0-b10f-880c54a6e456')\"\n",
              "            title=\"Suggest charts\"\n",
              "            style=\"display:none;\">\n",
              "\n",
              "<svg xmlns=\"http://www.w3.org/2000/svg\" height=\"24px\"viewBox=\"0 0 24 24\"\n",
              "     width=\"24px\">\n",
              "    <g>\n",
              "        <path d=\"M19 3H5c-1.1 0-2 .9-2 2v14c0 1.1.9 2 2 2h14c1.1 0 2-.9 2-2V5c0-1.1-.9-2-2-2zM9 17H7v-7h2v7zm4 0h-2V7h2v10zm4 0h-2v-4h2v4z\"/>\n",
              "    </g>\n",
              "</svg>\n",
              "  </button>\n",
              "\n",
              "<style>\n",
              "  .colab-df-quickchart {\n",
              "      --bg-color: #E8F0FE;\n",
              "      --fill-color: #1967D2;\n",
              "      --hover-bg-color: #E2EBFA;\n",
              "      --hover-fill-color: #174EA6;\n",
              "      --disabled-fill-color: #AAA;\n",
              "      --disabled-bg-color: #DDD;\n",
              "  }\n",
              "\n",
              "  [theme=dark] .colab-df-quickchart {\n",
              "      --bg-color: #3B4455;\n",
              "      --fill-color: #D2E3FC;\n",
              "      --hover-bg-color: #434B5C;\n",
              "      --hover-fill-color: #FFFFFF;\n",
              "      --disabled-bg-color: #3B4455;\n",
              "      --disabled-fill-color: #666;\n",
              "  }\n",
              "\n",
              "  .colab-df-quickchart {\n",
              "    background-color: var(--bg-color);\n",
              "    border: none;\n",
              "    border-radius: 50%;\n",
              "    cursor: pointer;\n",
              "    display: none;\n",
              "    fill: var(--fill-color);\n",
              "    height: 32px;\n",
              "    padding: 0;\n",
              "    width: 32px;\n",
              "  }\n",
              "\n",
              "  .colab-df-quickchart:hover {\n",
              "    background-color: var(--hover-bg-color);\n",
              "    box-shadow: 0 1px 2px rgba(60, 64, 67, 0.3), 0 1px 3px 1px rgba(60, 64, 67, 0.15);\n",
              "    fill: var(--button-hover-fill-color);\n",
              "  }\n",
              "\n",
              "  .colab-df-quickchart-complete:disabled,\n",
              "  .colab-df-quickchart-complete:disabled:hover {\n",
              "    background-color: var(--disabled-bg-color);\n",
              "    fill: var(--disabled-fill-color);\n",
              "    box-shadow: none;\n",
              "  }\n",
              "\n",
              "  .colab-df-spinner {\n",
              "    border: 2px solid var(--fill-color);\n",
              "    border-color: transparent;\n",
              "    border-bottom-color: var(--fill-color);\n",
              "    animation:\n",
              "      spin 1s steps(1) infinite;\n",
              "  }\n",
              "\n",
              "  @keyframes spin {\n",
              "    0% {\n",
              "      border-color: transparent;\n",
              "      border-bottom-color: var(--fill-color);\n",
              "      border-left-color: var(--fill-color);\n",
              "    }\n",
              "    20% {\n",
              "      border-color: transparent;\n",
              "      border-left-color: var(--fill-color);\n",
              "      border-top-color: var(--fill-color);\n",
              "    }\n",
              "    30% {\n",
              "      border-color: transparent;\n",
              "      border-left-color: var(--fill-color);\n",
              "      border-top-color: var(--fill-color);\n",
              "      border-right-color: var(--fill-color);\n",
              "    }\n",
              "    40% {\n",
              "      border-color: transparent;\n",
              "      border-right-color: var(--fill-color);\n",
              "      border-top-color: var(--fill-color);\n",
              "    }\n",
              "    60% {\n",
              "      border-color: transparent;\n",
              "      border-right-color: var(--fill-color);\n",
              "    }\n",
              "    80% {\n",
              "      border-color: transparent;\n",
              "      border-right-color: var(--fill-color);\n",
              "      border-bottom-color: var(--fill-color);\n",
              "    }\n",
              "    90% {\n",
              "      border-color: transparent;\n",
              "      border-bottom-color: var(--fill-color);\n",
              "    }\n",
              "  }\n",
              "</style>\n",
              "\n",
              "  <script>\n",
              "    async function quickchart(key) {\n",
              "      const quickchartButtonEl =\n",
              "        document.querySelector('#' + key + ' button');\n",
              "      quickchartButtonEl.disabled = true;  // To prevent multiple clicks.\n",
              "      quickchartButtonEl.classList.add('colab-df-spinner');\n",
              "      try {\n",
              "        const charts = await google.colab.kernel.invokeFunction(\n",
              "            'suggestCharts', [key], {});\n",
              "      } catch (error) {\n",
              "        console.error('Error during call to suggestCharts:', error);\n",
              "      }\n",
              "      quickchartButtonEl.classList.remove('colab-df-spinner');\n",
              "      quickchartButtonEl.classList.add('colab-df-quickchart-complete');\n",
              "    }\n",
              "    (() => {\n",
              "      let quickchartButtonEl =\n",
              "        document.querySelector('#df-dfbba37e-48d5-4ad0-b10f-880c54a6e456 button');\n",
              "      quickchartButtonEl.style.display =\n",
              "        google.colab.kernel.accessAllowed ? 'block' : 'none';\n",
              "    })();\n",
              "  </script>\n",
              "</div>\n",
              "    </div>\n",
              "  </div>\n"
            ],
            "application/vnd.google.colaboratory.intrinsic+json": {
              "type": "dataframe",
              "variable_name": "data",
              "summary": "{\n  \"name\": \"data\",\n  \"rows\": 3810,\n  \"fields\": [\n    {\n      \"column\": \"Area\",\n      \"properties\": {\n        \"dtype\": \"number\",\n        \"std\": 1732,\n        \"min\": 7551,\n        \"max\": 18913,\n        \"num_unique_values\": 2828,\n        \"samples\": [\n          11144,\n          11898,\n          12051\n        ],\n        \"semantic_type\": \"\",\n        \"description\": \"\"\n      }\n    },\n    {\n      \"column\": \"Perimeter\",\n      \"properties\": {\n        \"dtype\": \"number\",\n        \"std\": 35.59708144220462,\n        \"min\": 359.1000061,\n        \"max\": 548.4459839,\n        \"num_unique_values\": 3738,\n        \"samples\": [\n          469.6080017,\n          516.3649902,\n          477.493988\n        ],\n        \"semantic_type\": \"\",\n        \"description\": \"\"\n      }\n    },\n    {\n      \"column\": \"Major_Axis_Length\",\n      \"properties\": {\n        \"dtype\": \"number\",\n        \"std\": 17.44867850111315,\n        \"min\": 145.2644653,\n        \"max\": 239.010498,\n        \"num_unique_values\": 3808,\n        \"samples\": [\n          211.1375732,\n          191.0631714,\n          187.9770966\n        ],\n        \"semantic_type\": \"\",\n        \"description\": \"\"\n      }\n    },\n    {\n      \"column\": \"Minor_Axis_Length\",\n      \"properties\": {\n        \"dtype\": \"number\",\n        \"std\": 5.729817333702081,\n        \"min\": 59.53240585,\n        \"max\": 107.54245,\n        \"num_unique_values\": 3804,\n        \"samples\": [\n          85.83971405,\n          84.88217926,\n          86.1084671\n        ],\n        \"semantic_type\": \"\",\n        \"description\": \"\"\n      }\n    },\n    {\n      \"column\": \"Eccentricity\",\n      \"properties\": {\n        \"dtype\": \"number\",\n        \"std\": 0.020817634100670838,\n        \"min\": 0.777232587,\n        \"max\": 0.948006928,\n        \"num_unique_values\": 3803,\n        \"samples\": [\n          0.899795711,\n          0.900991857,\n          0.89779532\n        ],\n        \"semantic_type\": \"\",\n        \"description\": \"\"\n      }\n    },\n    {\n      \"column\": \"Convex_Area\",\n      \"properties\": {\n        \"dtype\": \"number\",\n        \"std\": 1776,\n        \"min\": 7723,\n        \"max\": 19099,\n        \"num_unique_values\": 2857,\n        \"samples\": [\n          9555,\n          10576,\n          13738\n        ],\n        \"semantic_type\": \"\",\n        \"description\": \"\"\n      }\n    },\n    {\n      \"column\": \"Extent\",\n      \"properties\": {\n        \"dtype\": \"number\",\n        \"std\": 0.07723877329086311,\n        \"min\": 0.49741286,\n        \"max\": 0.861049533,\n        \"num_unique_values\": 3804,\n        \"samples\": [\n          0.580311894,\n          0.635325909,\n          0.579114974\n        ],\n        \"semantic_type\": \"\",\n        \"description\": \"\"\n      }\n    },\n    {\n      \"column\": \"Class\",\n      \"properties\": {\n        \"dtype\": \"category\",\n        \"num_unique_values\": 2,\n        \"samples\": [\n          \"Osmancik\",\n          \"Cammeo\"\n        ],\n        \"semantic_type\": \"\",\n        \"description\": \"\"\n      }\n    }\n  ]\n}"
            }
          },
          "metadata": {},
          "execution_count": 96
        }
      ]
    },
    {
      "cell_type": "code",
      "source": [
        "data.info()"
      ],
      "metadata": {
        "colab": {
          "base_uri": "https://localhost:8080/"
        },
        "id": "MahpOykRDovE",
        "outputId": "8b5c6770-8994-4f70-e455-29120c9b34b2"
      },
      "execution_count": null,
      "outputs": [
        {
          "output_type": "stream",
          "name": "stdout",
          "text": [
            "<class 'pandas.core.frame.DataFrame'>\n",
            "RangeIndex: 3810 entries, 0 to 3809\n",
            "Data columns (total 8 columns):\n",
            " #   Column             Non-Null Count  Dtype  \n",
            "---  ------             --------------  -----  \n",
            " 0   Area               3810 non-null   int64  \n",
            " 1   Perimeter          3810 non-null   float64\n",
            " 2   Major_Axis_Length  3810 non-null   float64\n",
            " 3   Minor_Axis_Length  3810 non-null   float64\n",
            " 4   Eccentricity       3810 non-null   float64\n",
            " 5   Convex_Area        3810 non-null   int64  \n",
            " 6   Extent             3810 non-null   float64\n",
            " 7   Class              3810 non-null   object \n",
            "dtypes: float64(5), int64(2), object(1)\n",
            "memory usage: 238.2+ KB\n"
          ]
        }
      ]
    },
    {
      "cell_type": "markdown",
      "source": [
        "# Data Pre-processing"
      ],
      "metadata": {
        "id": "5SFu71Q7-WB_"
      }
    },
    {
      "cell_type": "markdown",
      "source": [
        "## Data Transformation"
      ],
      "metadata": {
        "id": "yuokz3ZSS3ct"
      }
    },
    {
      "cell_type": "code",
      "source": [
        "features = data.columns.difference(['Class'])\n",
        "features"
      ],
      "metadata": {
        "colab": {
          "base_uri": "https://localhost:8080/"
        },
        "id": "0nEUMf6F-YP3",
        "outputId": "eaa7630c-bf77-48d5-d96f-9bec9925aaba"
      },
      "execution_count": null,
      "outputs": [
        {
          "output_type": "execute_result",
          "data": {
            "text/plain": [
              "Index(['Area', 'Convex_Area', 'Eccentricity', 'Extent', 'Major_Axis_Length',\n",
              "       'Minor_Axis_Length', 'Perimeter'],\n",
              "      dtype='object')"
            ]
          },
          "metadata": {},
          "execution_count": 98
        }
      ]
    },
    {
      "cell_type": "markdown",
      "source": [
        "We will now transform the data into the appropriate data type using Label Encoder"
      ],
      "metadata": {
        "id": "ode6sqYgS7Kl"
      }
    },
    {
      "cell_type": "code",
      "source": [
        "data[\"Class\"].value_counts()"
      ],
      "metadata": {
        "colab": {
          "base_uri": "https://localhost:8080/"
        },
        "id": "FT-woVD4rgXS",
        "outputId": "44e34b9b-eeff-4672-b14e-62f64e674ffd"
      },
      "execution_count": null,
      "outputs": [
        {
          "output_type": "execute_result",
          "data": {
            "text/plain": [
              "Class\n",
              "Osmancik    2180\n",
              "Cammeo      1630\n",
              "Name: count, dtype: int64"
            ]
          },
          "metadata": {},
          "execution_count": 99
        }
      ]
    },
    {
      "cell_type": "code",
      "source": [
        "from sklearn import preprocessing\n",
        "\n",
        "# Initiate label encoder object\n",
        "label_encoder = preprocessing.LabelEncoder()\n",
        "\n",
        "# Encode categorical data\n",
        "data[\"Class\"] = label_encoder.fit_transform(data[\"Class\"])\n",
        "\n",
        "# Check\n",
        "data[\"Class\"].value_counts()"
      ],
      "metadata": {
        "colab": {
          "base_uri": "https://localhost:8080/"
        },
        "id": "8sF-TWVYKUag",
        "outputId": "e65ffa92-08a0-436e-e2ef-691abd2747e3"
      },
      "execution_count": null,
      "outputs": [
        {
          "output_type": "execute_result",
          "data": {
            "text/plain": [
              "Class\n",
              "1    2180\n",
              "0    1630\n",
              "Name: count, dtype: int64"
            ]
          },
          "metadata": {},
          "execution_count": 100
        }
      ]
    },
    {
      "cell_type": "code",
      "source": [
        "for item in data.columns:\n",
        "  data[f\"{item}\"] = data[f\"{item}\"].astype('float64')"
      ],
      "metadata": {
        "id": "1dqyewofzc32"
      },
      "execution_count": null,
      "outputs": []
    },
    {
      "cell_type": "code",
      "source": [
        "data.info()"
      ],
      "metadata": {
        "colab": {
          "base_uri": "https://localhost:8080/"
        },
        "id": "RiN_funawOxI",
        "outputId": "1df08cf1-08e7-47b1-db39-cc7f2101e207"
      },
      "execution_count": null,
      "outputs": [
        {
          "output_type": "stream",
          "name": "stdout",
          "text": [
            "<class 'pandas.core.frame.DataFrame'>\n",
            "RangeIndex: 3810 entries, 0 to 3809\n",
            "Data columns (total 8 columns):\n",
            " #   Column             Non-Null Count  Dtype  \n",
            "---  ------             --------------  -----  \n",
            " 0   Area               3810 non-null   float64\n",
            " 1   Perimeter          3810 non-null   float64\n",
            " 2   Major_Axis_Length  3810 non-null   float64\n",
            " 3   Minor_Axis_Length  3810 non-null   float64\n",
            " 4   Eccentricity       3810 non-null   float64\n",
            " 5   Convex_Area        3810 non-null   float64\n",
            " 6   Extent             3810 non-null   float64\n",
            " 7   Class              3810 non-null   float64\n",
            "dtypes: float64(8)\n",
            "memory usage: 238.2 KB\n"
          ]
        }
      ]
    },
    {
      "cell_type": "code",
      "source": [
        "data.head(20)"
      ],
      "metadata": {
        "colab": {
          "base_uri": "https://localhost:8080/",
          "height": 676
        },
        "id": "rUWPYO0cSeBe",
        "outputId": "464c931a-439d-411b-e9bd-2afd8acbaadc"
      },
      "execution_count": null,
      "outputs": [
        {
          "output_type": "execute_result",
          "data": {
            "text/plain": [
              "       Area   Perimeter  Major_Axis_Length  Minor_Axis_Length  Eccentricity  \\\n",
              "0   15231.0  525.578979         229.749878          85.093788      0.928882   \n",
              "1   14656.0  494.311005         206.020065          91.730972      0.895405   \n",
              "2   14634.0  501.122009         214.106781          87.768288      0.912118   \n",
              "3   13176.0  458.342987         193.337387          87.448395      0.891861   \n",
              "4   14688.0  507.166992         211.743378          89.312454      0.906691   \n",
              "5   13479.0  477.015991         200.053055          86.650291      0.901328   \n",
              "6   15757.0  509.281006         207.296677          98.336136      0.880323   \n",
              "7   16405.0  526.570007         221.612518          95.436707      0.902521   \n",
              "8   14534.0  483.640991         196.650818          95.050682      0.875429   \n",
              "9   13485.0  471.570007         198.272644          87.727287      0.896789   \n",
              "10  14930.0  499.924988         212.245819          90.017479      0.905606   \n",
              "11  14626.0  496.585999         204.534134          92.974869      0.890712   \n",
              "12  15926.0  522.739990         225.736053          91.057091      0.915033   \n",
              "13  14076.0  479.677002         199.489151          90.709984      0.890639   \n",
              "14  13500.0  476.915008         202.546677          85.405472      0.906755   \n",
              "15  14349.0  496.946014         213.544022          86.160774      0.914988   \n",
              "16  15209.0  496.565002         214.050079          91.026321      0.905073   \n",
              "17  15238.0  496.871002         208.531784          93.828400      0.893055   \n",
              "18  13509.0  480.466003         207.137161          83.940163      0.914211   \n",
              "19  13699.0  480.729004         197.970917          89.949074      0.890821   \n",
              "\n",
              "    Convex_Area    Extent  Class  \n",
              "0       15617.0  0.572896    0.0  \n",
              "1       15072.0  0.615436    0.0  \n",
              "2       14954.0  0.693259    0.0  \n",
              "3       13368.0  0.640669    0.0  \n",
              "4       15262.0  0.646024    0.0  \n",
              "5       13786.0  0.657897    0.0  \n",
              "6       16150.0  0.589708    0.0  \n",
              "7       16837.0  0.658888    0.0  \n",
              "8       14932.0  0.649651    0.0  \n",
              "9       13734.0  0.572320    0.0  \n",
              "10      15248.0  0.624373    0.0  \n",
              "11      15070.0  0.570214    0.0  \n",
              "12      16240.0  0.779769    0.0  \n",
              "13      14434.0  0.781219    0.0  \n",
              "14      13800.0  0.717703    0.0  \n",
              "15      14678.0  0.666837    0.0  \n",
              "16      15395.0  0.569370    0.0  \n",
              "17      15487.0  0.732314    0.0  \n",
              "18      13732.0  0.595635    0.0  \n",
              "19      14178.0  0.672047    0.0  "
            ],
            "text/html": [
              "\n",
              "  <div id=\"df-eb7d371e-938b-4122-82ad-1fafcb43834d\" class=\"colab-df-container\">\n",
              "    <div>\n",
              "<style scoped>\n",
              "    .dataframe tbody tr th:only-of-type {\n",
              "        vertical-align: middle;\n",
              "    }\n",
              "\n",
              "    .dataframe tbody tr th {\n",
              "        vertical-align: top;\n",
              "    }\n",
              "\n",
              "    .dataframe thead th {\n",
              "        text-align: right;\n",
              "    }\n",
              "</style>\n",
              "<table border=\"1\" class=\"dataframe\">\n",
              "  <thead>\n",
              "    <tr style=\"text-align: right;\">\n",
              "      <th></th>\n",
              "      <th>Area</th>\n",
              "      <th>Perimeter</th>\n",
              "      <th>Major_Axis_Length</th>\n",
              "      <th>Minor_Axis_Length</th>\n",
              "      <th>Eccentricity</th>\n",
              "      <th>Convex_Area</th>\n",
              "      <th>Extent</th>\n",
              "      <th>Class</th>\n",
              "    </tr>\n",
              "  </thead>\n",
              "  <tbody>\n",
              "    <tr>\n",
              "      <th>0</th>\n",
              "      <td>15231.0</td>\n",
              "      <td>525.578979</td>\n",
              "      <td>229.749878</td>\n",
              "      <td>85.093788</td>\n",
              "      <td>0.928882</td>\n",
              "      <td>15617.0</td>\n",
              "      <td>0.572896</td>\n",
              "      <td>0.0</td>\n",
              "    </tr>\n",
              "    <tr>\n",
              "      <th>1</th>\n",
              "      <td>14656.0</td>\n",
              "      <td>494.311005</td>\n",
              "      <td>206.020065</td>\n",
              "      <td>91.730972</td>\n",
              "      <td>0.895405</td>\n",
              "      <td>15072.0</td>\n",
              "      <td>0.615436</td>\n",
              "      <td>0.0</td>\n",
              "    </tr>\n",
              "    <tr>\n",
              "      <th>2</th>\n",
              "      <td>14634.0</td>\n",
              "      <td>501.122009</td>\n",
              "      <td>214.106781</td>\n",
              "      <td>87.768288</td>\n",
              "      <td>0.912118</td>\n",
              "      <td>14954.0</td>\n",
              "      <td>0.693259</td>\n",
              "      <td>0.0</td>\n",
              "    </tr>\n",
              "    <tr>\n",
              "      <th>3</th>\n",
              "      <td>13176.0</td>\n",
              "      <td>458.342987</td>\n",
              "      <td>193.337387</td>\n",
              "      <td>87.448395</td>\n",
              "      <td>0.891861</td>\n",
              "      <td>13368.0</td>\n",
              "      <td>0.640669</td>\n",
              "      <td>0.0</td>\n",
              "    </tr>\n",
              "    <tr>\n",
              "      <th>4</th>\n",
              "      <td>14688.0</td>\n",
              "      <td>507.166992</td>\n",
              "      <td>211.743378</td>\n",
              "      <td>89.312454</td>\n",
              "      <td>0.906691</td>\n",
              "      <td>15262.0</td>\n",
              "      <td>0.646024</td>\n",
              "      <td>0.0</td>\n",
              "    </tr>\n",
              "    <tr>\n",
              "      <th>5</th>\n",
              "      <td>13479.0</td>\n",
              "      <td>477.015991</td>\n",
              "      <td>200.053055</td>\n",
              "      <td>86.650291</td>\n",
              "      <td>0.901328</td>\n",
              "      <td>13786.0</td>\n",
              "      <td>0.657897</td>\n",
              "      <td>0.0</td>\n",
              "    </tr>\n",
              "    <tr>\n",
              "      <th>6</th>\n",
              "      <td>15757.0</td>\n",
              "      <td>509.281006</td>\n",
              "      <td>207.296677</td>\n",
              "      <td>98.336136</td>\n",
              "      <td>0.880323</td>\n",
              "      <td>16150.0</td>\n",
              "      <td>0.589708</td>\n",
              "      <td>0.0</td>\n",
              "    </tr>\n",
              "    <tr>\n",
              "      <th>7</th>\n",
              "      <td>16405.0</td>\n",
              "      <td>526.570007</td>\n",
              "      <td>221.612518</td>\n",
              "      <td>95.436707</td>\n",
              "      <td>0.902521</td>\n",
              "      <td>16837.0</td>\n",
              "      <td>0.658888</td>\n",
              "      <td>0.0</td>\n",
              "    </tr>\n",
              "    <tr>\n",
              "      <th>8</th>\n",
              "      <td>14534.0</td>\n",
              "      <td>483.640991</td>\n",
              "      <td>196.650818</td>\n",
              "      <td>95.050682</td>\n",
              "      <td>0.875429</td>\n",
              "      <td>14932.0</td>\n",
              "      <td>0.649651</td>\n",
              "      <td>0.0</td>\n",
              "    </tr>\n",
              "    <tr>\n",
              "      <th>9</th>\n",
              "      <td>13485.0</td>\n",
              "      <td>471.570007</td>\n",
              "      <td>198.272644</td>\n",
              "      <td>87.727287</td>\n",
              "      <td>0.896789</td>\n",
              "      <td>13734.0</td>\n",
              "      <td>0.572320</td>\n",
              "      <td>0.0</td>\n",
              "    </tr>\n",
              "    <tr>\n",
              "      <th>10</th>\n",
              "      <td>14930.0</td>\n",
              "      <td>499.924988</td>\n",
              "      <td>212.245819</td>\n",
              "      <td>90.017479</td>\n",
              "      <td>0.905606</td>\n",
              "      <td>15248.0</td>\n",
              "      <td>0.624373</td>\n",
              "      <td>0.0</td>\n",
              "    </tr>\n",
              "    <tr>\n",
              "      <th>11</th>\n",
              "      <td>14626.0</td>\n",
              "      <td>496.585999</td>\n",
              "      <td>204.534134</td>\n",
              "      <td>92.974869</td>\n",
              "      <td>0.890712</td>\n",
              "      <td>15070.0</td>\n",
              "      <td>0.570214</td>\n",
              "      <td>0.0</td>\n",
              "    </tr>\n",
              "    <tr>\n",
              "      <th>12</th>\n",
              "      <td>15926.0</td>\n",
              "      <td>522.739990</td>\n",
              "      <td>225.736053</td>\n",
              "      <td>91.057091</td>\n",
              "      <td>0.915033</td>\n",
              "      <td>16240.0</td>\n",
              "      <td>0.779769</td>\n",
              "      <td>0.0</td>\n",
              "    </tr>\n",
              "    <tr>\n",
              "      <th>13</th>\n",
              "      <td>14076.0</td>\n",
              "      <td>479.677002</td>\n",
              "      <td>199.489151</td>\n",
              "      <td>90.709984</td>\n",
              "      <td>0.890639</td>\n",
              "      <td>14434.0</td>\n",
              "      <td>0.781219</td>\n",
              "      <td>0.0</td>\n",
              "    </tr>\n",
              "    <tr>\n",
              "      <th>14</th>\n",
              "      <td>13500.0</td>\n",
              "      <td>476.915008</td>\n",
              "      <td>202.546677</td>\n",
              "      <td>85.405472</td>\n",
              "      <td>0.906755</td>\n",
              "      <td>13800.0</td>\n",
              "      <td>0.717703</td>\n",
              "      <td>0.0</td>\n",
              "    </tr>\n",
              "    <tr>\n",
              "      <th>15</th>\n",
              "      <td>14349.0</td>\n",
              "      <td>496.946014</td>\n",
              "      <td>213.544022</td>\n",
              "      <td>86.160774</td>\n",
              "      <td>0.914988</td>\n",
              "      <td>14678.0</td>\n",
              "      <td>0.666837</td>\n",
              "      <td>0.0</td>\n",
              "    </tr>\n",
              "    <tr>\n",
              "      <th>16</th>\n",
              "      <td>15209.0</td>\n",
              "      <td>496.565002</td>\n",
              "      <td>214.050079</td>\n",
              "      <td>91.026321</td>\n",
              "      <td>0.905073</td>\n",
              "      <td>15395.0</td>\n",
              "      <td>0.569370</td>\n",
              "      <td>0.0</td>\n",
              "    </tr>\n",
              "    <tr>\n",
              "      <th>17</th>\n",
              "      <td>15238.0</td>\n",
              "      <td>496.871002</td>\n",
              "      <td>208.531784</td>\n",
              "      <td>93.828400</td>\n",
              "      <td>0.893055</td>\n",
              "      <td>15487.0</td>\n",
              "      <td>0.732314</td>\n",
              "      <td>0.0</td>\n",
              "    </tr>\n",
              "    <tr>\n",
              "      <th>18</th>\n",
              "      <td>13509.0</td>\n",
              "      <td>480.466003</td>\n",
              "      <td>207.137161</td>\n",
              "      <td>83.940163</td>\n",
              "      <td>0.914211</td>\n",
              "      <td>13732.0</td>\n",
              "      <td>0.595635</td>\n",
              "      <td>0.0</td>\n",
              "    </tr>\n",
              "    <tr>\n",
              "      <th>19</th>\n",
              "      <td>13699.0</td>\n",
              "      <td>480.729004</td>\n",
              "      <td>197.970917</td>\n",
              "      <td>89.949074</td>\n",
              "      <td>0.890821</td>\n",
              "      <td>14178.0</td>\n",
              "      <td>0.672047</td>\n",
              "      <td>0.0</td>\n",
              "    </tr>\n",
              "  </tbody>\n",
              "</table>\n",
              "</div>\n",
              "    <div class=\"colab-df-buttons\">\n",
              "\n",
              "  <div class=\"colab-df-container\">\n",
              "    <button class=\"colab-df-convert\" onclick=\"convertToInteractive('df-eb7d371e-938b-4122-82ad-1fafcb43834d')\"\n",
              "            title=\"Convert this dataframe to an interactive table.\"\n",
              "            style=\"display:none;\">\n",
              "\n",
              "  <svg xmlns=\"http://www.w3.org/2000/svg\" height=\"24px\" viewBox=\"0 -960 960 960\">\n",
              "    <path d=\"M120-120v-720h720v720H120Zm60-500h600v-160H180v160Zm220 220h160v-160H400v160Zm0 220h160v-160H400v160ZM180-400h160v-160H180v160Zm440 0h160v-160H620v160ZM180-180h160v-160H180v160Zm440 0h160v-160H620v160Z\"/>\n",
              "  </svg>\n",
              "    </button>\n",
              "\n",
              "  <style>\n",
              "    .colab-df-container {\n",
              "      display:flex;\n",
              "      gap: 12px;\n",
              "    }\n",
              "\n",
              "    .colab-df-convert {\n",
              "      background-color: #E8F0FE;\n",
              "      border: none;\n",
              "      border-radius: 50%;\n",
              "      cursor: pointer;\n",
              "      display: none;\n",
              "      fill: #1967D2;\n",
              "      height: 32px;\n",
              "      padding: 0 0 0 0;\n",
              "      width: 32px;\n",
              "    }\n",
              "\n",
              "    .colab-df-convert:hover {\n",
              "      background-color: #E2EBFA;\n",
              "      box-shadow: 0px 1px 2px rgba(60, 64, 67, 0.3), 0px 1px 3px 1px rgba(60, 64, 67, 0.15);\n",
              "      fill: #174EA6;\n",
              "    }\n",
              "\n",
              "    .colab-df-buttons div {\n",
              "      margin-bottom: 4px;\n",
              "    }\n",
              "\n",
              "    [theme=dark] .colab-df-convert {\n",
              "      background-color: #3B4455;\n",
              "      fill: #D2E3FC;\n",
              "    }\n",
              "\n",
              "    [theme=dark] .colab-df-convert:hover {\n",
              "      background-color: #434B5C;\n",
              "      box-shadow: 0px 1px 3px 1px rgba(0, 0, 0, 0.15);\n",
              "      filter: drop-shadow(0px 1px 2px rgba(0, 0, 0, 0.3));\n",
              "      fill: #FFFFFF;\n",
              "    }\n",
              "  </style>\n",
              "\n",
              "    <script>\n",
              "      const buttonEl =\n",
              "        document.querySelector('#df-eb7d371e-938b-4122-82ad-1fafcb43834d button.colab-df-convert');\n",
              "      buttonEl.style.display =\n",
              "        google.colab.kernel.accessAllowed ? 'block' : 'none';\n",
              "\n",
              "      async function convertToInteractive(key) {\n",
              "        const element = document.querySelector('#df-eb7d371e-938b-4122-82ad-1fafcb43834d');\n",
              "        const dataTable =\n",
              "          await google.colab.kernel.invokeFunction('convertToInteractive',\n",
              "                                                    [key], {});\n",
              "        if (!dataTable) return;\n",
              "\n",
              "        const docLinkHtml = 'Like what you see? Visit the ' +\n",
              "          '<a target=\"_blank\" href=https://colab.research.google.com/notebooks/data_table.ipynb>data table notebook</a>'\n",
              "          + ' to learn more about interactive tables.';\n",
              "        element.innerHTML = '';\n",
              "        dataTable['output_type'] = 'display_data';\n",
              "        await google.colab.output.renderOutput(dataTable, element);\n",
              "        const docLink = document.createElement('div');\n",
              "        docLink.innerHTML = docLinkHtml;\n",
              "        element.appendChild(docLink);\n",
              "      }\n",
              "    </script>\n",
              "  </div>\n",
              "\n",
              "\n",
              "<div id=\"df-b6c5482c-7383-4150-aa6f-20d4fb48a060\">\n",
              "  <button class=\"colab-df-quickchart\" onclick=\"quickchart('df-b6c5482c-7383-4150-aa6f-20d4fb48a060')\"\n",
              "            title=\"Suggest charts\"\n",
              "            style=\"display:none;\">\n",
              "\n",
              "<svg xmlns=\"http://www.w3.org/2000/svg\" height=\"24px\"viewBox=\"0 0 24 24\"\n",
              "     width=\"24px\">\n",
              "    <g>\n",
              "        <path d=\"M19 3H5c-1.1 0-2 .9-2 2v14c0 1.1.9 2 2 2h14c1.1 0 2-.9 2-2V5c0-1.1-.9-2-2-2zM9 17H7v-7h2v7zm4 0h-2V7h2v10zm4 0h-2v-4h2v4z\"/>\n",
              "    </g>\n",
              "</svg>\n",
              "  </button>\n",
              "\n",
              "<style>\n",
              "  .colab-df-quickchart {\n",
              "      --bg-color: #E8F0FE;\n",
              "      --fill-color: #1967D2;\n",
              "      --hover-bg-color: #E2EBFA;\n",
              "      --hover-fill-color: #174EA6;\n",
              "      --disabled-fill-color: #AAA;\n",
              "      --disabled-bg-color: #DDD;\n",
              "  }\n",
              "\n",
              "  [theme=dark] .colab-df-quickchart {\n",
              "      --bg-color: #3B4455;\n",
              "      --fill-color: #D2E3FC;\n",
              "      --hover-bg-color: #434B5C;\n",
              "      --hover-fill-color: #FFFFFF;\n",
              "      --disabled-bg-color: #3B4455;\n",
              "      --disabled-fill-color: #666;\n",
              "  }\n",
              "\n",
              "  .colab-df-quickchart {\n",
              "    background-color: var(--bg-color);\n",
              "    border: none;\n",
              "    border-radius: 50%;\n",
              "    cursor: pointer;\n",
              "    display: none;\n",
              "    fill: var(--fill-color);\n",
              "    height: 32px;\n",
              "    padding: 0;\n",
              "    width: 32px;\n",
              "  }\n",
              "\n",
              "  .colab-df-quickchart:hover {\n",
              "    background-color: var(--hover-bg-color);\n",
              "    box-shadow: 0 1px 2px rgba(60, 64, 67, 0.3), 0 1px 3px 1px rgba(60, 64, 67, 0.15);\n",
              "    fill: var(--button-hover-fill-color);\n",
              "  }\n",
              "\n",
              "  .colab-df-quickchart-complete:disabled,\n",
              "  .colab-df-quickchart-complete:disabled:hover {\n",
              "    background-color: var(--disabled-bg-color);\n",
              "    fill: var(--disabled-fill-color);\n",
              "    box-shadow: none;\n",
              "  }\n",
              "\n",
              "  .colab-df-spinner {\n",
              "    border: 2px solid var(--fill-color);\n",
              "    border-color: transparent;\n",
              "    border-bottom-color: var(--fill-color);\n",
              "    animation:\n",
              "      spin 1s steps(1) infinite;\n",
              "  }\n",
              "\n",
              "  @keyframes spin {\n",
              "    0% {\n",
              "      border-color: transparent;\n",
              "      border-bottom-color: var(--fill-color);\n",
              "      border-left-color: var(--fill-color);\n",
              "    }\n",
              "    20% {\n",
              "      border-color: transparent;\n",
              "      border-left-color: var(--fill-color);\n",
              "      border-top-color: var(--fill-color);\n",
              "    }\n",
              "    30% {\n",
              "      border-color: transparent;\n",
              "      border-left-color: var(--fill-color);\n",
              "      border-top-color: var(--fill-color);\n",
              "      border-right-color: var(--fill-color);\n",
              "    }\n",
              "    40% {\n",
              "      border-color: transparent;\n",
              "      border-right-color: var(--fill-color);\n",
              "      border-top-color: var(--fill-color);\n",
              "    }\n",
              "    60% {\n",
              "      border-color: transparent;\n",
              "      border-right-color: var(--fill-color);\n",
              "    }\n",
              "    80% {\n",
              "      border-color: transparent;\n",
              "      border-right-color: var(--fill-color);\n",
              "      border-bottom-color: var(--fill-color);\n",
              "    }\n",
              "    90% {\n",
              "      border-color: transparent;\n",
              "      border-bottom-color: var(--fill-color);\n",
              "    }\n",
              "  }\n",
              "</style>\n",
              "\n",
              "  <script>\n",
              "    async function quickchart(key) {\n",
              "      const quickchartButtonEl =\n",
              "        document.querySelector('#' + key + ' button');\n",
              "      quickchartButtonEl.disabled = true;  // To prevent multiple clicks.\n",
              "      quickchartButtonEl.classList.add('colab-df-spinner');\n",
              "      try {\n",
              "        const charts = await google.colab.kernel.invokeFunction(\n",
              "            'suggestCharts', [key], {});\n",
              "      } catch (error) {\n",
              "        console.error('Error during call to suggestCharts:', error);\n",
              "      }\n",
              "      quickchartButtonEl.classList.remove('colab-df-spinner');\n",
              "      quickchartButtonEl.classList.add('colab-df-quickchart-complete');\n",
              "    }\n",
              "    (() => {\n",
              "      let quickchartButtonEl =\n",
              "        document.querySelector('#df-b6c5482c-7383-4150-aa6f-20d4fb48a060 button');\n",
              "      quickchartButtonEl.style.display =\n",
              "        google.colab.kernel.accessAllowed ? 'block' : 'none';\n",
              "    })();\n",
              "  </script>\n",
              "</div>\n",
              "    </div>\n",
              "  </div>\n"
            ],
            "application/vnd.google.colaboratory.intrinsic+json": {
              "type": "dataframe",
              "variable_name": "data",
              "summary": "{\n  \"name\": \"data\",\n  \"rows\": 3810,\n  \"fields\": [\n    {\n      \"column\": \"Area\",\n      \"properties\": {\n        \"dtype\": \"number\",\n        \"std\": 1732.3677060741602,\n        \"min\": 7551.0,\n        \"max\": 18913.0,\n        \"num_unique_values\": 2828,\n        \"samples\": [\n          11144.0,\n          11898.0,\n          12051.0\n        ],\n        \"semantic_type\": \"\",\n        \"description\": \"\"\n      }\n    },\n    {\n      \"column\": \"Perimeter\",\n      \"properties\": {\n        \"dtype\": \"number\",\n        \"std\": 35.59708144220462,\n        \"min\": 359.1000061,\n        \"max\": 548.4459839,\n        \"num_unique_values\": 3738,\n        \"samples\": [\n          469.6080017,\n          516.3649902,\n          477.493988\n        ],\n        \"semantic_type\": \"\",\n        \"description\": \"\"\n      }\n    },\n    {\n      \"column\": \"Major_Axis_Length\",\n      \"properties\": {\n        \"dtype\": \"number\",\n        \"std\": 17.44867850111315,\n        \"min\": 145.2644653,\n        \"max\": 239.010498,\n        \"num_unique_values\": 3808,\n        \"samples\": [\n          211.1375732,\n          191.0631714,\n          187.9770966\n        ],\n        \"semantic_type\": \"\",\n        \"description\": \"\"\n      }\n    },\n    {\n      \"column\": \"Minor_Axis_Length\",\n      \"properties\": {\n        \"dtype\": \"number\",\n        \"std\": 5.729817333702081,\n        \"min\": 59.53240585,\n        \"max\": 107.54245,\n        \"num_unique_values\": 3804,\n        \"samples\": [\n          85.83971405,\n          84.88217926,\n          86.1084671\n        ],\n        \"semantic_type\": \"\",\n        \"description\": \"\"\n      }\n    },\n    {\n      \"column\": \"Eccentricity\",\n      \"properties\": {\n        \"dtype\": \"number\",\n        \"std\": 0.020817634100670838,\n        \"min\": 0.777232587,\n        \"max\": 0.948006928,\n        \"num_unique_values\": 3803,\n        \"samples\": [\n          0.899795711,\n          0.900991857,\n          0.89779532\n        ],\n        \"semantic_type\": \"\",\n        \"description\": \"\"\n      }\n    },\n    {\n      \"column\": \"Convex_Area\",\n      \"properties\": {\n        \"dtype\": \"number\",\n        \"std\": 1776.9720420835554,\n        \"min\": 7723.0,\n        \"max\": 19099.0,\n        \"num_unique_values\": 2857,\n        \"samples\": [\n          9555.0,\n          10576.0,\n          13738.0\n        ],\n        \"semantic_type\": \"\",\n        \"description\": \"\"\n      }\n    },\n    {\n      \"column\": \"Extent\",\n      \"properties\": {\n        \"dtype\": \"number\",\n        \"std\": 0.07723877329086311,\n        \"min\": 0.49741286,\n        \"max\": 0.861049533,\n        \"num_unique_values\": 3804,\n        \"samples\": [\n          0.580311894,\n          0.635325909,\n          0.579114974\n        ],\n        \"semantic_type\": \"\",\n        \"description\": \"\"\n      }\n    },\n    {\n      \"column\": \"Class\",\n      \"properties\": {\n        \"dtype\": \"number\",\n        \"std\": 0.4948277817989889,\n        \"min\": 0.0,\n        \"max\": 1.0,\n        \"num_unique_values\": 2,\n        \"samples\": [\n          1.0,\n          0.0\n        ],\n        \"semantic_type\": \"\",\n        \"description\": \"\"\n      }\n    }\n  ]\n}"
            }
          },
          "metadata": {},
          "execution_count": 103
        }
      ]
    },
    {
      "cell_type": "code",
      "source": [
        "data.describe()"
      ],
      "metadata": {
        "colab": {
          "base_uri": "https://localhost:8080/",
          "height": 300
        },
        "id": "eiWTMGW-5swA",
        "outputId": "a06589c7-5b3b-44af-807e-90bb7d3c71ed"
      },
      "execution_count": null,
      "outputs": [
        {
          "output_type": "execute_result",
          "data": {
            "text/plain": [
              "               Area    Perimeter  Major_Axis_Length  Minor_Axis_Length  \\\n",
              "count   3810.000000  3810.000000        3810.000000        3810.000000   \n",
              "mean   12667.727559   454.239180         188.776222          86.313750   \n",
              "std     1732.367706    35.597081          17.448679           5.729817   \n",
              "min     7551.000000   359.100006         145.264465          59.532406   \n",
              "25%    11370.500000   426.144752         174.353855          82.731695   \n",
              "50%    12421.500000   448.852493         185.810059          86.434647   \n",
              "75%    13950.000000   483.683746         203.550438          90.143677   \n",
              "max    18913.000000   548.445984         239.010498         107.542450   \n",
              "\n",
              "       Eccentricity   Convex_Area       Extent        Class  \n",
              "count   3810.000000   3810.000000  3810.000000  3810.000000  \n",
              "mean       0.886871  12952.496850     0.661934     0.572178  \n",
              "std        0.020818   1776.972042     0.077239     0.494828  \n",
              "min        0.777233   7723.000000     0.497413     0.000000  \n",
              "25%        0.872402  11626.250000     0.598862     0.000000  \n",
              "50%        0.889050  12706.500000     0.645361     1.000000  \n",
              "75%        0.902588  14284.000000     0.726562     1.000000  \n",
              "max        0.948007  19099.000000     0.861050     1.000000  "
            ],
            "text/html": [
              "\n",
              "  <div id=\"df-10fcb7b2-82ad-4cf0-a855-23caf3b7373b\" class=\"colab-df-container\">\n",
              "    <div>\n",
              "<style scoped>\n",
              "    .dataframe tbody tr th:only-of-type {\n",
              "        vertical-align: middle;\n",
              "    }\n",
              "\n",
              "    .dataframe tbody tr th {\n",
              "        vertical-align: top;\n",
              "    }\n",
              "\n",
              "    .dataframe thead th {\n",
              "        text-align: right;\n",
              "    }\n",
              "</style>\n",
              "<table border=\"1\" class=\"dataframe\">\n",
              "  <thead>\n",
              "    <tr style=\"text-align: right;\">\n",
              "      <th></th>\n",
              "      <th>Area</th>\n",
              "      <th>Perimeter</th>\n",
              "      <th>Major_Axis_Length</th>\n",
              "      <th>Minor_Axis_Length</th>\n",
              "      <th>Eccentricity</th>\n",
              "      <th>Convex_Area</th>\n",
              "      <th>Extent</th>\n",
              "      <th>Class</th>\n",
              "    </tr>\n",
              "  </thead>\n",
              "  <tbody>\n",
              "    <tr>\n",
              "      <th>count</th>\n",
              "      <td>3810.000000</td>\n",
              "      <td>3810.000000</td>\n",
              "      <td>3810.000000</td>\n",
              "      <td>3810.000000</td>\n",
              "      <td>3810.000000</td>\n",
              "      <td>3810.000000</td>\n",
              "      <td>3810.000000</td>\n",
              "      <td>3810.000000</td>\n",
              "    </tr>\n",
              "    <tr>\n",
              "      <th>mean</th>\n",
              "      <td>12667.727559</td>\n",
              "      <td>454.239180</td>\n",
              "      <td>188.776222</td>\n",
              "      <td>86.313750</td>\n",
              "      <td>0.886871</td>\n",
              "      <td>12952.496850</td>\n",
              "      <td>0.661934</td>\n",
              "      <td>0.572178</td>\n",
              "    </tr>\n",
              "    <tr>\n",
              "      <th>std</th>\n",
              "      <td>1732.367706</td>\n",
              "      <td>35.597081</td>\n",
              "      <td>17.448679</td>\n",
              "      <td>5.729817</td>\n",
              "      <td>0.020818</td>\n",
              "      <td>1776.972042</td>\n",
              "      <td>0.077239</td>\n",
              "      <td>0.494828</td>\n",
              "    </tr>\n",
              "    <tr>\n",
              "      <th>min</th>\n",
              "      <td>7551.000000</td>\n",
              "      <td>359.100006</td>\n",
              "      <td>145.264465</td>\n",
              "      <td>59.532406</td>\n",
              "      <td>0.777233</td>\n",
              "      <td>7723.000000</td>\n",
              "      <td>0.497413</td>\n",
              "      <td>0.000000</td>\n",
              "    </tr>\n",
              "    <tr>\n",
              "      <th>25%</th>\n",
              "      <td>11370.500000</td>\n",
              "      <td>426.144752</td>\n",
              "      <td>174.353855</td>\n",
              "      <td>82.731695</td>\n",
              "      <td>0.872402</td>\n",
              "      <td>11626.250000</td>\n",
              "      <td>0.598862</td>\n",
              "      <td>0.000000</td>\n",
              "    </tr>\n",
              "    <tr>\n",
              "      <th>50%</th>\n",
              "      <td>12421.500000</td>\n",
              "      <td>448.852493</td>\n",
              "      <td>185.810059</td>\n",
              "      <td>86.434647</td>\n",
              "      <td>0.889050</td>\n",
              "      <td>12706.500000</td>\n",
              "      <td>0.645361</td>\n",
              "      <td>1.000000</td>\n",
              "    </tr>\n",
              "    <tr>\n",
              "      <th>75%</th>\n",
              "      <td>13950.000000</td>\n",
              "      <td>483.683746</td>\n",
              "      <td>203.550438</td>\n",
              "      <td>90.143677</td>\n",
              "      <td>0.902588</td>\n",
              "      <td>14284.000000</td>\n",
              "      <td>0.726562</td>\n",
              "      <td>1.000000</td>\n",
              "    </tr>\n",
              "    <tr>\n",
              "      <th>max</th>\n",
              "      <td>18913.000000</td>\n",
              "      <td>548.445984</td>\n",
              "      <td>239.010498</td>\n",
              "      <td>107.542450</td>\n",
              "      <td>0.948007</td>\n",
              "      <td>19099.000000</td>\n",
              "      <td>0.861050</td>\n",
              "      <td>1.000000</td>\n",
              "    </tr>\n",
              "  </tbody>\n",
              "</table>\n",
              "</div>\n",
              "    <div class=\"colab-df-buttons\">\n",
              "\n",
              "  <div class=\"colab-df-container\">\n",
              "    <button class=\"colab-df-convert\" onclick=\"convertToInteractive('df-10fcb7b2-82ad-4cf0-a855-23caf3b7373b')\"\n",
              "            title=\"Convert this dataframe to an interactive table.\"\n",
              "            style=\"display:none;\">\n",
              "\n",
              "  <svg xmlns=\"http://www.w3.org/2000/svg\" height=\"24px\" viewBox=\"0 -960 960 960\">\n",
              "    <path d=\"M120-120v-720h720v720H120Zm60-500h600v-160H180v160Zm220 220h160v-160H400v160Zm0 220h160v-160H400v160ZM180-400h160v-160H180v160Zm440 0h160v-160H620v160ZM180-180h160v-160H180v160Zm440 0h160v-160H620v160Z\"/>\n",
              "  </svg>\n",
              "    </button>\n",
              "\n",
              "  <style>\n",
              "    .colab-df-container {\n",
              "      display:flex;\n",
              "      gap: 12px;\n",
              "    }\n",
              "\n",
              "    .colab-df-convert {\n",
              "      background-color: #E8F0FE;\n",
              "      border: none;\n",
              "      border-radius: 50%;\n",
              "      cursor: pointer;\n",
              "      display: none;\n",
              "      fill: #1967D2;\n",
              "      height: 32px;\n",
              "      padding: 0 0 0 0;\n",
              "      width: 32px;\n",
              "    }\n",
              "\n",
              "    .colab-df-convert:hover {\n",
              "      background-color: #E2EBFA;\n",
              "      box-shadow: 0px 1px 2px rgba(60, 64, 67, 0.3), 0px 1px 3px 1px rgba(60, 64, 67, 0.15);\n",
              "      fill: #174EA6;\n",
              "    }\n",
              "\n",
              "    .colab-df-buttons div {\n",
              "      margin-bottom: 4px;\n",
              "    }\n",
              "\n",
              "    [theme=dark] .colab-df-convert {\n",
              "      background-color: #3B4455;\n",
              "      fill: #D2E3FC;\n",
              "    }\n",
              "\n",
              "    [theme=dark] .colab-df-convert:hover {\n",
              "      background-color: #434B5C;\n",
              "      box-shadow: 0px 1px 3px 1px rgba(0, 0, 0, 0.15);\n",
              "      filter: drop-shadow(0px 1px 2px rgba(0, 0, 0, 0.3));\n",
              "      fill: #FFFFFF;\n",
              "    }\n",
              "  </style>\n",
              "\n",
              "    <script>\n",
              "      const buttonEl =\n",
              "        document.querySelector('#df-10fcb7b2-82ad-4cf0-a855-23caf3b7373b button.colab-df-convert');\n",
              "      buttonEl.style.display =\n",
              "        google.colab.kernel.accessAllowed ? 'block' : 'none';\n",
              "\n",
              "      async function convertToInteractive(key) {\n",
              "        const element = document.querySelector('#df-10fcb7b2-82ad-4cf0-a855-23caf3b7373b');\n",
              "        const dataTable =\n",
              "          await google.colab.kernel.invokeFunction('convertToInteractive',\n",
              "                                                    [key], {});\n",
              "        if (!dataTable) return;\n",
              "\n",
              "        const docLinkHtml = 'Like what you see? Visit the ' +\n",
              "          '<a target=\"_blank\" href=https://colab.research.google.com/notebooks/data_table.ipynb>data table notebook</a>'\n",
              "          + ' to learn more about interactive tables.';\n",
              "        element.innerHTML = '';\n",
              "        dataTable['output_type'] = 'display_data';\n",
              "        await google.colab.output.renderOutput(dataTable, element);\n",
              "        const docLink = document.createElement('div');\n",
              "        docLink.innerHTML = docLinkHtml;\n",
              "        element.appendChild(docLink);\n",
              "      }\n",
              "    </script>\n",
              "  </div>\n",
              "\n",
              "\n",
              "<div id=\"df-0610d2f4-a715-4c5d-8ea0-73c75e0c6d41\">\n",
              "  <button class=\"colab-df-quickchart\" onclick=\"quickchart('df-0610d2f4-a715-4c5d-8ea0-73c75e0c6d41')\"\n",
              "            title=\"Suggest charts\"\n",
              "            style=\"display:none;\">\n",
              "\n",
              "<svg xmlns=\"http://www.w3.org/2000/svg\" height=\"24px\"viewBox=\"0 0 24 24\"\n",
              "     width=\"24px\">\n",
              "    <g>\n",
              "        <path d=\"M19 3H5c-1.1 0-2 .9-2 2v14c0 1.1.9 2 2 2h14c1.1 0 2-.9 2-2V5c0-1.1-.9-2-2-2zM9 17H7v-7h2v7zm4 0h-2V7h2v10zm4 0h-2v-4h2v4z\"/>\n",
              "    </g>\n",
              "</svg>\n",
              "  </button>\n",
              "\n",
              "<style>\n",
              "  .colab-df-quickchart {\n",
              "      --bg-color: #E8F0FE;\n",
              "      --fill-color: #1967D2;\n",
              "      --hover-bg-color: #E2EBFA;\n",
              "      --hover-fill-color: #174EA6;\n",
              "      --disabled-fill-color: #AAA;\n",
              "      --disabled-bg-color: #DDD;\n",
              "  }\n",
              "\n",
              "  [theme=dark] .colab-df-quickchart {\n",
              "      --bg-color: #3B4455;\n",
              "      --fill-color: #D2E3FC;\n",
              "      --hover-bg-color: #434B5C;\n",
              "      --hover-fill-color: #FFFFFF;\n",
              "      --disabled-bg-color: #3B4455;\n",
              "      --disabled-fill-color: #666;\n",
              "  }\n",
              "\n",
              "  .colab-df-quickchart {\n",
              "    background-color: var(--bg-color);\n",
              "    border: none;\n",
              "    border-radius: 50%;\n",
              "    cursor: pointer;\n",
              "    display: none;\n",
              "    fill: var(--fill-color);\n",
              "    height: 32px;\n",
              "    padding: 0;\n",
              "    width: 32px;\n",
              "  }\n",
              "\n",
              "  .colab-df-quickchart:hover {\n",
              "    background-color: var(--hover-bg-color);\n",
              "    box-shadow: 0 1px 2px rgba(60, 64, 67, 0.3), 0 1px 3px 1px rgba(60, 64, 67, 0.15);\n",
              "    fill: var(--button-hover-fill-color);\n",
              "  }\n",
              "\n",
              "  .colab-df-quickchart-complete:disabled,\n",
              "  .colab-df-quickchart-complete:disabled:hover {\n",
              "    background-color: var(--disabled-bg-color);\n",
              "    fill: var(--disabled-fill-color);\n",
              "    box-shadow: none;\n",
              "  }\n",
              "\n",
              "  .colab-df-spinner {\n",
              "    border: 2px solid var(--fill-color);\n",
              "    border-color: transparent;\n",
              "    border-bottom-color: var(--fill-color);\n",
              "    animation:\n",
              "      spin 1s steps(1) infinite;\n",
              "  }\n",
              "\n",
              "  @keyframes spin {\n",
              "    0% {\n",
              "      border-color: transparent;\n",
              "      border-bottom-color: var(--fill-color);\n",
              "      border-left-color: var(--fill-color);\n",
              "    }\n",
              "    20% {\n",
              "      border-color: transparent;\n",
              "      border-left-color: var(--fill-color);\n",
              "      border-top-color: var(--fill-color);\n",
              "    }\n",
              "    30% {\n",
              "      border-color: transparent;\n",
              "      border-left-color: var(--fill-color);\n",
              "      border-top-color: var(--fill-color);\n",
              "      border-right-color: var(--fill-color);\n",
              "    }\n",
              "    40% {\n",
              "      border-color: transparent;\n",
              "      border-right-color: var(--fill-color);\n",
              "      border-top-color: var(--fill-color);\n",
              "    }\n",
              "    60% {\n",
              "      border-color: transparent;\n",
              "      border-right-color: var(--fill-color);\n",
              "    }\n",
              "    80% {\n",
              "      border-color: transparent;\n",
              "      border-right-color: var(--fill-color);\n",
              "      border-bottom-color: var(--fill-color);\n",
              "    }\n",
              "    90% {\n",
              "      border-color: transparent;\n",
              "      border-bottom-color: var(--fill-color);\n",
              "    }\n",
              "  }\n",
              "</style>\n",
              "\n",
              "  <script>\n",
              "    async function quickchart(key) {\n",
              "      const quickchartButtonEl =\n",
              "        document.querySelector('#' + key + ' button');\n",
              "      quickchartButtonEl.disabled = true;  // To prevent multiple clicks.\n",
              "      quickchartButtonEl.classList.add('colab-df-spinner');\n",
              "      try {\n",
              "        const charts = await google.colab.kernel.invokeFunction(\n",
              "            'suggestCharts', [key], {});\n",
              "      } catch (error) {\n",
              "        console.error('Error during call to suggestCharts:', error);\n",
              "      }\n",
              "      quickchartButtonEl.classList.remove('colab-df-spinner');\n",
              "      quickchartButtonEl.classList.add('colab-df-quickchart-complete');\n",
              "    }\n",
              "    (() => {\n",
              "      let quickchartButtonEl =\n",
              "        document.querySelector('#df-0610d2f4-a715-4c5d-8ea0-73c75e0c6d41 button');\n",
              "      quickchartButtonEl.style.display =\n",
              "        google.colab.kernel.accessAllowed ? 'block' : 'none';\n",
              "    })();\n",
              "  </script>\n",
              "</div>\n",
              "    </div>\n",
              "  </div>\n"
            ],
            "application/vnd.google.colaboratory.intrinsic+json": {
              "type": "dataframe",
              "summary": "{\n  \"name\": \"data\",\n  \"rows\": 8,\n  \"fields\": [\n    {\n      \"column\": \"Area\",\n      \"properties\": {\n        \"dtype\": \"number\",\n        \"std\": 5629.520748894491,\n        \"min\": 1732.3677060741602,\n        \"max\": 18913.0,\n        \"num_unique_values\": 8,\n        \"samples\": [\n          12667.727559055118,\n          12421.5,\n          3810.0\n        ],\n        \"semantic_type\": \"\",\n        \"description\": \"\"\n      }\n    },\n    {\n      \"column\": \"Perimeter\",\n      \"properties\": {\n        \"dtype\": \"number\",\n        \"std\": 1217.8033948087727,\n        \"min\": 35.59708144220462,\n        \"max\": 3810.0,\n        \"num_unique_values\": 8,\n        \"samples\": [\n          454.23918014839893,\n          448.85249325,\n          3810.0\n        ],\n        \"semantic_type\": \"\",\n        \"description\": \"\"\n      }\n    },\n    {\n      \"column\": \"Major_Axis_Length\",\n      \"properties\": {\n        \"dtype\": \"number\",\n        \"std\": 1290.415120344948,\n        \"min\": 17.44867850111315,\n        \"max\": 3810.0,\n        \"num_unique_values\": 8,\n        \"samples\": [\n          188.7762219769291,\n          185.8100586,\n          3810.0\n        ],\n        \"semantic_type\": \"\",\n        \"description\": \"\"\n      }\n    },\n    {\n      \"column\": \"Minor_Axis_Length\",\n      \"properties\": {\n        \"dtype\": \"number\",\n        \"std\": 1321.2127625185624,\n        \"min\": 5.729817333702081,\n        \"max\": 3810.0,\n        \"num_unique_values\": 8,\n        \"samples\": [\n          86.3137503715958,\n          86.43464660500001,\n          3810.0\n        ],\n        \"semantic_type\": \"\",\n        \"description\": \"\"\n      }\n    },\n    {\n      \"column\": \"Eccentricity\",\n      \"properties\": {\n        \"dtype\": \"number\",\n        \"std\": 1346.7709152635507,\n        \"min\": 0.020817634100670838,\n        \"max\": 3810.0,\n        \"num_unique_values\": 8,\n        \"samples\": [\n          0.8868705067435696,\n          0.8890500965,\n          3810.0\n        ],\n        \"semantic_type\": \"\",\n        \"description\": \"\"\n      }\n    },\n    {\n      \"column\": \"Convex_Area\",\n      \"properties\": {\n        \"dtype\": \"number\",\n        \"std\": 5719.293981980173,\n        \"min\": 1776.9720420835554,\n        \"max\": 19099.0,\n        \"num_unique_values\": 8,\n        \"samples\": [\n          12952.496850393702,\n          12706.5,\n          3810.0\n        ],\n        \"semantic_type\": \"\",\n        \"description\": \"\"\n      }\n    },\n    {\n      \"column\": \"Extent\",\n      \"properties\": {\n        \"dtype\": \"number\",\n        \"std\": 1346.8329515933308,\n        \"min\": 0.07723877329086311,\n        \"max\": 3810.0,\n        \"num_unique_values\": 8,\n        \"samples\": [\n          0.661934037912861,\n          0.6453614235,\n          3810.0\n        ],\n        \"semantic_type\": \"\",\n        \"description\": \"\"\n      }\n    },\n    {\n      \"column\": \"Class\",\n      \"properties\": {\n        \"dtype\": \"number\",\n        \"std\": 1346.833067459316,\n        \"min\": 0.0,\n        \"max\": 3810.0,\n        \"num_unique_values\": 5,\n        \"samples\": [\n          0.5721784776902887,\n          1.0,\n          0.4948277817989889\n        ],\n        \"semantic_type\": \"\",\n        \"description\": \"\"\n      }\n    }\n  ]\n}"
            }
          },
          "metadata": {},
          "execution_count": 104
        }
      ]
    },
    {
      "cell_type": "markdown",
      "source": [
        "Now we will move to removing the outliers in our dataset"
      ],
      "metadata": {
        "id": "lQXD_1bhL1eT"
      }
    },
    {
      "cell_type": "markdown",
      "source": [
        "## Removal of Outliers"
      ],
      "metadata": {
        "id": "PF16Zd0Q5x2J"
      }
    },
    {
      "cell_type": "code",
      "source": [
        "import matplotlib.pyplot as plt\n",
        "\n",
        "# Create subplots\n",
        "fig, axs = plt.subplots(1, 7, figsize=(12, 5))\n",
        "\n",
        "# Create boxplots for each feature\n",
        "for item in range(7):\n",
        "  axs[item].boxplot(data[features[item]])\n",
        "  axs[item].set_xlabel(f\"{features[item]}\")\n",
        "\n",
        "# Show the boxplots\n",
        "plt.tight_layout()\n",
        "plt.show()"
      ],
      "metadata": {
        "colab": {
          "base_uri": "https://localhost:8080/",
          "height": 457
        },
        "id": "vUxPAS4b5zkd",
        "outputId": "6a384e47-c306-4c3e-e605-477147a261a0"
      },
      "execution_count": null,
      "outputs": [
        {
          "output_type": "display_data",
          "data": {
            "text/plain": [
              "<Figure size 1200x500 with 7 Axes>"
            ],
            "image/png": "[encoded data removed]"
          },
          "metadata": {}
        }
      ]
    },
    {
      "cell_type": "code",
      "source": [
        "for item in features:\n",
        "  Q1 = data[item].quantile(0.25)\n",
        "  Q3 = data[item].quantile(0.75)\n",
        "  IQR = Q3 - Q1\n",
        "\n",
        "  # Calculation for lower and upper bound\n",
        "  lower_bound = Q1 - (1.5 * IQR)\n",
        "  upper_bound = Q3 + (1.5 * IQR)\n",
        "\n",
        "  # Identification of the outliers' index in the dataset\n",
        "  filtered = data[(data[item] >= lower_bound) & (data[item] <= upper_bound)]\n",
        "\n",
        "  # Creating a set of data WITHOUT the outlieers\n",
        "  data = filtered\n",
        "\n",
        "clean_data = data\n",
        "\n",
        "# Creation of new dataframe that is free from outliers\n",
        "clean_data.info()"
      ],
      "metadata": {
        "colab": {
          "base_uri": "https://localhost:8080/"
        },
        "id": "jgLfqIzF6OEj",
        "outputId": "e496f055-1db6-4619-ae97-46f481618ea3"
      },
      "execution_count": null,
      "outputs": [
        {
          "output_type": "stream",
          "name": "stdout",
          "text": [
            "<class 'pandas.core.frame.DataFrame'>\n",
            "Index: 3724 entries, 0 to 3808\n",
            "Data columns (total 8 columns):\n",
            " #   Column             Non-Null Count  Dtype  \n",
            "---  ------             --------------  -----  \n",
            " 0   Area               3724 non-null   float64\n",
            " 1   Perimeter          3724 non-null   float64\n",
            " 2   Major_Axis_Length  3724 non-null   float64\n",
            " 3   Minor_Axis_Length  3724 non-null   float64\n",
            " 4   Eccentricity       3724 non-null   float64\n",
            " 5   Convex_Area        3724 non-null   float64\n",
            " 6   Extent             3724 non-null   float64\n",
            " 7   Class              3724 non-null   float64\n",
            "dtypes: float64(8)\n",
            "memory usage: 261.8 KB\n"
          ]
        }
      ]
    },
    {
      "cell_type": "code",
      "source": [
        "# Create subplots\n",
        "fig, axs = plt.subplots(1, 6, figsize=(12, 5))\n",
        "\n",
        "# Create boxplots for each feature\n",
        "for item in range(6):\n",
        "  axs[item].boxplot(data[features[item]])\n",
        "  axs[item].set_xlabel(f\"{features[item]}\")\n",
        "\n",
        "# Show the boxplots\n",
        "plt.tight_layout()\n",
        "plt.show()"
      ],
      "metadata": {
        "colab": {
          "base_uri": "https://localhost:8080/",
          "height": 458
        },
        "id": "UtkPJOtu6q-G",
        "outputId": "2ecfc068-2899-4699-9277-d4306dd153af"
      },
      "execution_count": null,
      "outputs": [
        {
          "output_type": "display_data",
          "data": {
            "text/plain": [
              "<Figure size 1200x500 with 6 Axes>"
            ],
            "image/png": "[encoded data removed]"
          },
          "metadata": {}
        }
      ]
    },
    {
      "cell_type": "markdown",
      "source": [
        "After removing the most of the outliers, we can now standardize our features to be a similar scale"
      ],
      "metadata": {
        "id": "Q-PnvwH5L5CN"
      }
    },
    {
      "cell_type": "markdown",
      "source": [
        "## Standardization"
      ],
      "metadata": {
        "id": "7rROkYfK3gm-"
      }
    },
    {
      "cell_type": "code",
      "source": [
        "from sklearn.preprocessing import StandardScaler\n",
        "\n",
        "features = clean_data.columns.difference(['Class'])\n",
        "\n",
        "X = clean_data[list(features)].values\n",
        "y = clean_data[\"Class\"]\n",
        "\n",
        "normalizer = StandardScaler()\n",
        "X_norm = normalizer.fit_transform(X)"
      ],
      "metadata": {
        "id": "_uLUFwvq3i5b"
      },
      "execution_count": null,
      "outputs": []
    },
    {
      "cell_type": "markdown",
      "source": [
        "After standardizing we will now determine which features are most important"
      ],
      "metadata": {
        "id": "JRQx9In1MB0E"
      }
    },
    {
      "cell_type": "markdown",
      "source": [
        "## Feature Engineering"
      ],
      "metadata": {
        "id": "68gCqEHRrpj6"
      }
    },
    {
      "cell_type": "code",
      "source": [
        "from sklearn.ensemble import RandomForestRegressor # For Feature Importance\n",
        "import matplotlib.pyplot as plt # For plotting\n",
        "\n",
        "# Select the input and output\n",
        "target = clean_data[\"Class\"]\n",
        "input = clean_data[list(features)]\n",
        "\n",
        "# create the RFR model\n",
        "model = RandomForestRegressor()\n",
        "model.fit(input, target)\n",
        "\n",
        "# Get the faeture importance\n",
        "importance = model.feature_importances_\n",
        "\n",
        "for i,v in enumerate(importance):\n",
        " print('Feature: %0d, Score: %.5f' % (i,v))\n",
        "\n",
        "# Plot feature importance\n",
        "plt.bar([x for x in range(len(importance))], importance)\n",
        "plt.show()"
      ],
      "metadata": {
        "colab": {
          "base_uri": "https://localhost:8080/",
          "height": 551
        },
        "id": "8KF2h1firqtn",
        "outputId": "067d51e5-bfbf-431b-f261-5fe541f6b4f9"
      },
      "execution_count": null,
      "outputs": [
        {
          "output_type": "stream",
          "name": "stdout",
          "text": [
            "Feature: 0, Score: 0.02303\n",
            "Feature: 1, Score: 0.02438\n",
            "Feature: 2, Score: 0.02663\n",
            "Feature: 3, Score: 0.04813\n",
            "Feature: 4, Score: 0.80435\n",
            "Feature: 5, Score: 0.02069\n",
            "Feature: 6, Score: 0.05279\n"
          ]
        },
        {
          "output_type": "display_data",
          "data": {
            "text/plain": [
              "<Figure size 640x480 with 1 Axes>"
            ],
            "image/png": "[encoded data removed]"
          },
          "metadata": {}
        }
      ]
    },
    {
      "cell_type": "markdown",
      "source": [
        "In this activity, I will be arbitrarily choosing the 4 most important features, which is Features (from most important to least important): 4, 6, 3, 2"
      ],
      "metadata": {
        "id": "HQCedjH0MIiI"
      }
    },
    {
      "cell_type": "code",
      "source": [
        "X_features = X_norm[:,[2, 3, 4, 6]]\n",
        "X_features"
      ],
      "metadata": {
        "id": "T4bMWifVrr-d",
        "colab": {
          "base_uri": "https://localhost:8080/"
        },
        "outputId": "43e84b30-169c-4e62-cf9f-4fa9c4e80b05"
      },
      "execution_count": null,
      "outputs": [
        {
          "output_type": "execute_result",
          "data": {
            "text/plain": [
              "array([[ 2.0892215 , -1.15188944,  2.36225947,  2.03064968],\n",
              "       [ 0.41910991, -0.59851757,  0.98902864,  1.13621523],\n",
              "       [ 1.25289747,  0.41379995,  1.4570023 ,  1.33104707],\n",
              "       ...,\n",
              "       [-2.0531087 ,  0.42706445, -1.22767552, -0.9497224 ],\n",
              "       [-0.29232984, -0.45149779, -0.30997486, -0.34589061],\n",
              "       [-0.62848959, -0.03101205, -1.60503128, -1.78194122]])"
            ]
          },
          "metadata": {},
          "execution_count": 110
        }
      ]
    },
    {
      "cell_type": "code",
      "source": [
        "y"
      ],
      "metadata": {
        "colab": {
          "base_uri": "https://localhost:8080/"
        },
        "id": "dHdX1cEfxiWD",
        "outputId": "a0170258-1f43-4a74-843e-c7b2c995abf4"
      },
      "execution_count": null,
      "outputs": [
        {
          "output_type": "execute_result",
          "data": {
            "text/plain": [
              "0       0.0\n",
              "1       0.0\n",
              "2       0.0\n",
              "3       0.0\n",
              "4       0.0\n",
              "       ... \n",
              "3804    1.0\n",
              "3805    1.0\n",
              "3806    1.0\n",
              "3807    1.0\n",
              "3808    1.0\n",
              "Name: Class, Length: 3724, dtype: float64"
            ]
          },
          "metadata": {},
          "execution_count": 111
        }
      ]
    },
    {
      "cell_type": "markdown",
      "source": [
        "## Model Creation"
      ],
      "metadata": {
        "id": "6ujk7HMW3a-0"
      }
    },
    {
      "cell_type": "markdown",
      "source": [
        "We can now proceed to creating the model for our neural network"
      ],
      "metadata": {
        "id": "c8bPnK-PMaAr"
      }
    },
    {
      "cell_type": "code",
      "source": [
        "import tensorflow as tf\n",
        "from keras.models import Sequential\n",
        "from keras.layers import Dense, Input\n",
        "from keras.optimizers import Adam\n",
        "from sklearn.model_selection import train_test_split\n",
        "from keras.optimizers import SGD\n",
        "\n",
        "\n",
        "X_train, X_test, y_train, y_test = train_test_split(X_features, y, test_size=0.10, random_state=11111)\n",
        "\n",
        "np.random.seed(8)\n",
        "\n",
        "\n",
        "model = Sequential([\n",
        "         Dense(4, input_shape=(X_train.shape[1],), activation=\"relu\"),\n",
        "         Dense(3, activation=\"relu\"),\n",
        "         Dense(1, activation=\"sigmoid\")\n",
        "])\n",
        "\n",
        "optimizer = SGD(learning_rate = 0.004)\n",
        "\n",
        "model.compile(loss='binary_crossentropy', optimizer=optimizer, metrics=['accuracy'])\n",
        "\n",
        "model.summary()"
      ],
      "metadata": {
        "colab": {
          "base_uri": "https://localhost:8080/"
        },
        "id": "R1rczcYpsm0y",
        "outputId": "7bd95fb6-7d03-4e5e-9cd2-1a01434f570b"
      },
      "execution_count": null,
      "outputs": [
        {
          "output_type": "stream",
          "name": "stdout",
          "text": [
            "Model: \"sequential_5\"\n",
            "_________________________________________________________________\n",
            " Layer (type)                Output Shape              Param #   \n",
            "=================================================================\n",
            " dense_15 (Dense)            (None, 4)                 20        \n",
            "                                                                 \n",
            " dense_16 (Dense)            (None, 3)                 15        \n",
            "                                                                 \n",
            " dense_17 (Dense)            (None, 1)                 4         \n",
            "                                                                 \n",
            "=================================================================\n",
            "Total params: 39 (156.00 Byte)\n",
            "Trainable params: 39 (156.00 Byte)\n",
            "Non-trainable params: 0 (0.00 Byte)\n",
            "_________________________________________________________________\n"
          ]
        }
      ]
    },
    {
      "cell_type": "code",
      "source": [
        "hist = model.fit(X_train, y_train, epochs=100, batch_size=32)"
      ],
      "metadata": {
        "colab": {
          "base_uri": "https://localhost:8080/"
        },
        "id": "2JvCezUs77h5",
        "outputId": "9fb3fb84-d4c5-4d8e-8eda-a67e077f6695"
      },
      "execution_count": null,
      "outputs": [
        {
          "output_type": "stream",
          "name": "stdout",
          "text": [
            "Epoch 1/100\n",
            "105/105 [==============================] - 69s 2ms/step - loss: 0.5264 - accuracy: 0.8081\n",
            "Epoch 2/100\n",
            "105/105 [==============================] - 0s 2ms/step - loss: 0.5003 - accuracy: 0.8759\n",
            "Epoch 3/100\n",
            "105/105 [==============================] - 0s 2ms/step - loss: 0.4769 - accuracy: 0.8962\n",
            "Epoch 4/100\n",
            "105/105 [==============================] - 0s 3ms/step - loss: 0.4556 - accuracy: 0.9018\n",
            "Epoch 5/100\n",
            "105/105 [==============================] - 0s 2ms/step - loss: 0.4364 - accuracy: 0.9075\n",
            "Epoch 6/100\n",
            "105/105 [==============================] - 0s 3ms/step - loss: 0.4188 - accuracy: 0.9117\n",
            "Epoch 7/100\n",
            "105/105 [==============================] - 0s 2ms/step - loss: 0.4028 - accuracy: 0.9123\n",
            "Epoch 8/100\n",
            "105/105 [==============================] - 0s 2ms/step - loss: 0.3883 - accuracy: 0.9144\n",
            "Epoch 9/100\n",
            "105/105 [==============================] - 0s 2ms/step - loss: 0.3749 - accuracy: 0.9173\n",
            "Epoch 10/100\n",
            "105/105 [==============================] - 0s 2ms/step - loss: 0.3628 - accuracy: 0.9191\n",
            "Epoch 11/100\n",
            "105/105 [==============================] - 0s 2ms/step - loss: 0.3517 - accuracy: 0.9200\n",
            "Epoch 12/100\n",
            "105/105 [==============================] - 0s 2ms/step - loss: 0.3416 - accuracy: 0.9206\n",
            "Epoch 13/100\n",
            "105/105 [==============================] - 0s 2ms/step - loss: 0.3323 - accuracy: 0.9209\n",
            "Epoch 14/100\n",
            "105/105 [==============================] - 0s 2ms/step - loss: 0.3238 - accuracy: 0.9206\n",
            "Epoch 15/100\n",
            "105/105 [==============================] - 0s 2ms/step - loss: 0.3160 - accuracy: 0.9206\n",
            "Epoch 16/100\n",
            "105/105 [==============================] - 0s 2ms/step - loss: 0.3088 - accuracy: 0.9218\n",
            "Epoch 17/100\n",
            "105/105 [==============================] - 0s 2ms/step - loss: 0.3021 - accuracy: 0.9224\n",
            "Epoch 18/100\n",
            "105/105 [==============================] - 0s 3ms/step - loss: 0.2960 - accuracy: 0.9233\n",
            "Epoch 19/100\n",
            "105/105 [==============================] - 0s 3ms/step - loss: 0.2903 - accuracy: 0.9233\n",
            "Epoch 20/100\n",
            "105/105 [==============================] - 0s 2ms/step - loss: 0.2851 - accuracy: 0.9230\n",
            "Epoch 21/100\n",
            "105/105 [==============================] - 0s 2ms/step - loss: 0.2802 - accuracy: 0.9227\n",
            "Epoch 22/100\n",
            "105/105 [==============================] - 0s 2ms/step - loss: 0.2757 - accuracy: 0.9230\n",
            "Epoch 23/100\n",
            "105/105 [==============================] - 0s 4ms/step - loss: 0.2715 - accuracy: 0.9218\n",
            "Epoch 24/100\n",
            "105/105 [==============================] - 1s 5ms/step - loss: 0.2676 - accuracy: 0.9236\n",
            "Epoch 25/100\n",
            "105/105 [==============================] - 0s 2ms/step - loss: 0.2640 - accuracy: 0.9230\n",
            "Epoch 26/100\n",
            "105/105 [==============================] - 0s 2ms/step - loss: 0.2606 - accuracy: 0.9245\n",
            "Epoch 27/100\n",
            "105/105 [==============================] - 1s 7ms/step - loss: 0.2574 - accuracy: 0.9248\n",
            "Epoch 28/100\n",
            "105/105 [==============================] - 0s 3ms/step - loss: 0.2545 - accuracy: 0.9251\n",
            "Epoch 29/100\n",
            "105/105 [==============================] - 0s 2ms/step - loss: 0.2517 - accuracy: 0.9251\n",
            "Epoch 30/100\n",
            "105/105 [==============================] - 0s 2ms/step - loss: 0.2492 - accuracy: 0.9251\n",
            "Epoch 31/100\n",
            "105/105 [==============================] - 1s 7ms/step - loss: 0.2468 - accuracy: 0.9251\n",
            "Epoch 32/100\n",
            "105/105 [==============================] - 0s 3ms/step - loss: 0.2445 - accuracy: 0.9254\n",
            "Epoch 33/100\n",
            "105/105 [==============================] - 0s 2ms/step - loss: 0.2424 - accuracy: 0.9251\n",
            "Epoch 34/100\n",
            "105/105 [==============================] - 0s 2ms/step - loss: 0.2404 - accuracy: 0.9248\n",
            "Epoch 35/100\n",
            "105/105 [==============================] - 0s 2ms/step - loss: 0.2385 - accuracy: 0.9248\n",
            "Epoch 36/100\n",
            "105/105 [==============================] - 0s 2ms/step - loss: 0.2367 - accuracy: 0.9248\n",
            "Epoch 37/100\n",
            "105/105 [==============================] - 0s 2ms/step - loss: 0.2351 - accuracy: 0.9245\n",
            "Epoch 38/100\n",
            "105/105 [==============================] - 0s 2ms/step - loss: 0.2335 - accuracy: 0.9245\n",
            "Epoch 39/100\n",
            "105/105 [==============================] - 0s 2ms/step - loss: 0.2320 - accuracy: 0.9248\n",
            "Epoch 40/100\n",
            "105/105 [==============================] - 0s 2ms/step - loss: 0.2307 - accuracy: 0.9242\n",
            "Epoch 41/100\n",
            "105/105 [==============================] - 0s 2ms/step - loss: 0.2293 - accuracy: 0.9239\n",
            "Epoch 42/100\n",
            "105/105 [==============================] - 0s 2ms/step - loss: 0.2281 - accuracy: 0.9236\n",
            "Epoch 43/100\n",
            "105/105 [==============================] - 0s 2ms/step - loss: 0.2269 - accuracy: 0.9236\n",
            "Epoch 44/100\n",
            "105/105 [==============================] - 0s 2ms/step - loss: 0.2258 - accuracy: 0.9236\n",
            "Epoch 45/100\n",
            "105/105 [==============================] - 0s 2ms/step - loss: 0.2247 - accuracy: 0.9236\n",
            "Epoch 46/100\n",
            "105/105 [==============================] - 0s 2ms/step - loss: 0.2237 - accuracy: 0.9239\n",
            "Epoch 47/100\n",
            "105/105 [==============================] - 0s 2ms/step - loss: 0.2228 - accuracy: 0.9236\n",
            "Epoch 48/100\n",
            "105/105 [==============================] - 0s 2ms/step - loss: 0.2219 - accuracy: 0.9239\n",
            "Epoch 49/100\n",
            "105/105 [==============================] - 0s 2ms/step - loss: 0.2211 - accuracy: 0.9239\n",
            "Epoch 50/100\n",
            "105/105 [==============================] - 0s 2ms/step - loss: 0.2203 - accuracy: 0.9239\n",
            "Epoch 51/100\n",
            "105/105 [==============================] - 0s 2ms/step - loss: 0.2195 - accuracy: 0.9242\n",
            "Epoch 52/100\n",
            "105/105 [==============================] - 0s 2ms/step - loss: 0.2188 - accuracy: 0.9239\n",
            "Epoch 53/100\n",
            "105/105 [==============================] - 0s 2ms/step - loss: 0.2181 - accuracy: 0.9242\n",
            "Epoch 54/100\n",
            "105/105 [==============================] - 0s 2ms/step - loss: 0.2174 - accuracy: 0.9236\n",
            "Epoch 55/100\n",
            "105/105 [==============================] - 0s 2ms/step - loss: 0.2168 - accuracy: 0.9233\n",
            "Epoch 56/100\n",
            "105/105 [==============================] - 0s 2ms/step - loss: 0.2162 - accuracy: 0.9242\n",
            "Epoch 57/100\n",
            "105/105 [==============================] - 0s 2ms/step - loss: 0.2157 - accuracy: 0.9236\n",
            "Epoch 58/100\n",
            "105/105 [==============================] - 0s 2ms/step - loss: 0.2151 - accuracy: 0.9242\n",
            "Epoch 59/100\n",
            "105/105 [==============================] - 0s 2ms/step - loss: 0.2146 - accuracy: 0.9242\n",
            "Epoch 60/100\n",
            "105/105 [==============================] - 0s 2ms/step - loss: 0.2141 - accuracy: 0.9239\n",
            "Epoch 61/100\n",
            "105/105 [==============================] - 0s 2ms/step - loss: 0.2137 - accuracy: 0.9236\n",
            "Epoch 62/100\n",
            "105/105 [==============================] - 0s 2ms/step - loss: 0.2132 - accuracy: 0.9239\n",
            "Epoch 63/100\n",
            "105/105 [==============================] - 0s 2ms/step - loss: 0.2128 - accuracy: 0.9239\n",
            "Epoch 64/100\n",
            "105/105 [==============================] - 0s 2ms/step - loss: 0.2124 - accuracy: 0.9239\n",
            "Epoch 65/100\n",
            "105/105 [==============================] - 0s 2ms/step - loss: 0.2120 - accuracy: 0.9239\n",
            "Epoch 66/100\n",
            "105/105 [==============================] - 0s 3ms/step - loss: 0.2116 - accuracy: 0.9236\n",
            "Epoch 67/100\n",
            "105/105 [==============================] - 0s 2ms/step - loss: 0.2112 - accuracy: 0.9236\n",
            "Epoch 68/100\n",
            "105/105 [==============================] - 0s 2ms/step - loss: 0.2108 - accuracy: 0.9236\n",
            "Epoch 69/100\n",
            "105/105 [==============================] - 0s 2ms/step - loss: 0.2105 - accuracy: 0.9233\n",
            "Epoch 70/100\n",
            "105/105 [==============================] - 0s 2ms/step - loss: 0.2101 - accuracy: 0.9236\n",
            "Epoch 71/100\n",
            "105/105 [==============================] - 0s 2ms/step - loss: 0.2098 - accuracy: 0.9233\n",
            "Epoch 72/100\n",
            "105/105 [==============================] - 0s 2ms/step - loss: 0.2094 - accuracy: 0.9236\n",
            "Epoch 73/100\n",
            "105/105 [==============================] - 0s 3ms/step - loss: 0.2091 - accuracy: 0.9236\n",
            "Epoch 74/100\n",
            "105/105 [==============================] - 0s 2ms/step - loss: 0.2088 - accuracy: 0.9236\n",
            "Epoch 75/100\n",
            "105/105 [==============================] - 0s 2ms/step - loss: 0.2085 - accuracy: 0.9239\n",
            "Epoch 76/100\n",
            "105/105 [==============================] - 0s 2ms/step - loss: 0.2082 - accuracy: 0.9239\n",
            "Epoch 77/100\n",
            "105/105 [==============================] - 0s 2ms/step - loss: 0.2079 - accuracy: 0.9236\n",
            "Epoch 78/100\n",
            "105/105 [==============================] - 0s 3ms/step - loss: 0.2077 - accuracy: 0.9236\n",
            "Epoch 79/100\n",
            "105/105 [==============================] - 0s 3ms/step - loss: 0.2074 - accuracy: 0.9233\n",
            "Epoch 80/100\n",
            "105/105 [==============================] - 0s 2ms/step - loss: 0.2072 - accuracy: 0.9236\n",
            "Epoch 81/100\n",
            "105/105 [==============================] - 0s 2ms/step - loss: 0.2069 - accuracy: 0.9233\n",
            "Epoch 82/100\n",
            "105/105 [==============================] - 0s 2ms/step - loss: 0.2067 - accuracy: 0.9236\n",
            "Epoch 83/100\n",
            "105/105 [==============================] - 0s 2ms/step - loss: 0.2065 - accuracy: 0.9233\n",
            "Epoch 84/100\n",
            "105/105 [==============================] - 0s 2ms/step - loss: 0.2063 - accuracy: 0.9236\n",
            "Epoch 85/100\n",
            "105/105 [==============================] - 0s 2ms/step - loss: 0.2061 - accuracy: 0.9242\n",
            "Epoch 86/100\n",
            "105/105 [==============================] - 0s 2ms/step - loss: 0.2059 - accuracy: 0.9239\n",
            "Epoch 87/100\n",
            "105/105 [==============================] - 0s 2ms/step - loss: 0.2057 - accuracy: 0.9239\n",
            "Epoch 88/100\n",
            "105/105 [==============================] - 0s 2ms/step - loss: 0.2055 - accuracy: 0.9242\n",
            "Epoch 89/100\n",
            "105/105 [==============================] - 0s 2ms/step - loss: 0.2053 - accuracy: 0.9230\n",
            "Epoch 90/100\n",
            "105/105 [==============================] - 0s 2ms/step - loss: 0.2051 - accuracy: 0.9236\n",
            "Epoch 91/100\n",
            "105/105 [==============================] - 0s 2ms/step - loss: 0.2049 - accuracy: 0.9236\n",
            "Epoch 92/100\n",
            "105/105 [==============================] - 0s 2ms/step - loss: 0.2047 - accuracy: 0.9242\n",
            "Epoch 93/100\n",
            "105/105 [==============================] - 0s 2ms/step - loss: 0.2045 - accuracy: 0.9245\n",
            "Epoch 94/100\n",
            "105/105 [==============================] - 0s 2ms/step - loss: 0.2044 - accuracy: 0.9239\n",
            "Epoch 95/100\n",
            "105/105 [==============================] - 0s 2ms/step - loss: 0.2042 - accuracy: 0.9242\n",
            "Epoch 96/100\n",
            "105/105 [==============================] - 0s 2ms/step - loss: 0.2040 - accuracy: 0.9242\n",
            "Epoch 97/100\n",
            "105/105 [==============================] - 0s 2ms/step - loss: 0.2038 - accuracy: 0.9239\n",
            "Epoch 98/100\n",
            "105/105 [==============================] - 0s 2ms/step - loss: 0.2037 - accuracy: 0.9239\n",
            "Epoch 99/100\n",
            "105/105 [==============================] - 0s 2ms/step - loss: 0.2035 - accuracy: 0.9245\n",
            "Epoch 100/100\n",
            "105/105 [==============================] - 0s 2ms/step - loss: 0.2034 - accuracy: 0.9245\n"
          ]
        }
      ]
    },
    {
      "cell_type": "code",
      "source": [
        "scores = model.evaluate(X_train, y_train)\n",
        "print(\"%s: %.2f%%\" % (model.metrics_names[1], scores[1]*100))"
      ],
      "metadata": {
        "colab": {
          "base_uri": "https://localhost:8080/"
        },
        "id": "IPq-tyNp9aQC",
        "outputId": "bfa49721-b06d-4587-b992-4b9a53900f45"
      },
      "execution_count": null,
      "outputs": [
        {
          "output_type": "stream",
          "name": "stdout",
          "text": [
            "105/105 [==============================] - 0s 1ms/step - loss: 0.2032 - accuracy: 0.9245\n",
            "accuracy: 92.45%\n"
          ]
        }
      ]
    },
    {
      "cell_type": "markdown",
      "source": [
        "After creating our base model, we will now proceed to the tasks given in the activity which includes:\n",
        "\n",
        "- Saving and Loading the Model in the HDF5, JSON, and YAML formats.\n",
        "- Checkpoing the model for Model improvement and Best Model\n",
        "- Loading a saved Neural Network\n",
        "- Visualizing the Training using Keras History\n",
        "- Application of Dropout Regularization on Visible and Hidden Layer\n",
        "- Re-adjusting Learning Schedule based on Time and Drop"
      ],
      "metadata": {
        "id": "oiF05xxIMd2A"
      }
    },
    {
      "cell_type": "markdown",
      "source": [
        "# Save Model in HDF5 Format"
      ],
      "metadata": {
        "id": "ROEdFa_byt7-"
      }
    },
    {
      "cell_type": "code",
      "source": [
        "!pip install h5py"
      ],
      "metadata": {
        "colab": {
          "base_uri": "https://localhost:8080/"
        },
        "id": "iFhMJTey1I3S",
        "outputId": "72171231-1380-46c5-d3f7-0a9d25a843b1"
      },
      "execution_count": null,
      "outputs": [
        {
          "output_type": "stream",
          "name": "stdout",
          "text": [
            "Requirement already satisfied: h5py in /usr/local/lib/python3.10/dist-packages (3.9.0)\n",
            "Requirement already satisfied: numpy>=1.17.3 in /usr/local/lib/python3.10/dist-packages (from h5py) (1.25.2)\n"
          ]
        }
      ]
    },
    {
      "cell_type": "code",
      "source": [
        "from google.colab import drive\n",
        "drive.mount('/content/drive')"
      ],
      "metadata": {
        "id": "yEwZaI6Ry0ih",
        "colab": {
          "base_uri": "https://localhost:8080/"
        },
        "outputId": "54471853-ccaa-46c1-a043-394a59eee852"
      },
      "execution_count": null,
      "outputs": [
        {
          "output_type": "stream",
          "name": "stdout",
          "text": [
            "Drive already mounted at /content/drive; to attempt to forcibly remount, call drive.mount(\"/content/drive\", force_remount=True).\n"
          ]
        }
      ]
    },
    {
      "cell_type": "code",
      "source": [
        "model.save_weights(\"/content/drive/MyDrive/Emtech - Assignment 8.1/ hdf5_model.h5\")\n",
        "print(\"Saved model to disk\")"
      ],
      "metadata": {
        "colab": {
          "base_uri": "https://localhost:8080/"
        },
        "id": "Ks3JxNpl1HDF",
        "outputId": "14126ee8-4bff-4f82-aaa2-6e21d0f77767"
      },
      "execution_count": null,
      "outputs": [
        {
          "output_type": "stream",
          "name": "stdout",
          "text": [
            "Saved model to disk\n"
          ]
        }
      ]
    },
    {
      "cell_type": "markdown",
      "source": [
        "![image.png](data:image/png;base64,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)"
      ],
      "metadata": {
        "id": "JwXrDnHL2UKd"
      }
    },
    {
      "cell_type": "markdown",
      "source": [
        "Here we can see that the model has been successfully written and saved on the drive folder"
      ],
      "metadata": {
        "id": "9uzLev-ERpgq"
      }
    },
    {
      "cell_type": "markdown",
      "source": [
        "# Save Model in JSON Format"
      ],
      "metadata": {
        "id": "F2Hit3RAy0wn"
      }
    },
    {
      "cell_type": "code",
      "source": [
        "# serialize model to JSON\n",
        "model_json = model.to_json()\n",
        "with open(\"model.json\", \"w\") as json_file:\n",
        "    json_file.write(model_json)\n",
        "# serialize weights to HDF5\n",
        "model.save_weights(\"/content/drive/MyDrive/Emtech - Assignment 8.1/json_model.h5\")\n",
        "print(\"Saved model to disk\")"
      ],
      "metadata": {
        "id": "Y7PtHrHpy3HX",
        "colab": {
          "base_uri": "https://localhost:8080/"
        },
        "outputId": "9e9d1362-cdf6-40b0-9ebc-d893c41e10fc"
      },
      "execution_count": null,
      "outputs": [
        {
          "output_type": "stream",
          "name": "stdout",
          "text": [
            "Saved model to disk\n"
          ]
        }
      ]
    },
    {
      "cell_type": "markdown",
      "source": [
        "![image.png](data:image/png;base64,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)"
      ],
      "metadata": {
        "id": "5Y6gQ2952AYJ"
      }
    },
    {
      "cell_type": "markdown",
      "source": [
        "The JSON file has been successfully been written and saved"
      ],
      "metadata": {
        "id": "4KZ_cC-mRvxl"
      }
    },
    {
      "cell_type": "markdown",
      "source": [
        "### Loading the Model"
      ],
      "metadata": {
        "id": "-Y4q7uRh4QI3"
      }
    },
    {
      "cell_type": "code",
      "source": [
        "from tensorflow.keras.models import model_from_json\n",
        "# load json and create model\n",
        "json_file = open('model.json', 'r')\n",
        "loaded_model_json = json_file.read()\n",
        "json_file.close()\n",
        "loaded_model = model_from_json(loaded_model_json)\n",
        "# load weights into new model\n",
        "loaded_model.load_weights(\"/content/drive/MyDrive/Emtech - Assignment 8.1/json_model.h5\")\n",
        "print(\"Loaded model from disk\")"
      ],
      "metadata": {
        "colab": {
          "base_uri": "https://localhost:8080/"
        },
        "id": "apBtiD7i4RZX",
        "outputId": "d6c0ace5-69dd-446c-a171-d4d7e5251267"
      },
      "execution_count": null,
      "outputs": [
        {
          "output_type": "stream",
          "name": "stdout",
          "text": [
            "Loaded model from disk\n"
          ]
        }
      ]
    },
    {
      "cell_type": "code",
      "source": [
        "# evaluate loaded model on test data\n",
        "loaded_model.compile(loss='binary_crossentropy', optimizer='rmsprop', metrics=['accuracy'])\n",
        "score = loaded_model.evaluate(X_train, y_train, verbose=0)\n",
        "print(\"%s: %.2f%%\" % (loaded_model.metrics_names[1], score[1]*100))"
      ],
      "metadata": {
        "colab": {
          "base_uri": "https://localhost:8080/"
        },
        "id": "IHPwYIOz4ZBj",
        "outputId": "fb679162-1b0c-4bb0-d075-df047b07618b"
      },
      "execution_count": null,
      "outputs": [
        {
          "output_type": "stream",
          "name": "stdout",
          "text": [
            "accuracy: 92.45%\n"
          ]
        }
      ]
    },
    {
      "cell_type": "markdown",
      "source": [
        "You can also load the saved model from the Drive"
      ],
      "metadata": {
        "id": "e-N81LvwR0w7"
      }
    },
    {
      "cell_type": "markdown",
      "source": [
        "# Save Model in YAML Format"
      ],
      "metadata": {
        "id": "pSre6Fwby3W-"
      }
    },
    {
      "cell_type": "code",
      "source": [
        "# serialize model to YAML\n",
        "model_yaml = model.to_json()\n",
        "with open(\"model.yaml\", \"w\") as yaml_file:\n",
        "    yaml_file.write(model_yaml)\n",
        "# serialize weights to HDF5\n",
        "model.save_weights(\"/content/drive/MyDrive/Emtech - Assignment 8.1/yaml_model.h5\")\n",
        "print(\"Saved model to disk\")"
      ],
      "metadata": {
        "id": "PcfRspcGy82Y",
        "colab": {
          "base_uri": "https://localhost:8080/"
        },
        "outputId": "a0585724-e220-4144-f437-03d6a5107c0a"
      },
      "execution_count": null,
      "outputs": [
        {
          "output_type": "stream",
          "name": "stdout",
          "text": [
            "Saved model to disk\n"
          ]
        }
      ]
    },
    {
      "cell_type": "markdown",
      "source": [
        "![image.png](data:image/png;base64,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)"
      ],
      "metadata": {
        "id": "UJk0wfiV2z5u"
      }
    },
    {
      "cell_type": "markdown",
      "source": [
        "### Loading the MOdel"
      ],
      "metadata": {
        "id": "iUpefsck4N6S"
      }
    },
    {
      "cell_type": "code",
      "source": [
        "from tensorflow.keras.models import model_from_yaml\n",
        "\n",
        "# load YAML and create model\n",
        "yaml_file = open('model.yaml', 'r')\n",
        "loaded_model_yaml = yaml_file.read()\n",
        "yaml_file.close()\n",
        "loaded_model = model_from_json(loaded_model_yaml)\n",
        "# load weights into new model\n",
        "loaded_model.load_weights(\"/content/drive/MyDrive/Emtech - Assignment 8.1/yaml_model.h5\")\n",
        "print(\"Loaded model from disk\")\n"
      ],
      "metadata": {
        "colab": {
          "base_uri": "https://localhost:8080/"
        },
        "id": "Hq0wW-Oa4PNA",
        "outputId": "780b2d4d-022e-44a2-dbf9-a92e911fea55"
      },
      "execution_count": null,
      "outputs": [
        {
          "output_type": "stream",
          "name": "stdout",
          "text": [
            "Loaded model from disk\n"
          ]
        }
      ]
    },
    {
      "cell_type": "code",
      "source": [
        "# evaluate loaded model on test data\n",
        "loaded_model.compile(loss='binary_crossentropy', optimizer='rmsprop', metrics=['accuracy'])\n",
        "score = loaded_model.evaluate(X_train, y_train, verbose=0)\n",
        "print(\"%s: %.2f%%\" % (loaded_model.metrics_names[1], score[1]*100))"
      ],
      "metadata": {
        "colab": {
          "base_uri": "https://localhost:8080/"
        },
        "id": "Ut4AzAPU40xJ",
        "outputId": "5f0a7021-1ad4-4bd0-a8b7-3f2ec4793fdd"
      },
      "execution_count": null,
      "outputs": [
        {
          "output_type": "stream",
          "name": "stdout",
          "text": [
            "accuracy: 92.45%\n"
          ]
        }
      ]
    },
    {
      "cell_type": "markdown",
      "source": [
        "# Checkpoint Model Improvement"
      ],
      "metadata": {
        "id": "WYl3QaAQy9HH"
      }
    },
    {
      "cell_type": "code",
      "source": [
        "from keras.callbacks import ModelCheckpoint\n",
        "\n",
        "# checkpoint\n",
        "filepath=\"weights-improvement-{epoch:02d}-{val_accuracy:.2f}.hdf5\"\n",
        "checkpoint = ModelCheckpoint(filepath, monitor='val_accuracy', verbose=1, save_best_only=True, mode='max')\n",
        "callbacks_list = [checkpoint]"
      ],
      "metadata": {
        "id": "_Iw_WqpF1oSG"
      },
      "execution_count": null,
      "outputs": []
    },
    {
      "cell_type": "code",
      "source": [
        "# Fit the model\n",
        "model.fit(X_train, y_train, validation_split=0.33, epochs=150, batch_size=32, callbacks=callbacks_list, verbose=0)"
      ],
      "metadata": {
        "colab": {
          "base_uri": "https://localhost:8080/"
        },
        "id": "7O48ZKcq3FH5",
        "outputId": "11ba25e6-c881-4db2-dd13-12692e7421ad"
      },
      "execution_count": null,
      "outputs": [
        {
          "output_type": "stream",
          "name": "stdout",
          "text": [
            "\n",
            "Epoch 1: val_accuracy improved from -inf to 0.92767, saving model to weights-improvement-01-0.93.hdf5\n",
            "\n",
            "Epoch 2: val_accuracy did not improve from 0.92767\n"
          ]
        },
        {
          "output_type": "stream",
          "name": "stderr",
          "text": [
            "/usr/local/lib/python3.10/dist-packages/keras/src/engine/training.py:3103: UserWarning: You are saving your model as an HDF5 file via `model.save()`. This file format is considered legacy. We recommend using instead the native Keras format, e.g. `model.save('my_model.keras')`.\n",
            "  saving_api.save_model(\n"
          ]
        },
        {
          "output_type": "stream",
          "name": "stdout",
          "text": [
            "\n",
            "Epoch 3: val_accuracy did not improve from 0.92767\n",
            "\n",
            "Epoch 4: val_accuracy did not improve from 0.92767\n",
            "\n",
            "Epoch 5: val_accuracy did not improve from 0.92767\n",
            "\n",
            "Epoch 6: val_accuracy did not improve from 0.92767\n",
            "\n",
            "Epoch 7: val_accuracy did not improve from 0.92767\n",
            "\n",
            "Epoch 8: val_accuracy did not improve from 0.92767\n",
            "\n",
            "Epoch 9: val_accuracy did not improve from 0.92767\n",
            "\n",
            "Epoch 10: val_accuracy did not improve from 0.92767\n",
            "\n",
            "Epoch 11: val_accuracy did not improve from 0.92767\n",
            "\n",
            "Epoch 12: val_accuracy did not improve from 0.92767\n",
            "\n",
            "Epoch 13: val_accuracy did not improve from 0.92767\n",
            "\n",
            "Epoch 14: val_accuracy did not improve from 0.92767\n",
            "\n",
            "Epoch 15: val_accuracy did not improve from 0.92767\n",
            "\n",
            "Epoch 16: val_accuracy did not improve from 0.92767\n",
            "\n",
            "Epoch 17: val_accuracy did not improve from 0.92767\n",
            "\n",
            "Epoch 18: val_accuracy did not improve from 0.92767\n",
            "\n",
            "Epoch 19: val_accuracy did not improve from 0.92767\n",
            "\n",
            "Epoch 20: val_accuracy did not improve from 0.92767\n",
            "\n",
            "Epoch 21: val_accuracy did not improve from 0.92767\n",
            "\n",
            "Epoch 22: val_accuracy did not improve from 0.92767\n",
            "\n",
            "Epoch 23: val_accuracy did not improve from 0.92767\n",
            "\n",
            "Epoch 24: val_accuracy did not improve from 0.92767\n",
            "\n",
            "Epoch 25: val_accuracy did not improve from 0.92767\n",
            "\n",
            "Epoch 26: val_accuracy did not improve from 0.92767\n",
            "\n",
            "Epoch 27: val_accuracy did not improve from 0.92767\n",
            "\n",
            "Epoch 28: val_accuracy did not improve from 0.92767\n",
            "\n",
            "Epoch 29: val_accuracy did not improve from 0.92767\n",
            "\n",
            "Epoch 30: val_accuracy did not improve from 0.92767\n",
            "\n",
            "Epoch 31: val_accuracy did not improve from 0.92767\n",
            "\n",
            "Epoch 32: val_accuracy did not improve from 0.92767\n",
            "\n",
            "Epoch 33: val_accuracy did not improve from 0.92767\n",
            "\n",
            "Epoch 34: val_accuracy did not improve from 0.92767\n",
            "\n",
            "Epoch 35: val_accuracy did not improve from 0.92767\n",
            "\n",
            "Epoch 36: val_accuracy did not improve from 0.92767\n",
            "\n",
            "Epoch 37: val_accuracy did not improve from 0.92767\n",
            "\n",
            "Epoch 38: val_accuracy did not improve from 0.92767\n",
            "\n",
            "Epoch 39: val_accuracy did not improve from 0.92767\n",
            "\n",
            "Epoch 40: val_accuracy did not improve from 0.92767\n",
            "\n",
            "Epoch 41: val_accuracy did not improve from 0.92767\n",
            "\n",
            "Epoch 42: val_accuracy did not improve from 0.92767\n",
            "\n",
            "Epoch 43: val_accuracy did not improve from 0.92767\n",
            "\n",
            "Epoch 44: val_accuracy did not improve from 0.92767\n",
            "\n",
            "Epoch 45: val_accuracy did not improve from 0.92767\n",
            "\n",
            "Epoch 46: val_accuracy did not improve from 0.92767\n",
            "\n",
            "Epoch 47: val_accuracy did not improve from 0.92767\n",
            "\n",
            "Epoch 48: val_accuracy did not improve from 0.92767\n",
            "\n",
            "Epoch 49: val_accuracy did not improve from 0.92767\n",
            "\n",
            "Epoch 50: val_accuracy did not improve from 0.92767\n",
            "\n",
            "Epoch 51: val_accuracy did not improve from 0.92767\n",
            "\n",
            "Epoch 52: val_accuracy did not improve from 0.92767\n",
            "\n",
            "Epoch 53: val_accuracy did not improve from 0.92767\n",
            "\n",
            "Epoch 54: val_accuracy did not improve from 0.92767\n",
            "\n",
            "Epoch 55: val_accuracy did not improve from 0.92767\n",
            "\n",
            "Epoch 56: val_accuracy did not improve from 0.92767\n",
            "\n",
            "Epoch 57: val_accuracy did not improve from 0.92767\n",
            "\n",
            "Epoch 58: val_accuracy did not improve from 0.92767\n",
            "\n",
            "Epoch 59: val_accuracy did not improve from 0.92767\n",
            "\n",
            "Epoch 60: val_accuracy did not improve from 0.92767\n",
            "\n",
            "Epoch 61: val_accuracy did not improve from 0.92767\n",
            "\n",
            "Epoch 62: val_accuracy did not improve from 0.92767\n",
            "\n",
            "Epoch 63: val_accuracy did not improve from 0.92767\n",
            "\n",
            "Epoch 64: val_accuracy did not improve from 0.92767\n",
            "\n",
            "Epoch 65: val_accuracy did not improve from 0.92767\n",
            "\n",
            "Epoch 66: val_accuracy did not improve from 0.92767\n",
            "\n",
            "Epoch 67: val_accuracy did not improve from 0.92767\n",
            "\n",
            "Epoch 68: val_accuracy did not improve from 0.92767\n",
            "\n",
            "Epoch 69: val_accuracy did not improve from 0.92767\n",
            "\n",
            "Epoch 70: val_accuracy did not improve from 0.92767\n",
            "\n",
            "Epoch 71: val_accuracy did not improve from 0.92767\n",
            "\n",
            "Epoch 72: val_accuracy did not improve from 0.92767\n",
            "\n",
            "Epoch 73: val_accuracy did not improve from 0.92767\n",
            "\n",
            "Epoch 74: val_accuracy did not improve from 0.92767\n",
            "\n",
            "Epoch 75: val_accuracy did not improve from 0.92767\n",
            "\n",
            "Epoch 76: val_accuracy did not improve from 0.92767\n",
            "\n",
            "Epoch 77: val_accuracy did not improve from 0.92767\n",
            "\n",
            "Epoch 78: val_accuracy did not improve from 0.92767\n",
            "\n",
            "Epoch 79: val_accuracy did not improve from 0.92767\n",
            "\n",
            "Epoch 80: val_accuracy did not improve from 0.92767\n",
            "\n",
            "Epoch 81: val_accuracy did not improve from 0.92767\n",
            "\n",
            "Epoch 82: val_accuracy did not improve from 0.92767\n",
            "\n",
            "Epoch 83: val_accuracy did not improve from 0.92767\n",
            "\n",
            "Epoch 84: val_accuracy did not improve from 0.92767\n",
            "\n",
            "Epoch 85: val_accuracy did not improve from 0.92767\n",
            "\n",
            "Epoch 86: val_accuracy did not improve from 0.92767\n",
            "\n",
            "Epoch 87: val_accuracy did not improve from 0.92767\n",
            "\n",
            "Epoch 88: val_accuracy did not improve from 0.92767\n",
            "\n",
            "Epoch 89: val_accuracy did not improve from 0.92767\n",
            "\n",
            "Epoch 90: val_accuracy did not improve from 0.92767\n",
            "\n",
            "Epoch 91: val_accuracy did not improve from 0.92767\n",
            "\n",
            "Epoch 92: val_accuracy did not improve from 0.92767\n",
            "\n",
            "Epoch 93: val_accuracy did not improve from 0.92767\n",
            "\n",
            "Epoch 94: val_accuracy did not improve from 0.92767\n",
            "\n",
            "Epoch 95: val_accuracy did not improve from 0.92767\n",
            "\n",
            "Epoch 96: val_accuracy did not improve from 0.92767\n",
            "\n",
            "Epoch 97: val_accuracy did not improve from 0.92767\n",
            "\n",
            "Epoch 98: val_accuracy did not improve from 0.92767\n",
            "\n",
            "Epoch 99: val_accuracy did not improve from 0.92767\n",
            "\n",
            "Epoch 100: val_accuracy did not improve from 0.92767\n",
            "\n",
            "Epoch 101: val_accuracy did not improve from 0.92767\n",
            "\n",
            "Epoch 102: val_accuracy did not improve from 0.92767\n",
            "\n",
            "Epoch 103: val_accuracy did not improve from 0.92767\n",
            "\n",
            "Epoch 104: val_accuracy did not improve from 0.92767\n",
            "\n",
            "Epoch 105: val_accuracy did not improve from 0.92767\n",
            "\n",
            "Epoch 106: val_accuracy did not improve from 0.92767\n",
            "\n",
            "Epoch 107: val_accuracy did not improve from 0.92767\n",
            "\n",
            "Epoch 108: val_accuracy did not improve from 0.92767\n",
            "\n",
            "Epoch 109: val_accuracy did not improve from 0.92767\n",
            "\n",
            "Epoch 110: val_accuracy did not improve from 0.92767\n",
            "\n",
            "Epoch 111: val_accuracy did not improve from 0.92767\n",
            "\n",
            "Epoch 112: val_accuracy did not improve from 0.92767\n",
            "\n",
            "Epoch 113: val_accuracy did not improve from 0.92767\n",
            "\n",
            "Epoch 114: val_accuracy did not improve from 0.92767\n",
            "\n",
            "Epoch 115: val_accuracy did not improve from 0.92767\n",
            "\n",
            "Epoch 116: val_accuracy did not improve from 0.92767\n",
            "\n",
            "Epoch 117: val_accuracy did not improve from 0.92767\n",
            "\n",
            "Epoch 118: val_accuracy did not improve from 0.92767\n",
            "\n",
            "Epoch 119: val_accuracy did not improve from 0.92767\n",
            "\n",
            "Epoch 120: val_accuracy did not improve from 0.92767\n",
            "\n",
            "Epoch 121: val_accuracy did not improve from 0.92767\n",
            "\n",
            "Epoch 122: val_accuracy did not improve from 0.92767\n",
            "\n",
            "Epoch 123: val_accuracy did not improve from 0.92767\n",
            "\n",
            "Epoch 124: val_accuracy did not improve from 0.92767\n",
            "\n",
            "Epoch 125: val_accuracy did not improve from 0.92767\n",
            "\n",
            "Epoch 126: val_accuracy did not improve from 0.92767\n",
            "\n",
            "Epoch 127: val_accuracy did not improve from 0.92767\n",
            "\n",
            "Epoch 128: val_accuracy did not improve from 0.92767\n",
            "\n",
            "Epoch 129: val_accuracy did not improve from 0.92767\n",
            "\n",
            "Epoch 130: val_accuracy did not improve from 0.92767\n",
            "\n",
            "Epoch 131: val_accuracy did not improve from 0.92767\n",
            "\n",
            "Epoch 132: val_accuracy did not improve from 0.92767\n",
            "\n",
            "Epoch 133: val_accuracy did not improve from 0.92767\n",
            "\n",
            "Epoch 134: val_accuracy did not improve from 0.92767\n",
            "\n",
            "Epoch 135: val_accuracy did not improve from 0.92767\n",
            "\n",
            "Epoch 136: val_accuracy did not improve from 0.92767\n",
            "\n",
            "Epoch 137: val_accuracy did not improve from 0.92767\n",
            "\n",
            "Epoch 138: val_accuracy did not improve from 0.92767\n",
            "\n",
            "Epoch 139: val_accuracy did not improve from 0.92767\n",
            "\n",
            "Epoch 140: val_accuracy did not improve from 0.92767\n",
            "\n",
            "Epoch 141: val_accuracy did not improve from 0.92767\n",
            "\n",
            "Epoch 142: val_accuracy did not improve from 0.92767\n",
            "\n",
            "Epoch 143: val_accuracy did not improve from 0.92767\n",
            "\n",
            "Epoch 144: val_accuracy did not improve from 0.92767\n",
            "\n",
            "Epoch 145: val_accuracy did not improve from 0.92767\n",
            "\n",
            "Epoch 146: val_accuracy did not improve from 0.92767\n",
            "\n",
            "Epoch 147: val_accuracy did not improve from 0.92767\n",
            "\n",
            "Epoch 148: val_accuracy did not improve from 0.92767\n",
            "\n",
            "Epoch 149: val_accuracy did not improve from 0.92767\n",
            "\n",
            "Epoch 150: val_accuracy did not improve from 0.92767\n"
          ]
        },
        {
          "output_type": "execute_result",
          "data": {
            "text/plain": [
              "<keras.src.callbacks.History at 0x78586ea9a650>"
            ]
          },
          "metadata": {},
          "execution_count": 125
        }
      ]
    },
    {
      "cell_type": "markdown",
      "source": [
        "In this simulation, the model did not improve from any of the checkpoints"
      ],
      "metadata": {
        "id": "e6ui14wTR9dD"
      }
    },
    {
      "cell_type": "markdown",
      "source": [
        "# Checkpoint Best Model"
      ],
      "metadata": {
        "id": "NBvSkovZ1oi_"
      }
    },
    {
      "cell_type": "code",
      "source": [
        "# checkpoint\n",
        "filepath=\"weights.best.hdf5\"\n",
        "checkpoint = ModelCheckpoint(filepath, monitor='val_accuracy', verbose=1, save_best_only=True, mode='max')\n",
        "callbacks_list = [checkpoint]\n"
      ],
      "metadata": {
        "id": "7vDkEqbA1tVP"
      },
      "execution_count": null,
      "outputs": []
    },
    {
      "cell_type": "code",
      "source": [
        "# Fit the model\n",
        "model.fit(X_train, y_train, validation_split=0.33, epochs=150, batch_size=32, callbacks=callbacks_list, verbose=0)"
      ],
      "metadata": {
        "colab": {
          "base_uri": "https://localhost:8080/"
        },
        "id": "9ax1C8lu3bJ3",
        "outputId": "6c1a987a-dfd3-4271-fd63-81092e4c4b98"
      },
      "execution_count": null,
      "outputs": [
        {
          "output_type": "stream",
          "name": "stdout",
          "text": [
            "\n",
            "Epoch 1: val_accuracy improved from -inf to 0.89829, saving model to weights.best.hdf5\n"
          ]
        },
        {
          "output_type": "stream",
          "name": "stderr",
          "text": [
            "/usr/local/lib/python3.10/dist-packages/keras/src/engine/training.py:3103: UserWarning: You are saving your model as an HDF5 file via `model.save()`. This file format is considered legacy. We recommend using instead the native Keras format, e.g. `model.save('my_model.keras')`.\n",
            "  saving_api.save_model(\n"
          ]
        },
        {
          "output_type": "stream",
          "name": "stdout",
          "text": [
            "\n",
            "Epoch 2: val_accuracy improved from 0.89829 to 0.90561, saving model to weights.best.hdf5\n",
            "\n",
            "Epoch 3: val_accuracy improved from 0.90561 to 0.91212, saving model to weights.best.hdf5\n",
            "\n",
            "Epoch 4: val_accuracy improved from 0.91212 to 0.91701, saving model to weights.best.hdf5\n",
            "\n",
            "Epoch 5: val_accuracy improved from 0.91701 to 0.92107, saving model to weights.best.hdf5\n",
            "\n",
            "Epoch 6: val_accuracy improved from 0.92107 to 0.92433, saving model to weights.best.hdf5\n",
            "\n",
            "Epoch 7: val_accuracy improved from 0.92433 to 0.92514, saving model to weights.best.hdf5\n",
            "\n",
            "Epoch 8: val_accuracy improved from 0.92514 to 0.92596, saving model to weights.best.hdf5\n",
            "\n",
            "Epoch 9: val_accuracy did not improve from 0.92596\n",
            "\n",
            "Epoch 10: val_accuracy improved from 0.92596 to 0.92677, saving model to weights.best.hdf5\n",
            "\n",
            "Epoch 11: val_accuracy did not improve from 0.92677\n",
            "\n",
            "Epoch 12: val_accuracy did not improve from 0.92677\n",
            "\n",
            "Epoch 13: val_accuracy did not improve from 0.92677\n",
            "\n",
            "Epoch 14: val_accuracy improved from 0.92677 to 0.92840, saving model to weights.best.hdf5\n",
            "\n",
            "Epoch 15: val_accuracy did not improve from 0.92840\n",
            "\n",
            "Epoch 16: val_accuracy did not improve from 0.92840\n",
            "\n",
            "Epoch 17: val_accuracy did not improve from 0.92840\n",
            "\n",
            "Epoch 18: val_accuracy did not improve from 0.92840\n",
            "\n",
            "Epoch 19: val_accuracy did not improve from 0.92840\n",
            "\n",
            "Epoch 20: val_accuracy did not improve from 0.92840\n",
            "\n",
            "Epoch 21: val_accuracy did not improve from 0.92840\n",
            "\n",
            "Epoch 22: val_accuracy did not improve from 0.92840\n",
            "\n",
            "Epoch 23: val_accuracy did not improve from 0.92840\n",
            "\n",
            "Epoch 24: val_accuracy did not improve from 0.92840\n",
            "\n",
            "Epoch 25: val_accuracy did not improve from 0.92840\n",
            "\n",
            "Epoch 26: val_accuracy did not improve from 0.92840\n",
            "\n",
            "Epoch 27: val_accuracy did not improve from 0.92840\n",
            "\n",
            "Epoch 28: val_accuracy did not improve from 0.92840\n",
            "\n",
            "Epoch 29: val_accuracy did not improve from 0.92840\n",
            "\n",
            "Epoch 30: val_accuracy improved from 0.92840 to 0.92921, saving model to weights.best.hdf5\n",
            "\n",
            "Epoch 31: val_accuracy improved from 0.92921 to 0.93002, saving model to weights.best.hdf5\n",
            "\n",
            "Epoch 32: val_accuracy did not improve from 0.93002\n",
            "\n",
            "Epoch 33: val_accuracy did not improve from 0.93002\n",
            "\n",
            "Epoch 34: val_accuracy did not improve from 0.93002\n",
            "\n",
            "Epoch 35: val_accuracy did not improve from 0.93002\n",
            "\n",
            "Epoch 36: val_accuracy did not improve from 0.93002\n",
            "\n",
            "Epoch 37: val_accuracy did not improve from 0.93002\n",
            "\n",
            "Epoch 38: val_accuracy did not improve from 0.93002\n",
            "\n",
            "Epoch 39: val_accuracy did not improve from 0.93002\n",
            "\n",
            "Epoch 40: val_accuracy improved from 0.93002 to 0.93084, saving model to weights.best.hdf5\n",
            "\n",
            "Epoch 41: val_accuracy did not improve from 0.93084\n",
            "\n",
            "Epoch 42: val_accuracy did not improve from 0.93084\n",
            "\n",
            "Epoch 43: val_accuracy did not improve from 0.93084\n",
            "\n",
            "Epoch 44: val_accuracy did not improve from 0.93084\n",
            "\n",
            "Epoch 45: val_accuracy did not improve from 0.93084\n",
            "\n",
            "Epoch 46: val_accuracy did not improve from 0.93084\n",
            "\n",
            "Epoch 47: val_accuracy did not improve from 0.93084\n",
            "\n",
            "Epoch 48: val_accuracy did not improve from 0.93084\n",
            "\n",
            "Epoch 49: val_accuracy did not improve from 0.93084\n",
            "\n",
            "Epoch 50: val_accuracy did not improve from 0.93084\n",
            "\n",
            "Epoch 51: val_accuracy did not improve from 0.93084\n",
            "\n",
            "Epoch 52: val_accuracy did not improve from 0.93084\n",
            "\n",
            "Epoch 53: val_accuracy did not improve from 0.93084\n",
            "\n",
            "Epoch 54: val_accuracy did not improve from 0.93084\n",
            "\n",
            "Epoch 55: val_accuracy did not improve from 0.93084\n",
            "\n",
            "Epoch 56: val_accuracy did not improve from 0.93084\n",
            "\n",
            "Epoch 57: val_accuracy did not improve from 0.93084\n",
            "\n",
            "Epoch 58: val_accuracy did not improve from 0.93084\n",
            "\n",
            "Epoch 59: val_accuracy did not improve from 0.93084\n",
            "\n",
            "Epoch 60: val_accuracy did not improve from 0.93084\n",
            "\n",
            "Epoch 61: val_accuracy did not improve from 0.93084\n",
            "\n",
            "Epoch 62: val_accuracy did not improve from 0.93084\n",
            "\n",
            "Epoch 63: val_accuracy did not improve from 0.93084\n",
            "\n",
            "Epoch 64: val_accuracy did not improve from 0.93084\n",
            "\n",
            "Epoch 65: val_accuracy did not improve from 0.93084\n",
            "\n",
            "Epoch 66: val_accuracy did not improve from 0.93084\n",
            "\n",
            "Epoch 67: val_accuracy did not improve from 0.93084\n",
            "\n",
            "Epoch 68: val_accuracy did not improve from 0.93084\n",
            "\n",
            "Epoch 69: val_accuracy did not improve from 0.93084\n",
            "\n",
            "Epoch 70: val_accuracy did not improve from 0.93084\n",
            "\n",
            "Epoch 71: val_accuracy did not improve from 0.93084\n",
            "\n",
            "Epoch 72: val_accuracy did not improve from 0.93084\n",
            "\n",
            "Epoch 73: val_accuracy did not improve from 0.93084\n",
            "\n",
            "Epoch 74: val_accuracy did not improve from 0.93084\n",
            "\n",
            "Epoch 75: val_accuracy did not improve from 0.93084\n",
            "\n",
            "Epoch 76: val_accuracy did not improve from 0.93084\n",
            "\n",
            "Epoch 77: val_accuracy did not improve from 0.93084\n",
            "\n",
            "Epoch 78: val_accuracy did not improve from 0.93084\n",
            "\n",
            "Epoch 79: val_accuracy did not improve from 0.93084\n",
            "\n",
            "Epoch 80: val_accuracy did not improve from 0.93084\n",
            "\n",
            "Epoch 81: val_accuracy did not improve from 0.93084\n",
            "\n",
            "Epoch 82: val_accuracy did not improve from 0.93084\n",
            "\n",
            "Epoch 83: val_accuracy did not improve from 0.93084\n",
            "\n",
            "Epoch 84: val_accuracy did not improve from 0.93084\n",
            "\n",
            "Epoch 85: val_accuracy did not improve from 0.93084\n",
            "\n",
            "Epoch 86: val_accuracy did not improve from 0.93084\n",
            "\n",
            "Epoch 87: val_accuracy did not improve from 0.93084\n",
            "\n",
            "Epoch 88: val_accuracy did not improve from 0.93084\n",
            "\n",
            "Epoch 89: val_accuracy did not improve from 0.93084\n",
            "\n",
            "Epoch 90: val_accuracy did not improve from 0.93084\n",
            "\n",
            "Epoch 91: val_accuracy did not improve from 0.93084\n",
            "\n",
            "Epoch 92: val_accuracy did not improve from 0.93084\n",
            "\n",
            "Epoch 93: val_accuracy did not improve from 0.93084\n",
            "\n",
            "Epoch 94: val_accuracy did not improve from 0.93084\n",
            "\n",
            "Epoch 95: val_accuracy did not improve from 0.93084\n",
            "\n",
            "Epoch 96: val_accuracy did not improve from 0.93084\n",
            "\n",
            "Epoch 97: val_accuracy did not improve from 0.93084\n",
            "\n",
            "Epoch 98: val_accuracy did not improve from 0.93084\n",
            "\n",
            "Epoch 99: val_accuracy did not improve from 0.93084\n",
            "\n",
            "Epoch 100: val_accuracy did not improve from 0.93084\n",
            "\n",
            "Epoch 101: val_accuracy did not improve from 0.93084\n",
            "\n",
            "Epoch 102: val_accuracy did not improve from 0.93084\n",
            "\n",
            "Epoch 103: val_accuracy did not improve from 0.93084\n",
            "\n",
            "Epoch 104: val_accuracy did not improve from 0.93084\n",
            "\n",
            "Epoch 105: val_accuracy did not improve from 0.93084\n",
            "\n",
            "Epoch 106: val_accuracy did not improve from 0.93084\n",
            "\n",
            "Epoch 107: val_accuracy did not improve from 0.93084\n",
            "\n",
            "Epoch 108: val_accuracy did not improve from 0.93084\n",
            "\n",
            "Epoch 109: val_accuracy did not improve from 0.93084\n",
            "\n",
            "Epoch 110: val_accuracy did not improve from 0.93084\n",
            "\n",
            "Epoch 111: val_accuracy did not improve from 0.93084\n",
            "\n",
            "Epoch 112: val_accuracy did not improve from 0.93084\n",
            "\n",
            "Epoch 113: val_accuracy did not improve from 0.93084\n",
            "\n",
            "Epoch 114: val_accuracy did not improve from 0.93084\n",
            "\n",
            "Epoch 115: val_accuracy did not improve from 0.93084\n",
            "\n",
            "Epoch 116: val_accuracy did not improve from 0.93084\n",
            "\n",
            "Epoch 117: val_accuracy did not improve from 0.93084\n",
            "\n",
            "Epoch 118: val_accuracy did not improve from 0.93084\n",
            "\n",
            "Epoch 119: val_accuracy did not improve from 0.93084\n",
            "\n",
            "Epoch 120: val_accuracy did not improve from 0.93084\n",
            "\n",
            "Epoch 121: val_accuracy did not improve from 0.93084\n",
            "\n",
            "Epoch 122: val_accuracy did not improve from 0.93084\n",
            "\n",
            "Epoch 123: val_accuracy did not improve from 0.93084\n",
            "\n",
            "Epoch 124: val_accuracy did not improve from 0.93084\n",
            "\n",
            "Epoch 125: val_accuracy did not improve from 0.93084\n",
            "\n",
            "Epoch 126: val_accuracy did not improve from 0.93084\n",
            "\n",
            "Epoch 127: val_accuracy did not improve from 0.93084\n",
            "\n",
            "Epoch 128: val_accuracy did not improve from 0.93084\n",
            "\n",
            "Epoch 129: val_accuracy did not improve from 0.93084\n",
            "\n",
            "Epoch 130: val_accuracy did not improve from 0.93084\n",
            "\n",
            "Epoch 131: val_accuracy did not improve from 0.93084\n",
            "\n",
            "Epoch 132: val_accuracy did not improve from 0.93084\n",
            "\n",
            "Epoch 133: val_accuracy did not improve from 0.93084\n",
            "\n",
            "Epoch 134: val_accuracy did not improve from 0.93084\n",
            "\n",
            "Epoch 135: val_accuracy did not improve from 0.93084\n",
            "\n",
            "Epoch 136: val_accuracy did not improve from 0.93084\n",
            "\n",
            "Epoch 137: val_accuracy did not improve from 0.93084\n",
            "\n",
            "Epoch 138: val_accuracy did not improve from 0.93084\n",
            "\n",
            "Epoch 139: val_accuracy did not improve from 0.93084\n",
            "\n",
            "Epoch 140: val_accuracy did not improve from 0.93084\n",
            "\n",
            "Epoch 141: val_accuracy did not improve from 0.93084\n",
            "\n",
            "Epoch 142: val_accuracy did not improve from 0.93084\n",
            "\n",
            "Epoch 143: val_accuracy did not improve from 0.93084\n",
            "\n",
            "Epoch 144: val_accuracy did not improve from 0.93084\n",
            "\n",
            "Epoch 145: val_accuracy did not improve from 0.93084\n",
            "\n",
            "Epoch 146: val_accuracy did not improve from 0.93084\n",
            "\n",
            "Epoch 147: val_accuracy did not improve from 0.93084\n",
            "\n",
            "Epoch 148: val_accuracy did not improve from 0.93084\n",
            "\n",
            "Epoch 149: val_accuracy did not improve from 0.93084\n",
            "\n",
            "Epoch 150: val_accuracy did not improve from 0.93084\n"
          ]
        },
        {
          "output_type": "execute_result",
          "data": {
            "text/plain": [
              "<keras.src.callbacks.History at 0x7858053d42b0>"
            ]
          },
          "metadata": {},
          "execution_count": 129
        }
      ]
    },
    {
      "cell_type": "markdown",
      "source": [
        "# Load Saved Model"
      ],
      "metadata": {
        "id": "vHvVF-O-1t2f"
      }
    },
    {
      "cell_type": "code",
      "source": [
        "model = Sequential()\n",
        "model.add(Dense(4, input_shape=(X_train.shape[1],), kernel_initializer = 'uniform' , activation= 'relu' ))\n",
        "model.add(Dense(3, kernel_initializer= 'uniform' , activation= 'relu' ))\n",
        "model.add(Dense(1, kernel_initializer= 'uniform' , activation= 'sigmoid' ))\n",
        "# load weights\n",
        "model.load_weights(\"weights.best.hdf5\")\n",
        "# Compile model (required to make predictions)\n",
        "model.compile(loss= 'binary_crossentropy' , optimizer= 'adam' , metrics=[ 'accuracy' ])\n",
        "print(\"Created model and loaded weights from file\")"
      ],
      "metadata": {
        "id": "18OPBlod1wkO",
        "colab": {
          "base_uri": "https://localhost:8080/"
        },
        "outputId": "9990cce7-1efd-44df-f980-f6e9636a4285"
      },
      "execution_count": null,
      "outputs": [
        {
          "output_type": "stream",
          "name": "stdout",
          "text": [
            "Created model and loaded weights from file\n"
          ]
        }
      ]
    },
    {
      "cell_type": "markdown",
      "source": [
        "Similar to the previous task, you can also save and load a neural network from and to Google Drive"
      ],
      "metadata": {
        "id": "_kBI-kb0SEG8"
      }
    },
    {
      "cell_type": "markdown",
      "source": [
        "# Visualize Model Training History"
      ],
      "metadata": {
        "id": "dI8dGGr8_sqQ"
      }
    },
    {
      "cell_type": "code",
      "source": [
        "# create model\n",
        "model = Sequential([\n",
        "         Dense(4, input_shape=(X_train.shape[1],), activation=\"relu\"),\n",
        "         Dense(3, activation=\"relu\"),\n",
        "         Dense(1, activation=\"sigmoid\")\n",
        "])\n",
        "\n",
        "# Compile model\n",
        "model.compile(loss='binary_crossentropy', optimizer='adam', metrics=['accuracy'])\n",
        "# Fit the model\n",
        "history = model.fit(X_train, y_train, validation_split=0.33, epochs=150, batch_size=10, verbose=0)\n",
        "\n",
        "\n",
        "# list all data in history\n",
        "print(history.history.keys())\n",
        "# summarize history for accuracy\n",
        "plt.plot(history.history['accuracy'])\n",
        "plt.plot(history.history['val_accuracy'])\n",
        "plt.title('model accuracy')\n",
        "plt.ylabel('accuracy')\n",
        "plt.xlabel('epoch')\n",
        "plt.legend(['train', 'test'], loc='upper left')\n",
        "plt.show()\n",
        "# summarize history for loss\n",
        "plt.plot(history.history['loss'])\n",
        "plt.plot(history.history['val_loss'])\n",
        "plt.title('model loss')\n",
        "plt.ylabel('loss')\n",
        "plt.xlabel('epoch')\n",
        "plt.legend(['train', 'test'], loc='upper left')\n",
        "plt.show()"
      ],
      "metadata": {
        "colab": {
          "base_uri": "https://localhost:8080/",
          "height": 944
        },
        "id": "MmIhgLLn_wLV",
        "outputId": "a83e8408-2d77-40bf-fe47-49fe6838977e"
      },
      "execution_count": null,
      "outputs": [
        {
          "output_type": "stream",
          "name": "stdout",
          "text": [
            "dict_keys(['loss', 'accuracy', 'val_loss', 'val_accuracy'])\n"
          ]
        },
        {
          "output_type": "display_data",
          "data": {
            "text/plain": [
              "<Figure size 640x480 with 1 Axes>"
            ],
            "image/png": "[encoded data removed]"
          },
          "metadata": {}
        },
        {
          "output_type": "display_data",
          "data": {
            "text/plain": [
              "<Figure size 640x480 with 1 Axes>"
            ],
            "image/png": "[encoded data removed]"
          },
          "metadata": {}
        }
      ]
    },
    {
      "cell_type": "markdown",
      "source": [
        "# Dropout Regularization"
      ],
      "metadata": {
        "id": "UBkamK0S1w0m"
      }
    },
    {
      "cell_type": "code",
      "source": [
        "from keras.layers import Dropout\n",
        "\n",
        "drop_reg_model = Sequential([\n",
        "         Dense(4, input_shape=(X_train.shape[1],), activation=\"relu\"),\n",
        "         Dropout(0.05),\n",
        "         Dense(3, activation=\"relu\"),\n",
        "         Dense(1, activation=\"sigmoid\")\n",
        "])\n",
        "\n",
        "sgd_optimizer = SGD(learning_rate = 0.004)\n",
        "\n",
        "drop_reg_model.compile(loss='binary_crossentropy', optimizer=sgd_optimizer, metrics=['accuracy'])\n",
        "\n",
        "drop_reg_hist = drop_reg_model.fit(X_train, y_train, epochs=100, batch_size=32, validation_data=(X_test, y_test), verbose=0)\n",
        "\n",
        "train_loss, train_acc = drop_reg_model.evaluate(X_train, y_train)\n",
        "test_loss, test_acc = drop_reg_model.evaluate(X_test, y_test)\n",
        "print(f\"Training Loss: {train_loss}\")\n",
        "print(f\"Training Accuracy: {train_acc}\")\n",
        "print(f\"Testing Loss: {test_loss}\")\n",
        "print(f\"Testing Accuracy: {test_acc}\")"
      ],
      "metadata": {
        "id": "XZ2u_-l-10HA",
        "colab": {
          "base_uri": "https://localhost:8080/"
        },
        "outputId": "cb2a0b21-602e-43a1-adcc-190d1e940b01"
      },
      "execution_count": null,
      "outputs": [
        {
          "output_type": "stream",
          "name": "stdout",
          "text": [
            "105/105 [==============================] - 0s 1ms/step - loss: 0.2241 - accuracy: 0.9257\n",
            "12/12 [==============================] - 0s 2ms/step - loss: 0.2157 - accuracy: 0.9249\n",
            "Training Loss: 0.2240525782108307\n",
            "Training Accuracy: 0.9256938099861145\n",
            "Testing Loss: 0.2157481461763382\n",
            "Testing Accuracy: 0.9249329566955566\n"
          ]
        }
      ]
    },
    {
      "cell_type": "markdown",
      "source": [
        "# Dropout on Visible Layer"
      ],
      "metadata": {
        "id": "luDDw9_e10Xu"
      }
    },
    {
      "cell_type": "code",
      "source": [
        "from keras.layers import Dropout\n",
        "\n",
        "vis_drop_model = Sequential([\n",
        "         Dropout(0.05, input_shape=(X_train.shape[1],)),\n",
        "         Dense(4, activation=\"relu\"),\n",
        "         Dense(3, activation=\"relu\"),\n",
        "         Dense(1, activation=\"sigmoid\")\n",
        "])\n",
        "\n",
        "sgd_optimizer = SGD(learning_rate = 0.004, momentum=0.9)\n",
        "\n",
        "vis_drop_model.compile(loss='binary_crossentropy', optimizer=sgd_optimizer, metrics=['accuracy'])\n",
        "\n",
        "vis_drop_hist = vis_drop_model.fit(X_train, y_train, epochs=100, batch_size=32, validation_data=(X_test, y_test), verbose=0)\n",
        "\n",
        "train_loss, train_acc = vis_drop_model.evaluate(X_train, y_train)\n",
        "test_loss, test_acc = vis_drop_model.evaluate(X_test, y_test)\n",
        "print(f\"Training Loss: {train_loss}\")\n",
        "print(f\"Training Accuracy: {train_acc}\")\n",
        "print(f\"Testing Loss: {test_loss}\")\n",
        "print(f\"Testing Accuracy: {test_acc}\")"
      ],
      "metadata": {
        "id": "xbjQ804N15vt",
        "colab": {
          "base_uri": "https://localhost:8080/"
        },
        "outputId": "d41c35ad-d988-4f9a-8bd6-045e30557ae0"
      },
      "execution_count": null,
      "outputs": [
        {
          "output_type": "stream",
          "name": "stdout",
          "text": [
            "105/105 [==============================] - 0s 1ms/step - loss: 0.1870 - accuracy: 0.9269\n",
            "12/12 [==============================] - 0s 2ms/step - loss: 0.1807 - accuracy: 0.9303\n",
            "Training Loss: 0.1869732290506363\n",
            "Training Accuracy: 0.9268875122070312\n",
            "Testing Loss: 0.18068449199199677\n",
            "Testing Accuracy: 0.930294930934906\n"
          ]
        }
      ]
    },
    {
      "cell_type": "markdown",
      "source": [
        "# Dropout on Hidden Layer"
      ],
      "metadata": {
        "id": "Njsragwa16Sf"
      }
    },
    {
      "cell_type": "code",
      "source": [
        "from keras.layers import Dropout\n",
        "\n",
        "hid_drop_model = Sequential([\n",
        "         Dense(4, input_shape=(X_train.shape[1],), activation=\"relu\"),\n",
        "         Dense(3, activation=\"relu\"),\n",
        "         Dropout(0.05),\n",
        "         Dense(1, activation=\"sigmoid\")\n",
        "])\n",
        "\n",
        "sgd_optimizer = SGD(learning_rate = 0.004, momentum=0.9)\n",
        "\n",
        "hid_drop_model.compile(loss='binary_crossentropy', optimizer=sgd_optimizer, metrics=['accuracy'])\n",
        "\n",
        "hid_drop_hist = hid_drop_model.fit(X_train, y_train, epochs=100, batch_size=32, validation_data=(X_test, y_test), verbose=0)\n",
        "\n",
        "train_loss, train_acc = hid_drop_model.evaluate(X_train, y_train)\n",
        "test_loss, test_acc = hid_drop_model.evaluate(X_test, y_test)\n",
        "print(f\"Training Loss: {train_loss}\")\n",
        "print(f\"Training Accuracy: {train_acc}\")\n",
        "print(f\"Testing Loss: {test_loss}\")\n",
        "print(f\"Testing Accuracy: {test_acc}\")"
      ],
      "metadata": {
        "id": "NSVBMVqx1959",
        "colab": {
          "base_uri": "https://localhost:8080/"
        },
        "outputId": "e8c51d93-d0e2-4953-9f4a-21827314ca79"
      },
      "execution_count": null,
      "outputs": [
        {
          "output_type": "stream",
          "name": "stdout",
          "text": [
            "105/105 [==============================] - 0s 2ms/step - loss: 0.1962 - accuracy: 0.9254\n",
            "12/12 [==============================] - 0s 3ms/step - loss: 0.1910 - accuracy: 0.9276\n",
            "Training Loss: 0.19624915719032288\n",
            "Training Accuracy: 0.9253954291343689\n",
            "Testing Loss: 0.1909520924091339\n",
            "Testing Accuracy: 0.9276139140129089\n"
          ]
        }
      ]
    },
    {
      "cell_type": "markdown",
      "source": [
        "# Time-based Learning Rate Schedule"
      ],
      "metadata": {
        "id": "RzYPnbcU1-I1"
      }
    },
    {
      "cell_type": "code",
      "source": [
        "from tensorflow.keras.optimizers.legacy import SGD\n",
        "from keras.layers import Dropout\n",
        "\n",
        "time_model = Sequential([\n",
        "         Dense(4, input_shape=(X_train.shape[1],), activation=\"relu\"),\n",
        "         Dense(3, activation=\"relu\"),\n",
        "         Dropout(0.05),\n",
        "         Dense(1, activation=\"sigmoid\")\n",
        "])\n",
        "\n",
        "epochs=100\n",
        "learning_rate=0.004\n",
        "momentum=0.9\n",
        "decay=learning_rate/epochs\n",
        "\n",
        "sgd_optimizer = SGD(learning_rate = learning_rate, momentum=momentum, decay=decay, nesterov=False)\n",
        "\n",
        "time_model.compile(loss='binary_crossentropy', optimizer=sgd_optimizer, metrics=['accuracy'])\n",
        "\n",
        "time_hist = time_model.fit(X_train, y_train, epochs=epochs, batch_size=32, validation_data=(X_test, y_test), verbose=0)\n",
        "\n",
        "train_loss, train_acc = time_model.evaluate(X_train, y_train)\n",
        "test_loss, test_acc = time_model.evaluate(X_test, y_test)\n",
        "print(f\"Training Loss: {train_loss}\")\n",
        "print(f\"Training Accuracy: {train_acc}\")\n",
        "print(f\"Testing Loss: {test_loss}\")\n",
        "print(f\"Testing Accuracy: {test_acc}\")"
      ],
      "metadata": {
        "id": "6YBG7b5f2Bn9",
        "colab": {
          "base_uri": "https://localhost:8080/"
        },
        "outputId": "3810b81c-2b28-4a6c-8a9a-f46daf5435e7"
      },
      "execution_count": null,
      "outputs": [
        {
          "output_type": "stream",
          "name": "stdout",
          "text": [
            "105/105 [==============================] - 0s 1ms/step - loss: 0.1871 - accuracy: 0.9263\n",
            "12/12 [==============================] - 0s 3ms/step - loss: 0.1832 - accuracy: 0.9303\n",
            "Training Loss: 0.18707682192325592\n",
            "Training Accuracy: 0.9262906312942505\n",
            "Testing Loss: 0.18319423496723175\n",
            "Testing Accuracy: 0.930294930934906\n"
          ]
        }
      ]
    },
    {
      "cell_type": "markdown",
      "source": [
        "# Drop-based Learning Rate Schedule"
      ],
      "metadata": {
        "id": "Mw7JZULe2CQe"
      }
    },
    {
      "cell_type": "code",
      "source": [
        "# learning rate schedule\n",
        "def step_decay(epoch):\n",
        "\tinitial_lrate = 0.1\n",
        "\tdrop = 0.5\n",
        "\tepochs_drop = 10.0\n",
        "\tlrate = initial_lrate * math.pow(drop, math.floor((1+epoch)/epochs_drop))\n",
        "\treturn lrate"
      ],
      "metadata": {
        "id": "BNJC-Us32F11"
      },
      "execution_count": null,
      "outputs": []
    },
    {
      "cell_type": "code",
      "source": [
        "from tensorflow.keras.optimizers.legacy import SGD\n",
        "from keras.layers import Dropout\n",
        "from tensorflow.keras.callbacks import LearningRateScheduler\n",
        "import math\n",
        "\n",
        "time_model = Sequential([\n",
        "         Dense(4, input_shape=(X_train.shape[1],), activation=\"relu\"),\n",
        "         Dense(3, activation=\"relu\"),\n",
        "         Dropout(0.05),\n",
        "         Dense(1, activation=\"sigmoid\")\n",
        "])\n",
        "\n",
        "\n",
        "sgd_optimizer = SGD(learning_rate = 0.004, momentum=0.9)\n",
        "\n",
        "time_model.compile(loss='binary_crossentropy', optimizer=sgd_optimizer, metrics=['accuracy'])\n",
        "\n",
        "# learning schedule callback\n",
        "lrate = LearningRateScheduler(step_decay)\n",
        "callbacks_list = [lrate]\n",
        "\n",
        "time_hist = time_model.fit(X_train, y_train, epochs=100, batch_size=32, validation_data=(X_test, y_test), callbacks=callbacks_list, verbose=0)\n",
        "\n",
        "train_loss, train_acc = time_model.evaluate(X_train, y_train)\n",
        "test_loss, test_acc = time_model.evaluate(X_test, y_test)\n",
        "print(f\"Training Loss: {train_loss}\")\n",
        "print(f\"Training Accuracy: {train_acc}\")\n",
        "print(f\"Testing Loss: {test_loss}\")\n",
        "print(f\"Testing Accuracy: {test_acc}\")"
      ],
      "metadata": {
        "colab": {
          "base_uri": "https://localhost:8080/"
        },
        "id": "eNcVIY2TKPTR",
        "outputId": "cbdb7299-c0f6-4615-9590-3fbace05ae23"
      },
      "execution_count": null,
      "outputs": [
        {
          "output_type": "stream",
          "name": "stdout",
          "text": [
            "105/105 [==============================] - 0s 1ms/step - loss: 0.1941 - accuracy: 0.9272\n",
            "12/12 [==============================] - 0s 2ms/step - loss: 0.1947 - accuracy: 0.9330\n",
            "Training Loss: 0.19408559799194336\n",
            "Training Accuracy: 0.9271858930587769\n",
            "Testing Loss: 0.19471357762813568\n",
            "Testing Accuracy: 0.9329758882522583\n"
          ]
        }
      ]
    },
    {
      "cell_type": "markdown",
      "source": [
        "# Conclusion"
      ],
      "metadata": {
        "id": "6rmb3K3wNGJ2"
      }
    },
    {
      "cell_type": "markdown",
      "source": [
        "In this activity, I have managed to complete all of the tasks and observe its effect on the model and training. I have can see that there are more parameters in training a neural network than what was previously done in previous activities, such as dropout and re-adjustment of learning rate, as well as checkpoints.\n",
        "\n",
        "The following tasks has been done in this activity:\n",
        "- Load the dataset from an external source\n",
        "- Perform pre-processing on the dataset\n",
        "- Save a sample model in HDF5 Format\n",
        "- Save and load a sample model in JSON format\n",
        "- Save and load a sample model in YAML Format\n",
        "- Use checkpoints to determine when a model improves or learns, and get the best model\n",
        "- Load a saved Neural Network Model\n",
        "- Visualize Model Training using Keras\n",
        "- Using Dropout Regularization and apply it on the Visible Layer and Hidden Layer\n",
        "- Apply both Time-based and Drop-based Learning Rate Schedules"
      ],
      "metadata": {
        "id": "tW5GMFDXNHMS"
      }
    }
  ]
}