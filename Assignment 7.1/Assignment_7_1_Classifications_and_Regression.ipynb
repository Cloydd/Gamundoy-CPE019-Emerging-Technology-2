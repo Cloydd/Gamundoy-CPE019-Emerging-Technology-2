{
  "nbformat": 4,
  "nbformat_minor": 0,
  "metadata": {
    "colab": {
      "provenance": [],
      "toc_visible": true
    },
    "kernelspec": {
      "name": "python3",
      "display_name": "Python 3"
    },
    "language_info": {
      "name": "python"
    }
  },
  "cells": [
    {
      "cell_type": "markdown",
      "source": [
        "Technological Institute of the Philippines | Quezon City - Computer Engineering\n",
        "--- | ---\n",
        "Course Code: | CPE 019\n",
        "Code Title: | Emerging Technologies 2 in CpE\n",
        "2nd Semester | AY 2023-2024\n",
        "<hr> | <hr>\n",
        "<u>**ACTIVITY NO.** | **Assignment 7.1 : Classifications and Regression**\n",
        "**Name** | Gamundoy, Jon Aviv Cloydd S.\n",
        "**Section** | CPE32S3\n",
        "**Date Performed**: | 4/07/2024\n",
        "**Date Submitted**: | 4/10/2024\n",
        "**Instructor**: | Engr. Roman M. Richard\n",
        "\n",
        "<hr>"
      ],
      "metadata": {
        "id": "GstUdlEtKOH7"
      }
    },
    {
      "cell_type": "markdown",
      "source": [
        "# Datasets and Problem Analysis"
      ],
      "metadata": {
        "id": "Vwf0bW6VKYRR"
      }
    },
    {
      "cell_type": "markdown",
      "source": [
        "## Classification"
      ],
      "metadata": {
        "id": "sfFtIvLwLGUd"
      }
    },
    {
      "cell_type": "markdown",
      "source": [
        "Dataset: https://archive.ics.uci.edu/dataset/357/occupancy+detection\n",
        "\n",
        "Problem Analysis:\n",
        "\n",
        "The dataset contains information about a room and predicts whether it is occupied or not. This knowledge can be useful in different ways, such as investigations, room maintenance for hotels, or just a reminder for package couriers. This can further be used in applications such as monitoring and detection.\n"
      ],
      "metadata": {
        "id": "iE7R2E3sLa3W"
      }
    },
    {
      "cell_type": "markdown",
      "source": [
        "## Regression"
      ],
      "metadata": {
        "id": "JxhYW14iLMvm"
      }
    },
    {
      "cell_type": "markdown",
      "source": [
        "Dataset: https://archive.ics.uci.edu/dataset/165/concrete+compressive+strength\n",
        "\n",
        "Problem Analysis:\n",
        "\n",
        "Concrete is one of the most used and important tools in construction and civil engineering. Determining its compressive strenght is vital to ensure structural integrity as it is the capacity of concrete to withstand loads before failure. By accurately predicting this feature, we can avoid disasters and ensure public safety\n"
      ],
      "metadata": {
        "id": "6HfyeNYwLeFO"
      }
    },
    {
      "cell_type": "markdown",
      "source": [
        "# Classification"
      ],
      "metadata": {
        "id": "f9DMbyxWKbYy"
      }
    },
    {
      "cell_type": "markdown",
      "source": [
        "## Loading the Dataset"
      ],
      "metadata": {
        "id": "91FRsYk0UIw5"
      }
    },
    {
      "cell_type": "code",
      "source": [
        "# Import necessary libraries\n",
        "import pandas as pd # For dataframes and operations\n",
        "import numpy as np # For dealing with null values\n",
        "\n",
        "occupancy_data = pd.read_csv('datatraining.txt', sep = ',') # Read raw txt file and convert to dataframe\n",
        "\n",
        "occupancy_data.info() # Check for data types, missing values, and total entries"
      ],
      "metadata": {
        "colab": {
          "base_uri": "https://localhost:8080/"
        },
        "id": "Nb5HL6WSUKJm",
        "outputId": "6eb43fa8-05d9-4b7c-91a2-5189b07beb58"
      },
      "execution_count": null,
      "outputs": [
        {
          "output_type": "stream",
          "name": "stdout",
          "text": [
            "<class 'pandas.core.frame.DataFrame'>\n",
            "Index: 8143 entries, 1 to 8143\n",
            "Data columns (total 7 columns):\n",
            " #   Column         Non-Null Count  Dtype  \n",
            "---  ------         --------------  -----  \n",
            " 0   date           8143 non-null   object \n",
            " 1   Temperature    8143 non-null   float64\n",
            " 2   Humidity       8143 non-null   float64\n",
            " 3   Light          8143 non-null   float64\n",
            " 4   CO2            8143 non-null   float64\n",
            " 5   HumidityRatio  8143 non-null   float64\n",
            " 6   Occupancy      8143 non-null   int64  \n",
            "dtypes: float64(5), int64(1), object(1)\n",
            "memory usage: 508.9+ KB\n"
          ]
        }
      ]
    },
    {
      "cell_type": "markdown",
      "source": [
        "After checking the dataset and confirming that there is no null values. We will now proceed to data pre-processing to clean and transform the data"
      ],
      "metadata": {
        "id": "Zi1N4Dnlb7v-"
      }
    },
    {
      "cell_type": "markdown",
      "source": [
        "## Pre-processing"
      ],
      "metadata": {
        "id": "pHLICMByKk8o"
      }
    },
    {
      "cell_type": "markdown",
      "source": [
        "### Removing the Outliers"
      ],
      "metadata": {
        "id": "nmtCo3vVLxtm"
      }
    },
    {
      "cell_type": "code",
      "execution_count": null,
      "metadata": {
        "colab": {
          "base_uri": "https://localhost:8080/",
          "height": 300
        },
        "id": "qXF9UxTJJRN2",
        "outputId": "97bc2a1c-1b85-4f26-aeff-c298d4486ef2"
      },
      "outputs": [
        {
          "output_type": "execute_result",
          "data": {
            "text/plain": [
              "       Temperature     Humidity        Light          CO2  HumidityRatio  \\\n",
              "count  8143.000000  8143.000000  8143.000000  8143.000000    8143.000000   \n",
              "mean     20.619084    25.731507   119.519375   606.546243       0.003863   \n",
              "std       1.016916     5.531211   194.755805   314.320877       0.000852   \n",
              "min      19.000000    16.745000     0.000000   412.750000       0.002674   \n",
              "25%      19.700000    20.200000     0.000000   439.000000       0.003078   \n",
              "50%      20.390000    26.222500     0.000000   453.500000       0.003801   \n",
              "75%      21.390000    30.533333   256.375000   638.833333       0.004352   \n",
              "max      23.180000    39.117500  1546.333333  2028.500000       0.006476   \n",
              "\n",
              "         Occupancy  \n",
              "count  8143.000000  \n",
              "mean      0.212330  \n",
              "std       0.408982  \n",
              "min       0.000000  \n",
              "25%       0.000000  \n",
              "50%       0.000000  \n",
              "75%       0.000000  \n",
              "max       1.000000  "
            ],
            "text/html": [
              "\n",
              "  <div id=\"df-c71c79ea-061d-437d-b577-e638aed9c759\" class=\"colab-df-container\">\n",
              "    <div>\n",
              "<style scoped>\n",
              "    .dataframe tbody tr th:only-of-type {\n",
              "        vertical-align: middle;\n",
              "    }\n",
              "\n",
              "    .dataframe tbody tr th {\n",
              "        vertical-align: top;\n",
              "    }\n",
              "\n",
              "    .dataframe thead th {\n",
              "        text-align: right;\n",
              "    }\n",
              "</style>\n",
              "<table border=\"1\" class=\"dataframe\">\n",
              "  <thead>\n",
              "    <tr style=\"text-align: right;\">\n",
              "      <th></th>\n",
              "      <th>Temperature</th>\n",
              "      <th>Humidity</th>\n",
              "      <th>Light</th>\n",
              "      <th>CO2</th>\n",
              "      <th>HumidityRatio</th>\n",
              "      <th>Occupancy</th>\n",
              "    </tr>\n",
              "  </thead>\n",
              "  <tbody>\n",
              "    <tr>\n",
              "      <th>count</th>\n",
              "      <td>8143.000000</td>\n",
              "      <td>8143.000000</td>\n",
              "      <td>8143.000000</td>\n",
              "      <td>8143.000000</td>\n",
              "      <td>8143.000000</td>\n",
              "      <td>8143.000000</td>\n",
              "    </tr>\n",
              "    <tr>\n",
              "      <th>mean</th>\n",
              "      <td>20.619084</td>\n",
              "      <td>25.731507</td>\n",
              "      <td>119.519375</td>\n",
              "      <td>606.546243</td>\n",
              "      <td>0.003863</td>\n",
              "      <td>0.212330</td>\n",
              "    </tr>\n",
              "    <tr>\n",
              "      <th>std</th>\n",
              "      <td>1.016916</td>\n",
              "      <td>5.531211</td>\n",
              "      <td>194.755805</td>\n",
              "      <td>314.320877</td>\n",
              "      <td>0.000852</td>\n",
              "      <td>0.408982</td>\n",
              "    </tr>\n",
              "    <tr>\n",
              "      <th>min</th>\n",
              "      <td>19.000000</td>\n",
              "      <td>16.745000</td>\n",
              "      <td>0.000000</td>\n",
              "      <td>412.750000</td>\n",
              "      <td>0.002674</td>\n",
              "      <td>0.000000</td>\n",
              "    </tr>\n",
              "    <tr>\n",
              "      <th>25%</th>\n",
              "      <td>19.700000</td>\n",
              "      <td>20.200000</td>\n",
              "      <td>0.000000</td>\n",
              "      <td>439.000000</td>\n",
              "      <td>0.003078</td>\n",
              "      <td>0.000000</td>\n",
              "    </tr>\n",
              "    <tr>\n",
              "      <th>50%</th>\n",
              "      <td>20.390000</td>\n",
              "      <td>26.222500</td>\n",
              "      <td>0.000000</td>\n",
              "      <td>453.500000</td>\n",
              "      <td>0.003801</td>\n",
              "      <td>0.000000</td>\n",
              "    </tr>\n",
              "    <tr>\n",
              "      <th>75%</th>\n",
              "      <td>21.390000</td>\n",
              "      <td>30.533333</td>\n",
              "      <td>256.375000</td>\n",
              "      <td>638.833333</td>\n",
              "      <td>0.004352</td>\n",
              "      <td>0.000000</td>\n",
              "    </tr>\n",
              "    <tr>\n",
              "      <th>max</th>\n",
              "      <td>23.180000</td>\n",
              "      <td>39.117500</td>\n",
              "      <td>1546.333333</td>\n",
              "      <td>2028.500000</td>\n",
              "      <td>0.006476</td>\n",
              "      <td>1.000000</td>\n",
              "    </tr>\n",
              "  </tbody>\n",
              "</table>\n",
              "</div>\n",
              "    <div class=\"colab-df-buttons\">\n",
              "\n",
              "  <div class=\"colab-df-container\">\n",
              "    <button class=\"colab-df-convert\" onclick=\"convertToInteractive('df-c71c79ea-061d-437d-b577-e638aed9c759')\"\n",
              "            title=\"Convert this dataframe to an interactive table.\"\n",
              "            style=\"display:none;\">\n",
              "\n",
              "  <svg xmlns=\"http://www.w3.org/2000/svg\" height=\"24px\" viewBox=\"0 -960 960 960\">\n",
              "    <path d=\"M120-120v-720h720v720H120Zm60-500h600v-160H180v160Zm220 220h160v-160H400v160Zm0 220h160v-160H400v160ZM180-400h160v-160H180v160Zm440 0h160v-160H620v160ZM180-180h160v-160H180v160Zm440 0h160v-160H620v160Z\"/>\n",
              "  </svg>\n",
              "    </button>\n",
              "\n",
              "  <style>\n",
              "    .colab-df-container {\n",
              "      display:flex;\n",
              "      gap: 12px;\n",
              "    }\n",
              "\n",
              "    .colab-df-convert {\n",
              "      background-color: #E8F0FE;\n",
              "      border: none;\n",
              "      border-radius: 50%;\n",
              "      cursor: pointer;\n",
              "      display: none;\n",
              "      fill: #1967D2;\n",
              "      height: 32px;\n",
              "      padding: 0 0 0 0;\n",
              "      width: 32px;\n",
              "    }\n",
              "\n",
              "    .colab-df-convert:hover {\n",
              "      background-color: #E2EBFA;\n",
              "      box-shadow: 0px 1px 2px rgba(60, 64, 67, 0.3), 0px 1px 3px 1px rgba(60, 64, 67, 0.15);\n",
              "      fill: #174EA6;\n",
              "    }\n",
              "\n",
              "    .colab-df-buttons div {\n",
              "      margin-bottom: 4px;\n",
              "    }\n",
              "\n",
              "    [theme=dark] .colab-df-convert {\n",
              "      background-color: #3B4455;\n",
              "      fill: #D2E3FC;\n",
              "    }\n",
              "\n",
              "    [theme=dark] .colab-df-convert:hover {\n",
              "      background-color: #434B5C;\n",
              "      box-shadow: 0px 1px 3px 1px rgba(0, 0, 0, 0.15);\n",
              "      filter: drop-shadow(0px 1px 2px rgba(0, 0, 0, 0.3));\n",
              "      fill: #FFFFFF;\n",
              "    }\n",
              "  </style>\n",
              "\n",
              "    <script>\n",
              "      const buttonEl =\n",
              "        document.querySelector('#df-c71c79ea-061d-437d-b577-e638aed9c759 button.colab-df-convert');\n",
              "      buttonEl.style.display =\n",
              "        google.colab.kernel.accessAllowed ? 'block' : 'none';\n",
              "\n",
              "      async function convertToInteractive(key) {\n",
              "        const element = document.querySelector('#df-c71c79ea-061d-437d-b577-e638aed9c759');\n",
              "        const dataTable =\n",
              "          await google.colab.kernel.invokeFunction('convertToInteractive',\n",
              "                                                    [key], {});\n",
              "        if (!dataTable) return;\n",
              "\n",
              "        const docLinkHtml = 'Like what you see? Visit the ' +\n",
              "          '<a target=\"_blank\" href=https://colab.research.google.com/notebooks/data_table.ipynb>data table notebook</a>'\n",
              "          + ' to learn more about interactive tables.';\n",
              "        element.innerHTML = '';\n",
              "        dataTable['output_type'] = 'display_data';\n",
              "        await google.colab.output.renderOutput(dataTable, element);\n",
              "        const docLink = document.createElement('div');\n",
              "        docLink.innerHTML = docLinkHtml;\n",
              "        element.appendChild(docLink);\n",
              "      }\n",
              "    </script>\n",
              "  </div>\n",
              "\n",
              "\n",
              "<div id=\"df-bf9e7e5a-6254-4d91-a1c4-eeaca9a88792\">\n",
              "  <button class=\"colab-df-quickchart\" onclick=\"quickchart('df-bf9e7e5a-6254-4d91-a1c4-eeaca9a88792')\"\n",
              "            title=\"Suggest charts\"\n",
              "            style=\"display:none;\">\n",
              "\n",
              "<svg xmlns=\"http://www.w3.org/2000/svg\" height=\"24px\"viewBox=\"0 0 24 24\"\n",
              "     width=\"24px\">\n",
              "    <g>\n",
              "        <path d=\"M19 3H5c-1.1 0-2 .9-2 2v14c0 1.1.9 2 2 2h14c1.1 0 2-.9 2-2V5c0-1.1-.9-2-2-2zM9 17H7v-7h2v7zm4 0h-2V7h2v10zm4 0h-2v-4h2v4z\"/>\n",
              "    </g>\n",
              "</svg>\n",
              "  </button>\n",
              "\n",
              "<style>\n",
              "  .colab-df-quickchart {\n",
              "      --bg-color: #E8F0FE;\n",
              "      --fill-color: #1967D2;\n",
              "      --hover-bg-color: #E2EBFA;\n",
              "      --hover-fill-color: #174EA6;\n",
              "      --disabled-fill-color: #AAA;\n",
              "      --disabled-bg-color: #DDD;\n",
              "  }\n",
              "\n",
              "  [theme=dark] .colab-df-quickchart {\n",
              "      --bg-color: #3B4455;\n",
              "      --fill-color: #D2E3FC;\n",
              "      --hover-bg-color: #434B5C;\n",
              "      --hover-fill-color: #FFFFFF;\n",
              "      --disabled-bg-color: #3B4455;\n",
              "      --disabled-fill-color: #666;\n",
              "  }\n",
              "\n",
              "  .colab-df-quickchart {\n",
              "    background-color: var(--bg-color);\n",
              "    border: none;\n",
              "    border-radius: 50%;\n",
              "    cursor: pointer;\n",
              "    display: none;\n",
              "    fill: var(--fill-color);\n",
              "    height: 32px;\n",
              "    padding: 0;\n",
              "    width: 32px;\n",
              "  }\n",
              "\n",
              "  .colab-df-quickchart:hover {\n",
              "    background-color: var(--hover-bg-color);\n",
              "    box-shadow: 0 1px 2px rgba(60, 64, 67, 0.3), 0 1px 3px 1px rgba(60, 64, 67, 0.15);\n",
              "    fill: var(--button-hover-fill-color);\n",
              "  }\n",
              "\n",
              "  .colab-df-quickchart-complete:disabled,\n",
              "  .colab-df-quickchart-complete:disabled:hover {\n",
              "    background-color: var(--disabled-bg-color);\n",
              "    fill: var(--disabled-fill-color);\n",
              "    box-shadow: none;\n",
              "  }\n",
              "\n",
              "  .colab-df-spinner {\n",
              "    border: 2px solid var(--fill-color);\n",
              "    border-color: transparent;\n",
              "    border-bottom-color: var(--fill-color);\n",
              "    animation:\n",
              "      spin 1s steps(1) infinite;\n",
              "  }\n",
              "\n",
              "  @keyframes spin {\n",
              "    0% {\n",
              "      border-color: transparent;\n",
              "      border-bottom-color: var(--fill-color);\n",
              "      border-left-color: var(--fill-color);\n",
              "    }\n",
              "    20% {\n",
              "      border-color: transparent;\n",
              "      border-left-color: var(--fill-color);\n",
              "      border-top-color: var(--fill-color);\n",
              "    }\n",
              "    30% {\n",
              "      border-color: transparent;\n",
              "      border-left-color: var(--fill-color);\n",
              "      border-top-color: var(--fill-color);\n",
              "      border-right-color: var(--fill-color);\n",
              "    }\n",
              "    40% {\n",
              "      border-color: transparent;\n",
              "      border-right-color: var(--fill-color);\n",
              "      border-top-color: var(--fill-color);\n",
              "    }\n",
              "    60% {\n",
              "      border-color: transparent;\n",
              "      border-right-color: var(--fill-color);\n",
              "    }\n",
              "    80% {\n",
              "      border-color: transparent;\n",
              "      border-right-color: var(--fill-color);\n",
              "      border-bottom-color: var(--fill-color);\n",
              "    }\n",
              "    90% {\n",
              "      border-color: transparent;\n",
              "      border-bottom-color: var(--fill-color);\n",
              "    }\n",
              "  }\n",
              "</style>\n",
              "\n",
              "  <script>\n",
              "    async function quickchart(key) {\n",
              "      const quickchartButtonEl =\n",
              "        document.querySelector('#' + key + ' button');\n",
              "      quickchartButtonEl.disabled = true;  // To prevent multiple clicks.\n",
              "      quickchartButtonEl.classList.add('colab-df-spinner');\n",
              "      try {\n",
              "        const charts = await google.colab.kernel.invokeFunction(\n",
              "            'suggestCharts', [key], {});\n",
              "      } catch (error) {\n",
              "        console.error('Error during call to suggestCharts:', error);\n",
              "      }\n",
              "      quickchartButtonEl.classList.remove('colab-df-spinner');\n",
              "      quickchartButtonEl.classList.add('colab-df-quickchart-complete');\n",
              "    }\n",
              "    (() => {\n",
              "      let quickchartButtonEl =\n",
              "        document.querySelector('#df-bf9e7e5a-6254-4d91-a1c4-eeaca9a88792 button');\n",
              "      quickchartButtonEl.style.display =\n",
              "        google.colab.kernel.accessAllowed ? 'block' : 'none';\n",
              "    })();\n",
              "  </script>\n",
              "</div>\n",
              "    </div>\n",
              "  </div>\n"
            ],
            "application/vnd.google.colaboratory.intrinsic+json": {
              "type": "dataframe",
              "summary": "{\n  \"name\": \"occupancy_data\",\n  \"rows\": 8,\n  \"fields\": [\n    {\n      \"column\": \"Temperature\",\n      \"properties\": {\n        \"dtype\": \"number\",\n        \"std\": 2872.66538810733,\n        \"min\": 1.0169164411058473,\n        \"max\": 8143.0,\n        \"num_unique_values\": 8,\n        \"samples\": [\n          20.61908364034549,\n          20.39,\n          8143.0\n        ],\n        \"semantic_type\": \"\",\n        \"description\": \"\"\n      }\n    },\n    {\n      \"column\": \"Humidity\",\n      \"properties\": {\n        \"dtype\": \"number\",\n        \"std\": 2870.7149625329193,\n        \"min\": 5.531210999582151,\n        \"max\": 8143.0,\n        \"num_unique_values\": 8,\n        \"samples\": [\n          25.731507286421873,\n          26.2225,\n          8143.0\n        ],\n        \"semantic_type\": \"\",\n        \"description\": \"\"\n      }\n    },\n    {\n      \"column\": \"Light\",\n      \"properties\": {\n        \"dtype\": \"number\",\n        \"std\": 2819.805740847589,\n        \"min\": 0.0,\n        \"max\": 8143.0,\n        \"num_unique_values\": 6,\n        \"samples\": [\n          8143.0,\n          119.5193745138974,\n          1546.33333333333\n        ],\n        \"semantic_type\": \"\",\n        \"description\": \"\"\n      }\n    },\n    {\n      \"column\": \"CO2\",\n      \"properties\": {\n        \"dtype\": \"number\",\n        \"std\": 2689.216056666519,\n        \"min\": 314.32087688106805,\n        \"max\": 8143.0,\n        \"num_unique_values\": 8,\n        \"samples\": [\n          606.5462431945639,\n          453.5,\n          8143.0\n        ],\n        \"semantic_type\": \"\",\n        \"description\": \"\"\n      }\n    },\n    {\n      \"column\": \"HumidityRatio\",\n      \"properties\": {\n        \"dtype\": \"number\",\n        \"std\": 2878.9839920639492,\n        \"min\": 0.0008523312991431677,\n        \"max\": 8143.0,\n        \"num_unique_values\": 8,\n        \"samples\": [\n          0.003862506678320315,\n          0.0038007697086113,\n          8143.0\n        ],\n        \"semantic_type\": \"\",\n        \"description\": \"\"\n      }\n    },\n    {\n      \"column\": \"Occupancy\",\n      \"properties\": {\n        \"dtype\": \"number\",\n        \"std\": 2878.903391760632,\n        \"min\": 0.0,\n        \"max\": 8143.0,\n        \"num_unique_values\": 5,\n        \"samples\": [\n          0.2123296082524868,\n          1.0,\n          0.40898201283831853\n        ],\n        \"semantic_type\": \"\",\n        \"description\": \"\"\n      }\n    }\n  ]\n}"
            }
          },
          "metadata": {},
          "execution_count": 39
        }
      ],
      "source": [
        "occupancy_data.describe() # Check statistics"
      ]
    },
    {
      "cell_type": "markdown",
      "source": [
        "Before we can remove the outliers, we must first format the Data. Since we will not be using the feature \"date\" we can drop the entire column."
      ],
      "metadata": {
        "id": "QAvnzfs8fhUb"
      }
    },
    {
      "cell_type": "code",
      "source": [
        "occupancy_data = occupancy_data.drop(columns='date') # Drop the column \"date\"\n",
        "occupancy_data.info() # Check"
      ],
      "metadata": {
        "colab": {
          "base_uri": "https://localhost:8080/"
        },
        "id": "-dC-be-5fhKc",
        "outputId": "a7723924-c4bc-4bab-850d-60566282541f"
      },
      "execution_count": null,
      "outputs": [
        {
          "output_type": "stream",
          "name": "stdout",
          "text": [
            "<class 'pandas.core.frame.DataFrame'>\n",
            "Index: 8143 entries, 1 to 8143\n",
            "Data columns (total 6 columns):\n",
            " #   Column         Non-Null Count  Dtype  \n",
            "---  ------         --------------  -----  \n",
            " 0   Temperature    8143 non-null   float64\n",
            " 1   Humidity       8143 non-null   float64\n",
            " 2   Light          8143 non-null   float64\n",
            " 3   CO2            8143 non-null   float64\n",
            " 4   HumidityRatio  8143 non-null   float64\n",
            " 5   Occupancy      8143 non-null   int64  \n",
            "dtypes: float64(5), int64(1)\n",
            "memory usage: 445.3 KB\n"
          ]
        }
      ]
    },
    {
      "cell_type": "code",
      "source": [
        "occupancy_data.columns"
      ],
      "metadata": {
        "colab": {
          "base_uri": "https://localhost:8080/"
        },
        "id": "GmsG0rGTgqVz",
        "outputId": "bafa39b0-4a7d-4bdf-eb1a-7eda04baebe9"
      },
      "execution_count": null,
      "outputs": [
        {
          "output_type": "execute_result",
          "data": {
            "text/plain": [
              "Index(['Temperature', 'Humidity', 'Light', 'CO2', 'HumidityRatio',\n",
              "       'Occupancy'],\n",
              "      dtype='object')"
            ]
          },
          "metadata": {},
          "execution_count": 41
        }
      ]
    },
    {
      "cell_type": "code",
      "source": [
        "import matplotlib.pyplot as plt # For plotting\n",
        "\n",
        "# Create subplots\n",
        "fig, axs = plt.subplots(1, 5, figsize=(12, 5))\n",
        "features = occupancy_data.columns\n",
        "\n",
        "# Create boxplots for each feature\n",
        "for item in range(5):\n",
        "  axs[item].boxplot(occupancy_data[features[item]])\n",
        "  axs[item].set_xlabel(f\"{features[item]}\")\n",
        "\n",
        "# Show the boxplots\n",
        "plt.tight_layout()\n",
        "plt.show()"
      ],
      "metadata": {
        "colab": {
          "base_uri": "https://localhost:8080/",
          "height": 457
        },
        "id": "A5mEaDbIelmX",
        "outputId": "eb8b6fa9-0d6b-4bba-d182-0b3d7ff69958"
      },
      "execution_count": null,
      "outputs": [
        {
          "output_type": "display_data",
          "data": {
            "text/plain": [
              "<Figure size 1200x500 with 5 Axes>"
            ],
            "image/png": "[encoded data removed]"
          },
          "metadata": {}
        }
      ]
    },
    {
      "cell_type": "markdown",
      "source": [
        "We can clearly see that there are outliers in the 'light' feature, we will need to remove this outliers from our dataset.  I will not remove the 'outliers' from CO2 and HumidityRatio due to their volume and can be attributed as 'natural outliers'.\n",
        "\n",
        "I will be using the `Interquartile Range` to detect and remove outliers"
      ],
      "metadata": {
        "id": "SWPvcEZMhD-r"
      }
    },
    {
      "cell_type": "code",
      "source": [
        "Q1 = occupancy_data[\"Light\"].quantile(0.25)\n",
        "Q3 = occupancy_data[\"Light\"].quantile(0.75)\n",
        "\n",
        "IQR = Q3 - Q1\n",
        "\n",
        "# Calculation for lower and upper bound\n",
        "lower_bound = Q1 - (1.5 * IQR)\n",
        "upper_bound = Q3 + (1.5 * IQR)\n",
        "\n",
        "# Identification of the outliers' index in the dataset\n",
        "filtered = occupancy_data[(occupancy_data[\"Light\"] >= lower_bound) & (occupancy_data[\"Light\"] <= upper_bound)]\n",
        "\n",
        "# Creating a set of data WITHOUT the outlieers\n",
        "clean_occupancy = filtered\n",
        "\n",
        "# Creation of new dataframe that is free from outliers\n",
        "clean_occupancy.info()"
      ],
      "metadata": {
        "colab": {
          "base_uri": "https://localhost:8080/"
        },
        "id": "VjaSzIybhO60",
        "outputId": "46f6cc3f-e23c-44ed-dcb5-8cd94b175668"
      },
      "execution_count": null,
      "outputs": [
        {
          "output_type": "stream",
          "name": "stdout",
          "text": [
            "<class 'pandas.core.frame.DataFrame'>\n",
            "Index: 8128 entries, 1 to 8143\n",
            "Data columns (total 6 columns):\n",
            " #   Column         Non-Null Count  Dtype  \n",
            "---  ------         --------------  -----  \n",
            " 0   Temperature    8128 non-null   float64\n",
            " 1   Humidity       8128 non-null   float64\n",
            " 2   Light          8128 non-null   float64\n",
            " 3   CO2            8128 non-null   float64\n",
            " 4   HumidityRatio  8128 non-null   float64\n",
            " 5   Occupancy      8128 non-null   int64  \n",
            "dtypes: float64(5), int64(1)\n",
            "memory usage: 444.5 KB\n"
          ]
        }
      ]
    },
    {
      "cell_type": "code",
      "source": [
        "# Create subplots\n",
        "fig, axs = plt.subplots(1, 5, figsize=(12, 5))\n",
        "features = clean_occupancy.columns\n",
        "\n",
        "# Create boxplots for each feature\n",
        "for item in range(5):\n",
        "  axs[item].boxplot(clean_occupancy[features[item]])\n",
        "  axs[item].set_xlabel(f\"{features[item]}\")\n",
        "\n",
        "# Show the boxplots\n",
        "plt.tight_layout()\n",
        "plt.show()"
      ],
      "metadata": {
        "colab": {
          "base_uri": "https://localhost:8080/",
          "height": 457
        },
        "id": "vZ7IOD_QplV0",
        "outputId": "680bb278-86d5-440e-f0c3-695421e986f3"
      },
      "execution_count": null,
      "outputs": [
        {
          "output_type": "display_data",
          "data": {
            "text/plain": [
              "<Figure size 1200x500 with 5 Axes>"
            ],
            "image/png": "[encoded data removed]"
          },
          "metadata": {}
        }
      ]
    },
    {
      "cell_type": "markdown",
      "source": [
        "### Balancing of Output Classes"
      ],
      "metadata": {
        "id": "xeJYKoCHn-bi"
      }
    },
    {
      "cell_type": "code",
      "source": [
        "# Check the data for imbalance in output classes\n",
        "clean_occupancy[\"Occupancy\"].value_counts()"
      ],
      "metadata": {
        "colab": {
          "base_uri": "https://localhost:8080/"
        },
        "id": "T_DelQfboANa",
        "outputId": "5a5a7f91-19a9-4aef-9272-7d211a0e802c"
      },
      "execution_count": null,
      "outputs": [
        {
          "output_type": "execute_result",
          "data": {
            "text/plain": [
              "Occupancy\n",
              "0    6410\n",
              "1    1718\n",
              "Name: count, dtype: int64"
            ]
          },
          "metadata": {},
          "execution_count": 45
        }
      ]
    },
    {
      "cell_type": "markdown",
      "source": [
        "Since there is a class imbalance, we will need to resample our data.\n",
        "\n",
        "I will be using oversampling as undersampling removes almost half of class 0 data"
      ],
      "metadata": {
        "id": "cVO_1dmioT-a"
      }
    },
    {
      "cell_type": "code",
      "source": [
        "attributes = clean_occupancy.columns.difference(['Occupancy']) # Select the input attributes\n",
        "print(attributes)"
      ],
      "metadata": {
        "colab": {
          "base_uri": "https://localhost:8080/"
        },
        "id": "qptEg6RjozVh",
        "outputId": "565a822b-4a1c-410b-998e-a1d73b6eb137"
      },
      "execution_count": null,
      "outputs": [
        {
          "output_type": "stream",
          "name": "stdout",
          "text": [
            "Index(['CO2', 'Humidity', 'HumidityRatio', 'Light', 'Temperature'], dtype='object')\n"
          ]
        }
      ]
    },
    {
      "cell_type": "code",
      "source": [
        "# Import hte RandomOverSampler\n",
        "from imblearn.over_sampling import RandomOverSampler\n",
        "\n",
        "# Determine the predictor nad target variables\n",
        "target_var = clean_occupancy[\"Occupancy\"]\n",
        "\n",
        "attributes = clean_occupancy.columns.difference(['Occupancy']) # Select the input attributes\n",
        "input = clean_occupancy[list(attributes)]\n",
        "\n",
        "# Initiate the RandomOverSampler object\n",
        "over = RandomOverSampler()\n",
        "input_over, target_over = over.fit_resample(input, target_var) # Fit the predictor and target variable\n",
        "\n",
        "# Check the info on the dataframe\n",
        "target_over.value_counts()"
      ],
      "metadata": {
        "colab": {
          "base_uri": "https://localhost:8080/"
        },
        "id": "dpOoXzFModch",
        "outputId": "76216f21-0ac1-4e2c-d4b6-58badc0d2e28"
      },
      "execution_count": null,
      "outputs": [
        {
          "output_type": "execute_result",
          "data": {
            "text/plain": [
              "Occupancy\n",
              "1    6410\n",
              "0    6410\n",
              "Name: count, dtype: int64"
            ]
          },
          "metadata": {},
          "execution_count": 47
        }
      ]
    },
    {
      "cell_type": "markdown",
      "source": [
        "### Standardization"
      ],
      "metadata": {
        "id": "xKY5kzFaLz9F"
      }
    },
    {
      "cell_type": "markdown",
      "source": [
        "After balancing the output classes, we will now proceed to standardize the data"
      ],
      "metadata": {
        "id": "XIbJm9rTpfKp"
      }
    },
    {
      "cell_type": "code",
      "source": [
        "from sklearn.preprocessing import StandardScaler # For scaling\n",
        "import seaborn as sns # For plotting\n",
        "\n",
        "# Initiate the object for the standard scaler\n",
        "scale = StandardScaler()\n",
        "input_scaled = scale.fit_transform(input_over) # Fit the data to the scaler\n",
        "\n",
        "# Check\n",
        "sns.distplot(input_scaled[:,1])"
      ],
      "metadata": {
        "colab": {
          "base_uri": "https://localhost:8080/",
          "height": 642
        },
        "id": "-Zk-zVfOL5kz",
        "outputId": "6c5a405c-7529-4700-c581-ea500b05db87"
      },
      "execution_count": null,
      "outputs": [
        {
          "output_type": "stream",
          "name": "stderr",
          "text": [
            "<ipython-input-48-4f070b02d820>:9: UserWarning: \n",
            "\n",
            "`distplot` is a deprecated function and will be removed in seaborn v0.14.0.\n",
            "\n",
            "Please adapt your code to use either `displot` (a figure-level function with\n",
            "similar flexibility) or `histplot` (an axes-level function for histograms).\n",
            "\n",
            "For a guide to updating your code to use the new functions, please see\n",
            "https://gist.github.com/mwaskom/de44147ed2974457ad6372750bbe5751\n",
            "\n",
            "  sns.distplot(input_scaled[:,1])\n"
          ]
        },
        {
          "output_type": "execute_result",
          "data": {
            "text/plain": [
              "<Axes: ylabel='Density'>"
            ]
          },
          "metadata": {},
          "execution_count": 48
        },
        {
          "output_type": "display_data",
          "data": {
            "text/plain": [
              "<Figure size 640x480 with 1 Axes>"
            ],
            "image/png": "[encoded data removed]"
          },
          "metadata": {}
        }
      ]
    },
    {
      "cell_type": "markdown",
      "source": [
        "### Label Encoding"
      ],
      "metadata": {
        "id": "XeLk-XZXL54B"
      }
    },
    {
      "cell_type": "markdown",
      "source": [
        "Since we have two output classes, we need to split the output values to two different columns, this is called [one-hot encoding](https://medium.com/geekculture/machine-learning-one-hot-encoding-vs-integer-encoding-f180eb831cf1#:~:text=One%20advantage%20of%20one-hot,rest%20are%20set%20to%200.). It allows our model to learn more efficiently and effectively by eliminating any assumption that one class is closer to the other or has a hierarchy or order."
      ],
      "metadata": {
        "id": "yvzucKdH2Fy3"
      }
    },
    {
      "cell_type": "code",
      "source": [
        "from sklearn.preprocessing import LabelEncoder\n",
        "from tensorflow.keras import utils\n",
        "\n",
        "encoder = LabelEncoder()\n",
        "encoder.fit(target_over)\n",
        "encoded_target = encoder.transform(target_over)\n",
        "\n",
        "dummy_target = utils.to_categorical(encoded_target)"
      ],
      "metadata": {
        "id": "v2R9PXCNL7NR"
      },
      "execution_count": null,
      "outputs": []
    },
    {
      "cell_type": "markdown",
      "source": [
        "## Create the Base Model"
      ],
      "metadata": {
        "id": "muecz-hsKiqZ"
      }
    },
    {
      "cell_type": "code",
      "source": [
        "pip install scikeras"
      ],
      "metadata": {
        "colab": {
          "base_uri": "https://localhost:8080/"
        },
        "id": "avuIVCgX6NVA",
        "outputId": "748f9c94-3786-4673-aca5-c4d01303a276"
      },
      "execution_count": null,
      "outputs": [
        {
          "output_type": "stream",
          "name": "stdout",
          "text": [
            "Requirement already satisfied: scikeras in /usr/local/lib/python3.10/dist-packages (0.12.0)\n",
            "Requirement already satisfied: packaging>=0.21 in /usr/local/lib/python3.10/dist-packages (from scikeras) (24.0)\n",
            "Requirement already satisfied: scikit-learn>=1.0.0 in /usr/local/lib/python3.10/dist-packages (from scikeras) (1.2.2)\n",
            "Requirement already satisfied: numpy>=1.17.3 in /usr/local/lib/python3.10/dist-packages (from scikit-learn>=1.0.0->scikeras) (1.25.2)\n",
            "Requirement already satisfied: scipy>=1.3.2 in /usr/local/lib/python3.10/dist-packages (from scikit-learn>=1.0.0->scikeras) (1.11.4)\n",
            "Requirement already satisfied: joblib>=1.1.1 in /usr/local/lib/python3.10/dist-packages (from scikit-learn>=1.0.0->scikeras) (1.3.2)\n",
            "Requirement already satisfied: threadpoolctl>=2.0.0 in /usr/local/lib/python3.10/dist-packages (from scikit-learn>=1.0.0->scikeras) (3.4.0)\n"
          ]
        }
      ]
    },
    {
      "cell_type": "code",
      "source": [
        "from keras.models import Sequential\n",
        "from keras.layers import Dense\n",
        "from scikeras.wrappers import KerasClassifier\n",
        "from sklearn.model_selection import cross_val_score\n",
        "from sklearn.model_selection import KFold"
      ],
      "metadata": {
        "id": "2Au9Cacq5GUh"
      },
      "execution_count": null,
      "outputs": []
    },
    {
      "cell_type": "code",
      "source": [
        "def baseline_model():\n",
        "  model = Sequential()\n",
        "  model.add(Dense(8, input_dim=5, activation='relu'))\n",
        "  model.add(Dense(2, activation='sigmoid'))\n",
        "\n",
        "  model.compile(loss='categorical_crossentropy', optimizer='adam', metrics=['accuracy'])\n",
        "\n",
        "  return model"
      ],
      "metadata": {
        "id": "dGn43j34KnO3"
      },
      "execution_count": null,
      "outputs": []
    },
    {
      "cell_type": "code",
      "source": [
        "# Build the model and determine training parameters\n",
        "estimator = KerasClassifier(model=baseline_model, epochs=200, batch_size=5, verbose=0)"
      ],
      "metadata": {
        "id": "CdPfhtyp6Vix"
      },
      "execution_count": null,
      "outputs": []
    },
    {
      "cell_type": "markdown",
      "source": [
        "## Evaluate using k-fold cross validation"
      ],
      "metadata": {
        "id": "EtPUfZmW87Iz"
      }
    },
    {
      "cell_type": "code",
      "source": [
        "# Fixed seed\n",
        "seed = 7\n",
        "np.random.seed(seed)\n",
        "\n",
        "kfold = KFold(n_splits=10, shuffle=True, random_state=seed) # Evaluate using kflod"
      ],
      "metadata": {
        "id": "XO7fbrpk6a4f"
      },
      "execution_count": null,
      "outputs": []
    },
    {
      "cell_type": "code",
      "source": [
        "# Train the model\n",
        "\n",
        "results = cross_val_score(estimator, input_scaled, dummy_target, cv=kfold)\n",
        "print(\"Accuracy: %.2f%% (%.2f%%)\" % (results.mean()*100, results.std()*100))"
      ],
      "metadata": {
        "colab": {
          "base_uri": "https://localhost:8080/"
        },
        "id": "zde3EONo6q4J",
        "outputId": "0b9248f1-9fb4-4630-de92-af7d61f68dea"
      },
      "execution_count": null,
      "outputs": [
        {
          "output_type": "stream",
          "name": "stdout",
          "text": [
            "Accuracy: 99.29% (0.13%)\n"
          ]
        }
      ]
    },
    {
      "cell_type": "markdown",
      "source": [
        "## Adjustment of Hidden Layers"
      ],
      "metadata": {
        "id": "vQ1qUCGxKsHI"
      }
    },
    {
      "cell_type": "code",
      "source": [
        "def modified_model():\n",
        "  model = Sequential()\n",
        "  model.add(Dense(16, input_dim=5, activation='relu'))\n",
        "  model.add(Dense(8, input_dim=5, activation='relu'))\n",
        "  model.add(Dense(4, input_dim=5, activation='relu'))\n",
        "  model.add(Dense(2, activation='sigmoid'))\n",
        "\n",
        "  model.compile(loss='categorical_crossentropy', optimizer='adam', metrics=['accuracy'])\n",
        "\n",
        "  return model"
      ],
      "metadata": {
        "id": "VrkxnSwkKxwP"
      },
      "execution_count": null,
      "outputs": []
    },
    {
      "cell_type": "code",
      "source": [
        "# Build the model and determine training parameters\n",
        "estimator = KerasClassifier(model=modified_model, epochs=200, batch_size=5, verbose=0)"
      ],
      "metadata": {
        "id": "D5ZH4RxOcDL4"
      },
      "execution_count": null,
      "outputs": []
    },
    {
      "cell_type": "code",
      "source": [
        "# Fixed seed\n",
        "seed = 7\n",
        "np.random.seed(seed)\n",
        "\n",
        "kfold = KFold(n_splits=10, shuffle=True, random_state=seed) # Evaluate using kflod"
      ],
      "metadata": {
        "id": "N8pgwu-XcEd4"
      },
      "execution_count": null,
      "outputs": []
    },
    {
      "cell_type": "code",
      "source": [
        "# Train the model\n",
        "\n",
        "results = cross_val_score(estimator, input_scaled, dummy_target, cv=kfold)\n",
        "print(\"Accuracy: %.2f%% (%.2f%%)\" % (results.mean()*100, results.std()*100))"
      ],
      "metadata": {
        "colab": {
          "base_uri": "https://localhost:8080/"
        },
        "id": "VTZ5OsiLcFcY",
        "outputId": "c8fa888e-55fe-412d-b706-49a989fa7808"
      },
      "execution_count": null,
      "outputs": [
        {
          "output_type": "stream",
          "name": "stdout",
          "text": [
            "Accuracy: 99.32% (0.19%)\n"
          ]
        }
      ]
    },
    {
      "cell_type": "markdown",
      "source": [
        "## Evaluation"
      ],
      "metadata": {
        "id": "HtNU-fJ147uI"
      }
    },
    {
      "cell_type": "markdown",
      "source": [
        "The base model provided us with a well versed model reaching roughly 99% accuracy, although this is a good sign that our model works, the modified model resulted in a 0.04% increase in accuracy which is essentially identical to the base model."
      ],
      "metadata": {
        "id": "cUeCrDy_49q_"
      }
    },
    {
      "cell_type": "markdown",
      "source": [
        "# Regression"
      ],
      "metadata": {
        "id": "dCfV5GrMKeDB"
      }
    },
    {
      "cell_type": "markdown",
      "source": [
        "## Loading the Dataset"
      ],
      "metadata": {
        "id": "GW3YMMqeULUB"
      }
    },
    {
      "cell_type": "code",
      "source": [
        "pip install ucimlrepo"
      ],
      "metadata": {
        "colab": {
          "base_uri": "https://localhost:8080/"
        },
        "id": "YphyITCsab9P",
        "outputId": "0b65b340-e630-4b1d-bd2a-72ae574ac315"
      },
      "execution_count": null,
      "outputs": [
        {
          "output_type": "stream",
          "name": "stdout",
          "text": [
            "Collecting ucimlrepo\n",
            "  Downloading ucimlrepo-0.0.6-py3-none-any.whl (8.0 kB)\n",
            "Installing collected packages: ucimlrepo\n",
            "Successfully installed ucimlrepo-0.0.6\n"
          ]
        }
      ]
    },
    {
      "cell_type": "code",
      "source": [
        "from ucimlrepo import fetch_ucirepo\n",
        "\n",
        "# fetch dataset\n",
        "concrete_compressive_strength = fetch_ucirepo(id=165)\n",
        "\n",
        "# store dataset in a pandas dataframe\n",
        "concrete_data = concrete_compressive_strength.data.original\n",
        "\n",
        "concrete_data.info() # Check for null values, data types, and number of entries per feature"
      ],
      "metadata": {
        "colab": {
          "base_uri": "https://localhost:8080/"
        },
        "id": "uqHNlsyuUMmp",
        "outputId": "16ae42db-3346-4f03-e61a-3ef350020b5d"
      },
      "execution_count": null,
      "outputs": [
        {
          "output_type": "stream",
          "name": "stdout",
          "text": [
            "<class 'pandas.core.frame.DataFrame'>\n",
            "RangeIndex: 1030 entries, 0 to 1029\n",
            "Data columns (total 9 columns):\n",
            " #   Column                         Non-Null Count  Dtype  \n",
            "---  ------                         --------------  -----  \n",
            " 0   Cement                         1030 non-null   float64\n",
            " 1   Blast Furnace Slag             1030 non-null   float64\n",
            " 2   Fly Ash                        1030 non-null   float64\n",
            " 3   Water                          1030 non-null   float64\n",
            " 4   Superplasticizer               1030 non-null   float64\n",
            " 5   Coarse Aggregate               1030 non-null   float64\n",
            " 6   Fine Aggregate                 1030 non-null   float64\n",
            " 7   Age                            1030 non-null   int64  \n",
            " 8   Concrete compressive strength  1030 non-null   float64\n",
            "dtypes: float64(8), int64(1)\n",
            "memory usage: 72.5 KB\n"
          ]
        }
      ]
    },
    {
      "cell_type": "markdown",
      "source": [
        "After confirming that there are no null values and their respective data types we will now proceed to pre-processing"
      ],
      "metadata": {
        "id": "OYmKUX_Mp-Pi"
      }
    },
    {
      "cell_type": "markdown",
      "source": [
        "## Pre-processing"
      ],
      "metadata": {
        "id": "BSzMA0rSKyeN"
      }
    },
    {
      "cell_type": "markdown",
      "source": [
        "## Transformation of Data Types"
      ],
      "metadata": {
        "id": "dn5eiDEbqG4h"
      }
    },
    {
      "cell_type": "code",
      "source": [
        "concrete_data[\"Age\"] = concrete_data[\"Age\"].astype(\"float64\")\n",
        "concrete_data.info()"
      ],
      "metadata": {
        "colab": {
          "base_uri": "https://localhost:8080/"
        },
        "id": "wOkjitt2qGgQ",
        "outputId": "bd7826ea-36e3-4729-8f3c-7e9d11c584c7"
      },
      "execution_count": null,
      "outputs": [
        {
          "output_type": "stream",
          "name": "stdout",
          "text": [
            "<class 'pandas.core.frame.DataFrame'>\n",
            "RangeIndex: 1030 entries, 0 to 1029\n",
            "Data columns (total 9 columns):\n",
            " #   Column                         Non-Null Count  Dtype  \n",
            "---  ------                         --------------  -----  \n",
            " 0   Cement                         1030 non-null   float64\n",
            " 1   Blast Furnace Slag             1030 non-null   float64\n",
            " 2   Fly Ash                        1030 non-null   float64\n",
            " 3   Water                          1030 non-null   float64\n",
            " 4   Superplasticizer               1030 non-null   float64\n",
            " 5   Coarse Aggregate               1030 non-null   float64\n",
            " 6   Fine Aggregate                 1030 non-null   float64\n",
            " 7   Age                            1030 non-null   float64\n",
            " 8   Concrete compressive strength  1030 non-null   float64\n",
            "dtypes: float64(9)\n",
            "memory usage: 72.5 KB\n"
          ]
        }
      ]
    },
    {
      "cell_type": "markdown",
      "source": [
        "After transforming the variables to similar data types, we can now proceed to clearing any outliers in the dataset"
      ],
      "metadata": {
        "id": "IuQ262u1qQEh"
      }
    },
    {
      "cell_type": "markdown",
      "source": [
        "## Separation of Training and Test Datasets"
      ],
      "metadata": {
        "id": "FLlAmX0tAQBA"
      }
    },
    {
      "cell_type": "markdown",
      "source": [
        "Since we only have one dataset, we will need to split it into a test dataset and train dataset. This will be done by using the `train_test_split` function from sklearn, and will be put inside a [new dataframe](https://www.geeksforgeeks.org/different-ways-to-create-pandas-dataframe/) with the same features, including its [target variable](https://www.geeksforgeeks.org/adding-new-column-to-existing-dataframe-in-pandas/)."
      ],
      "metadata": {
        "id": "-slgloKjC00e"
      }
    },
    {
      "cell_type": "code",
      "source": [
        "from sklearn.model_selection import train_test_split\n",
        "\n",
        "# Define the features, excluding the target variable\n",
        "features = concrete_data.columns.difference(['Concrete compressive strength'])\n",
        "X = concrete_data.iloc[:, :-1].values # Get the values of each feature\n",
        "y = concrete_data[\"Concrete compressive strength\"].values # Get the values of the target variable\n",
        "\n",
        "# Split the data into 4 parts: X_train, X_test, y_train, and y_test\n",
        "X_train, X_test, y_train, y_test = train_test_split(X, y, test_size=0.25, random_state=11111)\n",
        "\n",
        "# Create a new dataframe containing the values of X_train\n",
        "concrete_data_train = pd.DataFrame(X_train, columns=features)\n",
        "concrete_data_train[\"Concrete compressive strength\"] = y_train # Insert a new column that contains the y_train\n",
        "\n",
        "# Repeat with test dataframe\n",
        "concrete_data_test = pd.DataFrame(X_test, columns=features)\n",
        "concrete_data_test[\"Concrete compressive strength\"] = y_test\n",
        "\n",
        "# Check both dataframes if it is indeed a 75-25 split as well as its data types and entries.\n",
        "concrete_data_train.info()"
      ],
      "metadata": {
        "colab": {
          "base_uri": "https://localhost:8080/"
        },
        "id": "ayEpU6DaA7yh",
        "outputId": "946da57d-92a6-4223-fea0-c89b65bda927"
      },
      "execution_count": null,
      "outputs": [
        {
          "output_type": "stream",
          "name": "stdout",
          "text": [
            "<class 'pandas.core.frame.DataFrame'>\n",
            "RangeIndex: 772 entries, 0 to 771\n",
            "Data columns (total 9 columns):\n",
            " #   Column                         Non-Null Count  Dtype  \n",
            "---  ------                         --------------  -----  \n",
            " 0   Age                            772 non-null    float64\n",
            " 1   Blast Furnace Slag             772 non-null    float64\n",
            " 2   Cement                         772 non-null    float64\n",
            " 3   Coarse Aggregate               772 non-null    float64\n",
            " 4   Fine Aggregate                 772 non-null    float64\n",
            " 5   Fly Ash                        772 non-null    float64\n",
            " 6   Superplasticizer               772 non-null    float64\n",
            " 7   Water                          772 non-null    float64\n",
            " 8   Concrete compressive strength  772 non-null    float64\n",
            "dtypes: float64(9)\n",
            "memory usage: 54.4 KB\n"
          ]
        }
      ]
    },
    {
      "cell_type": "code",
      "source": [
        "concrete_data_test.info()"
      ],
      "metadata": {
        "colab": {
          "base_uri": "https://localhost:8080/"
        },
        "id": "xYhKP1qcCy3H",
        "outputId": "d1e8c860-abbf-434a-9a26-3d56c51cf2ad"
      },
      "execution_count": null,
      "outputs": [
        {
          "output_type": "stream",
          "name": "stdout",
          "text": [
            "<class 'pandas.core.frame.DataFrame'>\n",
            "RangeIndex: 258 entries, 0 to 257\n",
            "Data columns (total 9 columns):\n",
            " #   Column                         Non-Null Count  Dtype  \n",
            "---  ------                         --------------  -----  \n",
            " 0   Age                            258 non-null    float64\n",
            " 1   Blast Furnace Slag             258 non-null    float64\n",
            " 2   Cement                         258 non-null    float64\n",
            " 3   Coarse Aggregate               258 non-null    float64\n",
            " 4   Fine Aggregate                 258 non-null    float64\n",
            " 5   Fly Ash                        258 non-null    float64\n",
            " 6   Superplasticizer               258 non-null    float64\n",
            " 7   Water                          258 non-null    float64\n",
            " 8   Concrete compressive strength  258 non-null    float64\n",
            "dtypes: float64(9)\n",
            "memory usage: 18.3 KB\n"
          ]
        }
      ]
    },
    {
      "cell_type": "markdown",
      "source": [
        "### Removing the Outliers"
      ],
      "metadata": {
        "id": "WJWCBvkqL_Dq"
      }
    },
    {
      "cell_type": "code",
      "source": [
        "concrete_data_train.describe() # Check statistics"
      ],
      "metadata": {
        "colab": {
          "base_uri": "https://localhost:8080/",
          "height": 335
        },
        "id": "WE1LQFR4KxbF",
        "outputId": "86944e2a-dac5-4266-a37c-f5e67fcf1b52"
      },
      "execution_count": null,
      "outputs": [
        {
          "output_type": "execute_result",
          "data": {
            "text/plain": [
              "              Age  Blast Furnace Slag      Cement  Coarse Aggregate  \\\n",
              "count  772.000000          772.000000  772.000000        772.000000   \n",
              "mean   283.038472           70.514508   53.123575        181.065026   \n",
              "std    105.948132           84.113992   64.238738         21.110430   \n",
              "min    102.000000            0.000000    0.000000        121.800000   \n",
              "25%    191.675000            0.000000    0.000000        164.900000   \n",
              "50%    277.000000           19.500000    0.000000        185.000000   \n",
              "75%    359.000000          141.600000  118.225000        192.000000   \n",
              "max    540.000000          342.100000  200.100000        247.000000   \n",
              "\n",
              "       Fine Aggregate      Fly Ash  Superplasticizer       Water  \\\n",
              "count      772.000000   772.000000        772.000000  772.000000   \n",
              "mean         6.104275   974.396244        776.196762   44.340674   \n",
              "std          6.010345    77.679293         79.916018   61.087649   \n",
              "min          0.000000   801.000000        594.000000    1.000000   \n",
              "25%          0.000000   932.000000        734.300000    7.000000   \n",
              "50%          6.100000   968.000000        780.600000   28.000000   \n",
              "75%         10.100000  1038.500000        825.500000   56.000000   \n",
              "max         32.200000  1145.000000        992.600000  365.000000   \n",
              "\n",
              "       Concrete compressive strength  \n",
              "count                     772.000000  \n",
              "mean                       35.364365  \n",
              "std                        17.028949  \n",
              "min                         2.330000  \n",
              "25%                        22.810000  \n",
              "50%                        33.725000  \n",
              "75%                        45.317500  \n",
              "max                        82.600000  "
            ],
            "text/html": [
              "\n",
              "  <div id=\"df-89211dea-6309-4b9f-a19b-c2709cae3634\" class=\"colab-df-container\">\n",
              "    <div>\n",
              "<style scoped>\n",
              "    .dataframe tbody tr th:only-of-type {\n",
              "        vertical-align: middle;\n",
              "    }\n",
              "\n",
              "    .dataframe tbody tr th {\n",
              "        vertical-align: top;\n",
              "    }\n",
              "\n",
              "    .dataframe thead th {\n",
              "        text-align: right;\n",
              "    }\n",
              "</style>\n",
              "<table border=\"1\" class=\"dataframe\">\n",
              "  <thead>\n",
              "    <tr style=\"text-align: right;\">\n",
              "      <th></th>\n",
              "      <th>Age</th>\n",
              "      <th>Blast Furnace Slag</th>\n",
              "      <th>Cement</th>\n",
              "      <th>Coarse Aggregate</th>\n",
              "      <th>Fine Aggregate</th>\n",
              "      <th>Fly Ash</th>\n",
              "      <th>Superplasticizer</th>\n",
              "      <th>Water</th>\n",
              "      <th>Concrete compressive strength</th>\n",
              "    </tr>\n",
              "  </thead>\n",
              "  <tbody>\n",
              "    <tr>\n",
              "      <th>count</th>\n",
              "      <td>772.000000</td>\n",
              "      <td>772.000000</td>\n",
              "      <td>772.000000</td>\n",
              "      <td>772.000000</td>\n",
              "      <td>772.000000</td>\n",
              "      <td>772.000000</td>\n",
              "      <td>772.000000</td>\n",
              "      <td>772.000000</td>\n",
              "      <td>772.000000</td>\n",
              "    </tr>\n",
              "    <tr>\n",
              "      <th>mean</th>\n",
              "      <td>283.038472</td>\n",
              "      <td>70.514508</td>\n",
              "      <td>53.123575</td>\n",
              "      <td>181.065026</td>\n",
              "      <td>6.104275</td>\n",
              "      <td>974.396244</td>\n",
              "      <td>776.196762</td>\n",
              "      <td>44.340674</td>\n",
              "      <td>35.364365</td>\n",
              "    </tr>\n",
              "    <tr>\n",
              "      <th>std</th>\n",
              "      <td>105.948132</td>\n",
              "      <td>84.113992</td>\n",
              "      <td>64.238738</td>\n",
              "      <td>21.110430</td>\n",
              "      <td>6.010345</td>\n",
              "      <td>77.679293</td>\n",
              "      <td>79.916018</td>\n",
              "      <td>61.087649</td>\n",
              "      <td>17.028949</td>\n",
              "    </tr>\n",
              "    <tr>\n",
              "      <th>min</th>\n",
              "      <td>102.000000</td>\n",
              "      <td>0.000000</td>\n",
              "      <td>0.000000</td>\n",
              "      <td>121.800000</td>\n",
              "      <td>0.000000</td>\n",
              "      <td>801.000000</td>\n",
              "      <td>594.000000</td>\n",
              "      <td>1.000000</td>\n",
              "      <td>2.330000</td>\n",
              "    </tr>\n",
              "    <tr>\n",
              "      <th>25%</th>\n",
              "      <td>191.675000</td>\n",
              "      <td>0.000000</td>\n",
              "      <td>0.000000</td>\n",
              "      <td>164.900000</td>\n",
              "      <td>0.000000</td>\n",
              "      <td>932.000000</td>\n",
              "      <td>734.300000</td>\n",
              "      <td>7.000000</td>\n",
              "      <td>22.810000</td>\n",
              "    </tr>\n",
              "    <tr>\n",
              "      <th>50%</th>\n",
              "      <td>277.000000</td>\n",
              "      <td>19.500000</td>\n",
              "      <td>0.000000</td>\n",
              "      <td>185.000000</td>\n",
              "      <td>6.100000</td>\n",
              "      <td>968.000000</td>\n",
              "      <td>780.600000</td>\n",
              "      <td>28.000000</td>\n",
              "      <td>33.725000</td>\n",
              "    </tr>\n",
              "    <tr>\n",
              "      <th>75%</th>\n",
              "      <td>359.000000</td>\n",
              "      <td>141.600000</td>\n",
              "      <td>118.225000</td>\n",
              "      <td>192.000000</td>\n",
              "      <td>10.100000</td>\n",
              "      <td>1038.500000</td>\n",
              "      <td>825.500000</td>\n",
              "      <td>56.000000</td>\n",
              "      <td>45.317500</td>\n",
              "    </tr>\n",
              "    <tr>\n",
              "      <th>max</th>\n",
              "      <td>540.000000</td>\n",
              "      <td>342.100000</td>\n",
              "      <td>200.100000</td>\n",
              "      <td>247.000000</td>\n",
              "      <td>32.200000</td>\n",
              "      <td>1145.000000</td>\n",
              "      <td>992.600000</td>\n",
              "      <td>365.000000</td>\n",
              "      <td>82.600000</td>\n",
              "    </tr>\n",
              "  </tbody>\n",
              "</table>\n",
              "</div>\n",
              "    <div class=\"colab-df-buttons\">\n",
              "\n",
              "  <div class=\"colab-df-container\">\n",
              "    <button class=\"colab-df-convert\" onclick=\"convertToInteractive('df-89211dea-6309-4b9f-a19b-c2709cae3634')\"\n",
              "            title=\"Convert this dataframe to an interactive table.\"\n",
              "            style=\"display:none;\">\n",
              "\n",
              "  <svg xmlns=\"http://www.w3.org/2000/svg\" height=\"24px\" viewBox=\"0 -960 960 960\">\n",
              "    <path d=\"M120-120v-720h720v720H120Zm60-500h600v-160H180v160Zm220 220h160v-160H400v160Zm0 220h160v-160H400v160ZM180-400h160v-160H180v160Zm440 0h160v-160H620v160ZM180-180h160v-160H180v160Zm440 0h160v-160H620v160Z\"/>\n",
              "  </svg>\n",
              "    </button>\n",
              "\n",
              "  <style>\n",
              "    .colab-df-container {\n",
              "      display:flex;\n",
              "      gap: 12px;\n",
              "    }\n",
              "\n",
              "    .colab-df-convert {\n",
              "      background-color: #E8F0FE;\n",
              "      border: none;\n",
              "      border-radius: 50%;\n",
              "      cursor: pointer;\n",
              "      display: none;\n",
              "      fill: #1967D2;\n",
              "      height: 32px;\n",
              "      padding: 0 0 0 0;\n",
              "      width: 32px;\n",
              "    }\n",
              "\n",
              "    .colab-df-convert:hover {\n",
              "      background-color: #E2EBFA;\n",
              "      box-shadow: 0px 1px 2px rgba(60, 64, 67, 0.3), 0px 1px 3px 1px rgba(60, 64, 67, 0.15);\n",
              "      fill: #174EA6;\n",
              "    }\n",
              "\n",
              "    .colab-df-buttons div {\n",
              "      margin-bottom: 4px;\n",
              "    }\n",
              "\n",
              "    [theme=dark] .colab-df-convert {\n",
              "      background-color: #3B4455;\n",
              "      fill: #D2E3FC;\n",
              "    }\n",
              "\n",
              "    [theme=dark] .colab-df-convert:hover {\n",
              "      background-color: #434B5C;\n",
              "      box-shadow: 0px 1px 3px 1px rgba(0, 0, 0, 0.15);\n",
              "      filter: drop-shadow(0px 1px 2px rgba(0, 0, 0, 0.3));\n",
              "      fill: #FFFFFF;\n",
              "    }\n",
              "  </style>\n",
              "\n",
              "    <script>\n",
              "      const buttonEl =\n",
              "        document.querySelector('#df-89211dea-6309-4b9f-a19b-c2709cae3634 button.colab-df-convert');\n",
              "      buttonEl.style.display =\n",
              "        google.colab.kernel.accessAllowed ? 'block' : 'none';\n",
              "\n",
              "      async function convertToInteractive(key) {\n",
              "        const element = document.querySelector('#df-89211dea-6309-4b9f-a19b-c2709cae3634');\n",
              "        const dataTable =\n",
              "          await google.colab.kernel.invokeFunction('convertToInteractive',\n",
              "                                                    [key], {});\n",
              "        if (!dataTable) return;\n",
              "\n",
              "        const docLinkHtml = 'Like what you see? Visit the ' +\n",
              "          '<a target=\"_blank\" href=https://colab.research.google.com/notebooks/data_table.ipynb>data table notebook</a>'\n",
              "          + ' to learn more about interactive tables.';\n",
              "        element.innerHTML = '';\n",
              "        dataTable['output_type'] = 'display_data';\n",
              "        await google.colab.output.renderOutput(dataTable, element);\n",
              "        const docLink = document.createElement('div');\n",
              "        docLink.innerHTML = docLinkHtml;\n",
              "        element.appendChild(docLink);\n",
              "      }\n",
              "    </script>\n",
              "  </div>\n",
              "\n",
              "\n",
              "<div id=\"df-a7b4a4a3-b051-435f-85a9-205b5959e354\">\n",
              "  <button class=\"colab-df-quickchart\" onclick=\"quickchart('df-a7b4a4a3-b051-435f-85a9-205b5959e354')\"\n",
              "            title=\"Suggest charts\"\n",
              "            style=\"display:none;\">\n",
              "\n",
              "<svg xmlns=\"http://www.w3.org/2000/svg\" height=\"24px\"viewBox=\"0 0 24 24\"\n",
              "     width=\"24px\">\n",
              "    <g>\n",
              "        <path d=\"M19 3H5c-1.1 0-2 .9-2 2v14c0 1.1.9 2 2 2h14c1.1 0 2-.9 2-2V5c0-1.1-.9-2-2-2zM9 17H7v-7h2v7zm4 0h-2V7h2v10zm4 0h-2v-4h2v4z\"/>\n",
              "    </g>\n",
              "</svg>\n",
              "  </button>\n",
              "\n",
              "<style>\n",
              "  .colab-df-quickchart {\n",
              "      --bg-color: #E8F0FE;\n",
              "      --fill-color: #1967D2;\n",
              "      --hover-bg-color: #E2EBFA;\n",
              "      --hover-fill-color: #174EA6;\n",
              "      --disabled-fill-color: #AAA;\n",
              "      --disabled-bg-color: #DDD;\n",
              "  }\n",
              "\n",
              "  [theme=dark] .colab-df-quickchart {\n",
              "      --bg-color: #3B4455;\n",
              "      --fill-color: #D2E3FC;\n",
              "      --hover-bg-color: #434B5C;\n",
              "      --hover-fill-color: #FFFFFF;\n",
              "      --disabled-bg-color: #3B4455;\n",
              "      --disabled-fill-color: #666;\n",
              "  }\n",
              "\n",
              "  .colab-df-quickchart {\n",
              "    background-color: var(--bg-color);\n",
              "    border: none;\n",
              "    border-radius: 50%;\n",
              "    cursor: pointer;\n",
              "    display: none;\n",
              "    fill: var(--fill-color);\n",
              "    height: 32px;\n",
              "    padding: 0;\n",
              "    width: 32px;\n",
              "  }\n",
              "\n",
              "  .colab-df-quickchart:hover {\n",
              "    background-color: var(--hover-bg-color);\n",
              "    box-shadow: 0 1px 2px rgba(60, 64, 67, 0.3), 0 1px 3px 1px rgba(60, 64, 67, 0.15);\n",
              "    fill: var(--button-hover-fill-color);\n",
              "  }\n",
              "\n",
              "  .colab-df-quickchart-complete:disabled,\n",
              "  .colab-df-quickchart-complete:disabled:hover {\n",
              "    background-color: var(--disabled-bg-color);\n",
              "    fill: var(--disabled-fill-color);\n",
              "    box-shadow: none;\n",
              "  }\n",
              "\n",
              "  .colab-df-spinner {\n",
              "    border: 2px solid var(--fill-color);\n",
              "    border-color: transparent;\n",
              "    border-bottom-color: var(--fill-color);\n",
              "    animation:\n",
              "      spin 1s steps(1) infinite;\n",
              "  }\n",
              "\n",
              "  @keyframes spin {\n",
              "    0% {\n",
              "      border-color: transparent;\n",
              "      border-bottom-color: var(--fill-color);\n",
              "      border-left-color: var(--fill-color);\n",
              "    }\n",
              "    20% {\n",
              "      border-color: transparent;\n",
              "      border-left-color: var(--fill-color);\n",
              "      border-top-color: var(--fill-color);\n",
              "    }\n",
              "    30% {\n",
              "      border-color: transparent;\n",
              "      border-left-color: var(--fill-color);\n",
              "      border-top-color: var(--fill-color);\n",
              "      border-right-color: var(--fill-color);\n",
              "    }\n",
              "    40% {\n",
              "      border-color: transparent;\n",
              "      border-right-color: var(--fill-color);\n",
              "      border-top-color: var(--fill-color);\n",
              "    }\n",
              "    60% {\n",
              "      border-color: transparent;\n",
              "      border-right-color: var(--fill-color);\n",
              "    }\n",
              "    80% {\n",
              "      border-color: transparent;\n",
              "      border-right-color: var(--fill-color);\n",
              "      border-bottom-color: var(--fill-color);\n",
              "    }\n",
              "    90% {\n",
              "      border-color: transparent;\n",
              "      border-bottom-color: var(--fill-color);\n",
              "    }\n",
              "  }\n",
              "</style>\n",
              "\n",
              "  <script>\n",
              "    async function quickchart(key) {\n",
              "      const quickchartButtonEl =\n",
              "        document.querySelector('#' + key + ' button');\n",
              "      quickchartButtonEl.disabled = true;  // To prevent multiple clicks.\n",
              "      quickchartButtonEl.classList.add('colab-df-spinner');\n",
              "      try {\n",
              "        const charts = await google.colab.kernel.invokeFunction(\n",
              "            'suggestCharts', [key], {});\n",
              "      } catch (error) {\n",
              "        console.error('Error during call to suggestCharts:', error);\n",
              "      }\n",
              "      quickchartButtonEl.classList.remove('colab-df-spinner');\n",
              "      quickchartButtonEl.classList.add('colab-df-quickchart-complete');\n",
              "    }\n",
              "    (() => {\n",
              "      let quickchartButtonEl =\n",
              "        document.querySelector('#df-a7b4a4a3-b051-435f-85a9-205b5959e354 button');\n",
              "      quickchartButtonEl.style.display =\n",
              "        google.colab.kernel.accessAllowed ? 'block' : 'none';\n",
              "    })();\n",
              "  </script>\n",
              "</div>\n",
              "    </div>\n",
              "  </div>\n"
            ],
            "application/vnd.google.colaboratory.intrinsic+json": {
              "type": "dataframe",
              "summary": "{\n  \"name\": \"concrete_data_train\",\n  \"rows\": 8,\n  \"fields\": [\n    {\n      \"column\": \"Age\",\n      \"properties\": {\n        \"dtype\": \"number\",\n        \"std\": 228.8560150957903,\n        \"min\": 102.0,\n        \"max\": 772.0,\n        \"num_unique_values\": 8,\n        \"samples\": [\n          283.0384715025907,\n          277.0,\n          772.0\n        ],\n        \"semantic_type\": \"\",\n        \"description\": \"\"\n      }\n    },\n    {\n      \"column\": \"Blast Furnace Slag\",\n      \"properties\": {\n        \"dtype\": \"number\",\n        \"std\": 264.55987361156775,\n        \"min\": 0.0,\n        \"max\": 772.0,\n        \"num_unique_values\": 7,\n        \"samples\": [\n          772.0,\n          70.51450777202072,\n          141.60000000000002\n        ],\n        \"semantic_type\": \"\",\n        \"description\": \"\"\n      }\n    },\n    {\n      \"column\": \"Cement\",\n      \"properties\": {\n        \"dtype\": \"number\",\n        \"std\": 260.39429155270824,\n        \"min\": 0.0,\n        \"max\": 772.0,\n        \"num_unique_values\": 6,\n        \"samples\": [\n          772.0,\n          53.123575129533684,\n          200.1\n        ],\n        \"semantic_type\": \"\",\n        \"description\": \"\"\n      }\n    },\n    {\n      \"column\": \"Coarse Aggregate\",\n      \"properties\": {\n        \"dtype\": \"number\",\n        \"std\": 226.54075893262856,\n        \"min\": 21.110430284475406,\n        \"max\": 772.0,\n        \"num_unique_values\": 8,\n        \"samples\": [\n          181.06502590673577,\n          185.0,\n          772.0\n        ],\n        \"semantic_type\": \"\",\n        \"description\": \"\"\n      }\n    },\n    {\n      \"column\": \"Fine Aggregate\",\n      \"properties\": {\n        \"dtype\": \"number\",\n        \"std\": 270.0789229629254,\n        \"min\": 0.0,\n        \"max\": 772.0,\n        \"num_unique_values\": 7,\n        \"samples\": [\n          772.0,\n          6.104274611398964,\n          10.1\n        ],\n        \"semantic_type\": \"\",\n        \"description\": \"\"\n      }\n    },\n    {\n      \"column\": \"Fly Ash\",\n      \"properties\": {\n        \"dtype\": \"number\",\n        \"std\": 330.0647437265642,\n        \"min\": 77.67929328878218,\n        \"max\": 1145.0,\n        \"num_unique_values\": 8,\n        \"samples\": [\n          974.3962435233162,\n          968.0,\n          772.0\n        ],\n        \"semantic_type\": \"\",\n        \"description\": \"\"\n      }\n    },\n    {\n      \"column\": \"Superplasticizer\",\n      \"properties\": {\n        \"dtype\": \"number\",\n        \"std\": 271.3764106404363,\n        \"min\": 79.9160177044514,\n        \"max\": 992.6,\n        \"num_unique_values\": 8,\n        \"samples\": [\n          776.1967616580312,\n          780.6,\n          772.0\n        ],\n        \"semantic_type\": \"\",\n        \"description\": \"\"\n      }\n    },\n    {\n      \"column\": \"Water\",\n      \"properties\": {\n        \"dtype\": \"number\",\n        \"std\": 271.57988237964673,\n        \"min\": 1.0,\n        \"max\": 772.0,\n        \"num_unique_values\": 8,\n        \"samples\": [\n          44.340673575129536,\n          28.0,\n          772.0\n        ],\n        \"semantic_type\": \"\",\n        \"description\": \"\"\n      }\n    },\n    {\n      \"column\": \"Concrete compressive strength\",\n      \"properties\": {\n        \"dtype\": \"number\",\n        \"std\": 261.93090525071517,\n        \"min\": 2.33,\n        \"max\": 772.0,\n        \"num_unique_values\": 8,\n        \"samples\": [\n          35.36436528497409,\n          33.724999999999994,\n          772.0\n        ],\n        \"semantic_type\": \"\",\n        \"description\": \"\"\n      }\n    }\n  ]\n}"
            }
          },
          "metadata": {},
          "execution_count": 72
        }
      ]
    },
    {
      "cell_type": "code",
      "source": [
        "import matplotlib.pyplot as plt # For plotting\n",
        "\n",
        "# Create subplots\n",
        "fig, axs = plt.subplots(1, 8, figsize=(12, 5))\n",
        "features = concrete_data_train.columns\n",
        "\n",
        "# Create boxplots for each feature\n",
        "for item in range(8):\n",
        "  axs[item].boxplot(concrete_data_train[features[item]])\n",
        "  axs[item].set_xlabel(f\"{features[item]}\")\n",
        "\n",
        "# Show the boxplots\n",
        "plt.tight_layout()\n",
        "plt.show()"
      ],
      "metadata": {
        "colab": {
          "base_uri": "https://localhost:8080/",
          "height": 458
        },
        "id": "nZr79OJHqYkB",
        "outputId": "bb9bf274-27f0-48a9-b2c7-da95e0f18641"
      },
      "execution_count": null,
      "outputs": [
        {
          "output_type": "display_data",
          "data": {
            "text/plain": [
              "<Figure size 1200x500 with 8 Axes>"
            ],
            "image/png": "[encoded data removed]"
          },
          "metadata": {}
        }
      ]
    },
    {
      "cell_type": "code",
      "source": [
        "# Get the attributes\n",
        "attributes = concrete_data_train.columns.difference(['Concrete compressive strength'])\n",
        "\n",
        "data = concrete_data_train\n",
        "\n",
        "for item in attributes:\n",
        "  # Calculation for 1st and 3rd Quartile\n",
        "  Q1 = data[item].quantile(0.25)\n",
        "  Q3 = data[item].quantile(0.75)\n",
        "\n",
        "  # Calculation for the Interquartile Range (IQR)\n",
        "  IQR = Q3 - Q1\n",
        "  lower_bound = Q1 - (1.5*IQR)\n",
        "  upper_bound = Q3 + (1.5*IQR)\n",
        "\n",
        "  # Identification of the outliers' index in the dataset\n",
        "  filtered = data[(data[item] >= lower_bound) & (data[item] <= upper_bound)]\n",
        "\n",
        "  # Creating a set of data WITHOUT the outlieers\n",
        "  data = filtered\n",
        "\n",
        "# Creation of new dataframe that is free from outliers\n",
        "concrete_clean = data\n",
        "concrete_clean.info()"
      ],
      "metadata": {
        "colab": {
          "base_uri": "https://localhost:8080/"
        },
        "id": "X2D4itINqd0A",
        "outputId": "9a119d4b-9831-4cb4-c0ff-c10d8ffaf358"
      },
      "execution_count": null,
      "outputs": [
        {
          "output_type": "stream",
          "name": "stdout",
          "text": [
            "<class 'pandas.core.frame.DataFrame'>\n",
            "Index: 701 entries, 0 to 771\n",
            "Data columns (total 9 columns):\n",
            " #   Column                         Non-Null Count  Dtype  \n",
            "---  ------                         --------------  -----  \n",
            " 0   Age                            701 non-null    float64\n",
            " 1   Blast Furnace Slag             701 non-null    float64\n",
            " 2   Cement                         701 non-null    float64\n",
            " 3   Coarse Aggregate               701 non-null    float64\n",
            " 4   Fine Aggregate                 701 non-null    float64\n",
            " 5   Fly Ash                        701 non-null    float64\n",
            " 6   Superplasticizer               701 non-null    float64\n",
            " 7   Water                          701 non-null    float64\n",
            " 8   Concrete compressive strength  701 non-null    float64\n",
            "dtypes: float64(9)\n",
            "memory usage: 54.8 KB\n"
          ]
        }
      ]
    },
    {
      "cell_type": "code",
      "source": [
        "import matplotlib.pyplot as plt # For plotting\n",
        "\n",
        "# Create subplots\n",
        "fig, axs = plt.subplots(1, 8, figsize=(12, 5))\n",
        "features = concrete_clean.columns\n",
        "\n",
        "# Create boxplots for each feature\n",
        "for item in range(8):\n",
        "  axs[item].boxplot(concrete_clean[features[item]])\n",
        "  axs[item].set_xlabel(f\"{features[item]}\")\n",
        "\n",
        "# Show the boxplots\n",
        "plt.tight_layout()\n",
        "plt.show()"
      ],
      "metadata": {
        "colab": {
          "base_uri": "https://localhost:8080/",
          "height": 458
        },
        "id": "z_UPbdItroNK",
        "outputId": "b25264da-20b2-4a8c-9264-24bfd4a5fe6f"
      },
      "execution_count": null,
      "outputs": [
        {
          "output_type": "display_data",
          "data": {
            "text/plain": [
              "<Figure size 1200x500 with 8 Axes>"
            ],
            "image/png": "[encoded data removed]"
          },
          "metadata": {}
        }
      ]
    },
    {
      "cell_type": "markdown",
      "source": [
        "We can see that 'new' outliers have formed after removing the outliers in the original dataset. Although this is possible, [sources](https://stats.stackexchange.com/questions/492995/removing-outliers-renders-a-new-distribution-that-has-its-own-outliers#:~:text=For%20example%2C%20if%20data%20are,its%20own%2C%20and%20so%20on.) state that this could be a result of a well distributed dataset or extreme entries. Further iterations of outlier removal may result in ignoring a \"substantial and legitimate\" portion of our dataset.\n",
        "\n",
        "Thus it is recommended to conduct outlier removal only [once](https://stackoverflow.com/questions/71160676/dataset-with-new-outliers-after-removing-the-outliers) to prevent dropping datapoints that may be crucial in our model's performance"
      ],
      "metadata": {
        "id": "Lk5D1ot60XAi"
      }
    },
    {
      "cell_type": "markdown",
      "source": [
        "## Create the Base Model"
      ],
      "metadata": {
        "id": "awEHoyGlKyG2"
      }
    },
    {
      "cell_type": "code",
      "source": [
        "def baseline_model():\n",
        "\n",
        "  model = Sequential()\n",
        "  model.add(Dense(16, input_shape=(X_train.shape[1],), kernel_initializer='normal', activation='relu'))\n",
        "  model.add(Dense(1, kernel_initializer='normal'))\n",
        "\n",
        "  model.compile(loss='mean_squared_error', optimizer='adam')\n",
        "  return model"
      ],
      "metadata": {
        "id": "V56ThJlgK26s"
      },
      "execution_count": null,
      "outputs": []
    },
    {
      "cell_type": "code",
      "source": [
        "from scikeras.wrappers import KerasRegressor\n",
        "# Biuld the model and define its parameters\n",
        "estimator = KerasRegressor(model=baseline_model, epochs=100, batch_size=5, verbose=0)\n",
        "\n",
        "# Evaluate using kfold\n",
        "kfold = KFold(n_splits=10)"
      ],
      "metadata": {
        "id": "65HoKi9sEqQW"
      },
      "execution_count": null,
      "outputs": []
    },
    {
      "cell_type": "code",
      "source": [
        "# Train the model and show results\n",
        "results = cross_val_score(estimator, X_train, y_train, cv=kfold, scoring='neg_mean_squared_error')\n",
        "print(\"Baseline: %.2f (%.2f) MSE\" % (results.mean(), results.std()))"
      ],
      "metadata": {
        "id": "ZtOa6ercEztU",
        "colab": {
          "base_uri": "https://localhost:8080/"
        },
        "outputId": "def70d3d-a370-4bad-eecb-e38d44f1fc1a"
      },
      "execution_count": null,
      "outputs": [
        {
          "output_type": "stream",
          "name": "stdout",
          "text": [
            "Baseline: -48.17 (7.19) MSE\n"
          ]
        }
      ]
    },
    {
      "cell_type": "markdown",
      "source": [
        "## Improve by Standardizing the Dataset"
      ],
      "metadata": {
        "id": "milRa8d0K3Ok"
      }
    },
    {
      "cell_type": "code",
      "source": [
        "from sklearn.pipeline import Pipeline\n",
        "from sklearn.preprocessing import StandardScaler\n",
        "\n",
        "# Initialize estimators object\n",
        "estimators = []\n",
        "\n",
        "# Standardize the data usng StandardScaler\n",
        "estimators.append(('standardize', StandardScaler()))\n",
        "\n",
        "\n",
        "# Build the model and set parameters\n",
        "estimators.append(('mlp', KerasRegressor(model=baseline_model, epochs=100, batch_size=5, verbose=0)))\n",
        "\n",
        "# Use pipelines to increase efficiency by doing multiple tasks at once\n",
        "pipeline = Pipeline(estimators)\n",
        "\n",
        "# Evaluate using kfold\n",
        "kfold = KFold(n_splits=10)"
      ],
      "metadata": {
        "id": "X60Qzk8_K7Cs"
      },
      "execution_count": null,
      "outputs": []
    },
    {
      "cell_type": "code",
      "source": [
        "# Train the model and show results\n",
        "results = cross_val_score(pipeline, X_train, y_train, cv=kfold, scoring='neg_mean_squared_error')\n",
        "print(\"Standardized: %.2f (%.2f) MSE\" % (results.mean(), results.std()))"
      ],
      "metadata": {
        "colab": {
          "base_uri": "https://localhost:8080/"
        },
        "id": "XSAHiok1GQbR",
        "outputId": "f41da6f9-7a84-4787-bf67-c64af8d99869"
      },
      "execution_count": null,
      "outputs": [
        {
          "output_type": "stream",
          "name": "stdout",
          "text": [
            "Standardized: -94.46 (34.29) MSE\n"
          ]
        }
      ]
    },
    {
      "cell_type": "markdown",
      "source": [
        "## Tuning of Layers and Neurons"
      ],
      "metadata": {
        "id": "99bMsGfaK7PU"
      }
    },
    {
      "cell_type": "code",
      "source": [
        "def small_model():\n",
        "\n",
        "  model = Sequential()\n",
        "  model.add(Dense(8, input_shape=(X_train.shape[1],), kernel_initializer='normal', activation='relu'))\n",
        "  model.add(Dense(1, kernel_initializer='normal'))\n",
        "\n",
        "  model.compile(loss='mean_squared_error', optimizer='adam')\n",
        "  return model\n",
        "\n",
        "\n",
        "def medium_model():\n",
        "\n",
        "  model = Sequential()\n",
        "  model.add(Dense(8, input_shape=(X_train.shape[1],), kernel_initializer='normal', activation='relu'))\n",
        "  model.add(Dense(4, kernel_initializer='normal'))\n",
        "  model.add(Dense(1, kernel_initializer='normal'))\n",
        "\n",
        "  model.compile(loss='mean_squared_error', optimizer='adam')\n",
        "  return model\n",
        "\n",
        "\n",
        "def large_model():\n",
        "\n",
        "  model = Sequential()\n",
        "  model.add(Dense(36, input_shape=(X_train.shape[1],), kernel_initializer='normal', activation='relu'))\n",
        "  model.add(Dense(18, kernel_initializer='normal'))\n",
        "  model.add(Dense(9, kernel_initializer='normal'))\n",
        "  model.add(Dense(1, kernel_initializer='normal'))\n",
        "\n",
        "  model.compile(loss='mean_squared_error', optimizer='adam')\n",
        "  return model\n",
        "\n",
        "\n",
        "def deep_model():\n",
        "\n",
        "  model = Sequential()\n",
        "  model.add(Dense(8, input_shape=(X_train.shape[1],), kernel_initializer='normal', activation='relu'))\n",
        "  model.add(Dense(4, kernel_initializer='normal'))\n",
        "  model.add(Dense(2, kernel_initializer='normal'))\n",
        "  model.add(Dense(1, kernel_initializer='normal'))\n",
        "\n",
        "  model.compile(loss='mean_squared_error', optimizer='adam')\n",
        "  return model\n",
        "\n",
        "\n",
        "def wide_model():\n",
        "\n",
        "  model = Sequential()\n",
        "  model.add(Dense(36, input_shape=(X_train.shape[1],), kernel_initializer='normal', activation='relu'))\n",
        "  model.add(Dense(1, kernel_initializer='normal'))\n",
        "\n",
        "  model.compile(loss='mean_squared_error', optimizer='adam')\n",
        "  return model"
      ],
      "metadata": {
        "id": "BfXxGOWHK_dk"
      },
      "execution_count": null,
      "outputs": []
    },
    {
      "cell_type": "code",
      "source": [
        "# Initialize estimators object\n",
        "estimators = []\n",
        "\n",
        "# Standardize the data usng StandardScaler\n",
        "estimators.append(('standardize', StandardScaler()))\n",
        "\n",
        "\n",
        "# Build the model and set parameters\n",
        "estimators.append(('mlp', KerasRegressor(model=small_model, epochs=100, batch_size=5, verbose=0)))\n",
        "\n",
        "# Use pipelines to increase efficiency by doing multiple tasks at once\n",
        "pipeline = Pipeline(estimators)\n",
        "\n",
        "# Evaluate using kfold\n",
        "kfold = KFold(n_splits=10)\n",
        "\n",
        "# Train the model and show results\n",
        "results = cross_val_score(pipeline, X_train, y_train, cv=kfold, scoring='neg_mean_squared_error')\n",
        "print(\"Standardized: %.2f (%.2f) MSE\" % (results.mean(), results.std()))"
      ],
      "metadata": {
        "colab": {
          "base_uri": "https://localhost:8080/"
        },
        "id": "e8fPNgxKOJyl",
        "outputId": "133a5737-9e00-4b3b-9ecb-2db6a4655de2"
      },
      "execution_count": null,
      "outputs": [
        {
          "output_type": "stream",
          "name": "stdout",
          "text": [
            "Standardized: -105.04 (23.18) MSE\n"
          ]
        }
      ]
    },
    {
      "cell_type": "code",
      "source": [
        "# Initialize estimators object\n",
        "estimators = []\n",
        "\n",
        "# Standardize the data usng StandardScaler\n",
        "estimators.append(('standardize', StandardScaler()))\n",
        "\n",
        "\n",
        "# Build the model and set parameters\n",
        "estimators.append(('mlp', KerasRegressor(model=medium_model, epochs=100, batch_size=5, verbose=0)))\n",
        "\n",
        "# Use pipelines to increase efficiency by doing multiple tasks at once\n",
        "pipeline = Pipeline(estimators)\n",
        "\n",
        "# Evaluate using kfold\n",
        "kfold = KFold(n_splits=10)\n",
        "\n",
        "# Train the model and show results\n",
        "results = cross_val_score(pipeline, X_train, y_train, cv=kfold, scoring='neg_mean_squared_error')\n",
        "print(\"Standardized: %.2f (%.2f) MSE\" % (results.mean(), results.std()))"
      ],
      "metadata": {
        "colab": {
          "base_uri": "https://localhost:8080/"
        },
        "id": "oxGA1jpuOyW7",
        "outputId": "5c7b8edc-095d-4aed-d4ae-928c10651737"
      },
      "execution_count": null,
      "outputs": [
        {
          "output_type": "stream",
          "name": "stdout",
          "text": [
            "Standardized: -107.97 (16.09) MSE\n"
          ]
        }
      ]
    },
    {
      "cell_type": "code",
      "source": [
        "# Initialize estimators object\n",
        "estimators = []\n",
        "\n",
        "# Standardize the data usng StandardScaler\n",
        "estimators.append(('standardize', StandardScaler()))\n",
        "\n",
        "\n",
        "# Build the model and set parameters\n",
        "estimators.append(('mlp', KerasRegressor(model=large_model, epochs=100, batch_size=5, verbose=0)))\n",
        "\n",
        "# Use pipelines to increase efficiency by doing multiple tasks at once\n",
        "pipeline = Pipeline(estimators)\n",
        "\n",
        "# Evaluate using kfold\n",
        "kfold = KFold(n_splits=10)\n",
        "\n",
        "# Train the model and show results\n",
        "results = cross_val_score(pipeline, X_train, y_train, cv=kfold, scoring='neg_mean_squared_error')\n",
        "print(\"Standardized: %.2f (%.2f) MSE\" % (results.mean(), results.std()))"
      ],
      "metadata": {
        "colab": {
          "base_uri": "https://localhost:8080/"
        },
        "id": "lHILleW6Oy7S",
        "outputId": "8b975bea-590f-4d1d-9940-28e880df9692"
      },
      "execution_count": null,
      "outputs": [
        {
          "output_type": "stream",
          "name": "stdout",
          "text": [
            "Standardized: -108.63 (16.10) MSE\n"
          ]
        }
      ]
    },
    {
      "cell_type": "code",
      "source": [
        "# Initialize estimators object\n",
        "estimators = []\n",
        "\n",
        "# Standardize the data usng StandardScaler\n",
        "estimators.append(('standardize', StandardScaler()))\n",
        "\n",
        "\n",
        "# Build the model and set parameters\n",
        "estimators.append(('mlp', KerasRegressor(model=deep_model, epochs=100, batch_size=5, verbose=0)))\n",
        "\n",
        "# Use pipelines to increase efficiency by doing multiple tasks at once\n",
        "pipeline = Pipeline(estimators)\n",
        "\n",
        "# Evaluate using kfold\n",
        "kfold = KFold(n_splits=10)\n",
        "\n",
        "# Train the model and show results\n",
        "results = cross_val_score(pipeline, X_train, y_train, cv=kfold, scoring='neg_mean_squared_error')\n",
        "print(\"Standardized: %.2f (%.2f) MSE\" % (results.mean(), results.std()))"
      ],
      "metadata": {
        "colab": {
          "base_uri": "https://localhost:8080/"
        },
        "id": "BE8mIkx8O1vU",
        "outputId": "137f601c-7e29-4605-9139-9d107d044839"
      },
      "execution_count": null,
      "outputs": [
        {
          "output_type": "stream",
          "name": "stdout",
          "text": [
            "Standardized: -107.56 (15.29) MSE\n"
          ]
        }
      ]
    },
    {
      "cell_type": "code",
      "source": [
        "# Initialize estimators object\n",
        "estimators = []\n",
        "\n",
        "# Standardize the data usng StandardScaler\n",
        "estimators.append(('standardize', StandardScaler()))\n",
        "\n",
        "\n",
        "# Build the model and set parameters\n",
        "estimators.append(('mlp', KerasRegressor(model=wide_model, epochs=100, batch_size=5, verbose=0)))\n",
        "\n",
        "# Use pipelines to increase efficiency by doing multiple tasks at once\n",
        "pipeline = Pipeline(estimators)\n",
        "\n",
        "# Evaluate using kfold\n",
        "kfold = KFold(n_splits=10)\n",
        "\n",
        "# Train the model and show results\n",
        "results = cross_val_score(pipeline, X_train, y_train, cv=kfold, scoring='neg_mean_squared_error')\n",
        "print(\"Standardized: %.2f (%.2f) MSE\" % (results.mean(), results.std()))"
      ],
      "metadata": {
        "colab": {
          "base_uri": "https://localhost:8080/"
        },
        "id": "88FeshayO1pB",
        "outputId": "cfada391-59b5-457b-a847-435a0135306d"
      },
      "execution_count": null,
      "outputs": [
        {
          "output_type": "stream",
          "name": "stdout",
          "text": [
            "Standardized: -50.31 (9.91) MSE\n"
          ]
        }
      ]
    },
    {
      "cell_type": "markdown",
      "source": [
        "## Evaluation"
      ],
      "metadata": {
        "id": "Z9M6WGWv44w_"
      }
    },
    {
      "cell_type": "markdown",
      "source": [
        "Listed are the models used and their corresponding MSE rating\n",
        "- Baseline w/ -94.46 (34.29) MSE\n",
        "- Small w/ -105.04 (23.18) MSE\n",
        "- Medium w/ -107.97 (16.09) MSE\n",
        "- Large w/ -108.63 (16.10) MSE\n",
        "- Deep w/ -107.56 (15.29) MSE\n",
        "- Wide w/ -50.31 (9.91) MSE\n",
        "\n",
        "Here we can see the difference in the models and their corresponding MSE rating and standard deviation.\n",
        "\n",
        "Based on our dataset, the Wide model provided us with the least amount of std as well as least MSE, making it the most accurate."
      ],
      "metadata": {
        "id": "aWYEhfHu46MI"
      }
    }
  ]
}